{
 "cells": [
  {
   "cell_type": "code",
   "execution_count": 1,
   "metadata": {},
   "outputs": [],
   "source": [
    "# Importing required libraries\n",
    "import numpy as np\n",
    "from gurobipy import *\n",
    "import plotly.graph_objects as go\n",
    "import helper\n",
    "from tabulate import tabulate\n",
    "import matplotlib.pyplot as plt\n",
    "import seaborn as sns"
   ]
  },
  {
   "cell_type": "code",
   "execution_count": 2,
   "metadata": {},
   "outputs": [],
   "source": [
    "# Created a list of arrays for storing the list of coordinates for cities\n",
    "city_list = np.array([\n",
    "    [3, 9],       # City 0\n",
    "    [7, 7],       # City 1\n",
    "    [14, 6],      # City 2\n",
    "    [7, 4],       # City 3\n",
    "    [4, 3],       # City 4\n",
    "    [2, 7],       # City 5\n",
    "    [2, 15],      # City 6\n",
    "    [2.7, 11.5],  # City 7\n",
    "    [9, 11],      # City 8\n",
    "    [12, 14],     # City 9\n",
    "    [5, 9],       # City 10\n",
    "    [6, 5],       # City 11\n",
    "    [11, 2],      # City 12\n",
    "    [14, 12],     # City 13\n",
    "    [5, 13],      # City 14\n",
    "    [10, 5],      # City 15\n",
    "    [11, 8],      # City 16\n",
    "    [3, 2],       # City 17\n",
    "    [6, 10],      # City 18\n",
    "    [6, 3],       # City 19\n",
    "    [11, 5],      # City 20\n",
    "    [3, 8],       # City 21\n",
    "    [8.6, 9],     # City 22\n",
    "    [13, 3],      # City 23\n",
    "    [13, 10],     # City 24\n",
    "    [1.7, 1.7],   # City 25\n",
    "    [4, 4],       # City 26\n",
    "    [4, 14],      # City 27\n",
    "    [12, 6],      # City 28\n",
    "    [6, 8],       # City 29\n",
    "    [9, 2],       # City 30\n",
    "    [13, 1],      # City 31\n",
    "    [4.4, 12],    # City 32\n",
    "    [10.5, 11.5], # City 33\n",
    "    [2, 5],       # City 34\n",
    "    [7.95, 13],      # City 35\n",
    "    [8, 14],      # City 36\n",
    "    [14, 5],      # City 37\n",
    "    [3, 5],       # City 38\n",
    "    [2, 8.5],     # City 39\n",
    "    [5, 6],       # City 40\n",
    "    [11, 13],     # City 41\n",
    "    [12, 10],     # City 42\n",
    "    [8, 2],       # City 43\n",
    "    [4, 11],      # City 44\n",
    "    [9, 4],       # City 45\n",
    "    [4, 8],       # City 46\n",
    "    [2, 10.5],    # City 47\n",
    "    [12, 3],      # City 48\n",
    "    [10, 4],      # City 49\n",
    "     [5, 11],     # City 50\n",
    "    [6, 2],       # City 51\n",
    "    [8, 9],       # City 52\n",
    "    [14, 11],     # City 53\n",
    "    [2, 13],      # City 54\n",
    "    [11, 7],      # City 55\n",
    "    [9, 7],       # City 56\n",
    "    [3, 7],       # City 57\n",
    "    [11.5, 11.5],   # City 58\n",
    "    [8, 12],        # City 59\n",
    "    [7.6, 7.3],     # City 60\n",
    "    [4.6, 6.1],     # City 61\n",
    "    [14.2, 3.1],    # City 62\n",
    "    [1.6, 9.1],     # City 63\n",
    "    [9.6, 9.1],     # City 64\n",
    "    [12.6, 4.6],    # City 65\n",
    "    [10.6, 14.2],   # City 66\n",
    "    [3.1, 3.1],     # City 67\n",
    "    [8.4, 4.6],     # City 68\n",
    "    [6.1, 6.1],     # City 69\n",
    "    [13.4, 7.6],    # City 70\n",
    "    [5.4, 1.6],     # City 71\n",
    "    [3.1, 9.9],     # City 72\n",
    "    [1.6, 3.1],     # City 73\n",
    "    [12.1, 7.6],    # City 74\n",
    "    [9.1, 15],      # City 75\n",
    "    [10.9, 10.6],   # City 76\n",
    "    [7.6, 12.7],    # City 77\n",
    "    [4.6, 4.6],     # City 78\n",
    "    [14.6, 13.6],   # City 79\n",
    "    [4.2, 10.6],    # City 80\n",
    "    [2.8, 12.1],    # City 81\n",
    "    [12.1, 12.1],   # City 82\n",
    "    [9.1, 10.6],    # City 83\n",
    "    [11.3, 9],      # City 84\n",
    "    [7.6, 4.6],     # City 85\n",
    "    [3.1, 10.6],    # City 86\n",
    "    [6.2, 15],      # City 87\n",
    "    [14.1, 10.6],   # City 88\n",
    "    [13.2, 14.5],   # City 89\n",
    "    [12, 7.1],      # City 90\n",
    "    [10.8, 2.3],    # City 91\n",
    "    [13.5, 9.3],    # City 92\n",
    "    [9.4, 2.4],     # City 93\n",
    "    [14.8, 5.9],    # City 94\n",
    "    [8.3, 13.2],    # City 95\n",
    "    [11, 5.3],      # City 96\n",
    "    [3.3, 14.2],    # City 97\n",
    "    [5.8, 13],      # City 98\n",
    "    [12.7, 10.9]    # City 99\n",
    "])"
   ]
  },
  {
   "cell_type": "code",
   "execution_count": 3,
   "metadata": {},
   "outputs": [],
   "source": [
    "WAIT_LIMIT = 10 / 60  # Defined the wait limit of drones to 10 minutes\n",
    "DRONE_ENDURANCE = 30 / 60 # Defined the endurance of drones to 30 minutes\n",
    "DRONE_TRAVEL_RADIUS = 20  # Defined the drone's travel radius to 20 miles\n",
    "\n",
    "# defined Speeds in miles per hour for truck and drone\n",
    "DRONE_SPEED = 50\n",
    "TRUCK_SPEED = 35\n",
    "\n",
    "# Created a list of cities where using drone is prohibited\n",
    "DRONE_PROHIBITED_CITIES = []"
   ]
  },
  {
   "cell_type": "code",
   "execution_count": 4,
   "metadata": {},
   "outputs": [
    {
     "name": "stdout",
     "output_type": "stream",
     "text": [
      "100\n"
     ]
    }
   ],
   "source": [
    "n = len(city_list)  # number of cities\n",
    "print(n)"
   ]
  },
  {
   "cell_type": "code",
   "execution_count": 5,
   "metadata": {},
   "outputs": [],
   "source": [
    "def euclidean_distance(city1, city2):\n",
    "    return np.linalg.norm(city1 - city2)"
   ]
  },
  {
   "cell_type": "code",
   "execution_count": 6,
   "metadata": {},
   "outputs": [],
   "source": [
    "def calculate_distance_matrix(city_list):\n",
    "    n = len(city_list)\n",
    "    dist_matrix = np.zeros((n, n))\n",
    "    for i in range(n):\n",
    "        for j in range(n):\n",
    "            dist_matrix[i, j] = helper.euclidean_distance(city_list[i], city_list[j])\n",
    "    return dist_matrix"
   ]
  },
  {
   "cell_type": "code",
   "execution_count": 7,
   "metadata": {},
   "outputs": [],
   "source": [
    "# Calculating the distance matrix between cities using Euclidean distance\n",
    "dist_matrix = helper.calculate_distance_matrix(city_list)"
   ]
  },
  {
   "cell_type": "code",
   "execution_count": 8,
   "metadata": {},
   "outputs": [
    {
     "name": "stdout",
     "output_type": "stream",
     "text": [
      "Initial tour using nearest neighbor:  [0, 72, 86, 44, 80, 50, 32, 14, 98, 77, 35, 95, 36, 75, 66, 41, 9, 89, 79, 13, 53, 88, 24, 92, 42, 99, 82, 58, 33, 76, 84, 16, 55, 90, 74, 70, 2, 94, 37, 65, 28, 96, 20, 15, 49, 45, 68, 85, 3, 11, 69, 40, 61, 78, 26, 4, 67, 17, 25, 73, 34, 38, 57, 5, 21, 46, 10, 18, 29, 1, 60, 56, 22, 52, 64, 83, 8, 59, 87, 27, 97, 6, 54, 81, 7, 47, 63, 39, 19, 51, 71, 43, 30, 93, 91, 12, 48, 23, 62, 31, 0]\n"
     ]
    },
    {
     "data": {
      "application/vnd.plotly.v1+json": {
       "config": {
        "plotlyServerURL": "https://plot.ly"
       },
       "data": [
        {
         "marker": {
          "color": "black",
          "size": 10
         },
         "mode": "markers",
         "name": "City",
         "type": "scatter",
         "x": [
          3,
          7,
          14,
          7,
          4,
          2,
          2,
          2.7,
          9,
          12,
          5,
          6,
          11,
          14,
          5,
          10,
          11,
          3,
          6,
          6,
          11,
          3,
          8.6,
          13,
          13,
          1.7,
          4,
          4,
          12,
          6,
          9,
          13,
          4.4,
          10.5,
          2,
          7.95,
          8,
          14,
          3,
          2,
          5,
          11,
          12,
          8,
          4,
          9,
          4,
          2,
          12,
          10,
          5,
          6,
          8,
          14,
          2,
          11,
          9,
          3,
          11.5,
          8,
          7.6,
          4.6,
          14.2,
          1.6,
          9.6,
          12.6,
          10.6,
          3.1,
          8.4,
          6.1,
          13.4,
          5.4,
          3.1,
          1.6,
          12.1,
          9.1,
          10.9,
          7.6,
          4.6,
          14.6,
          4.2,
          2.8,
          12.1,
          9.1,
          11.3,
          7.6,
          3.1,
          6.2,
          14.1,
          13.2,
          12,
          10.8,
          13.5,
          9.4,
          14.8,
          8.3,
          11,
          3.3,
          5.8,
          12.7
         ],
         "y": [
          9,
          7,
          6,
          4,
          3,
          7,
          15,
          11.5,
          11,
          14,
          9,
          5,
          2,
          12,
          13,
          5,
          8,
          2,
          10,
          3,
          5,
          8,
          9,
          3,
          10,
          1.7,
          4,
          14,
          6,
          8,
          2,
          1,
          12,
          11.5,
          5,
          13,
          14,
          5,
          5,
          8.5,
          6,
          13,
          10,
          2,
          11,
          4,
          8,
          10.5,
          3,
          4,
          11,
          2,
          9,
          11,
          13,
          7,
          7,
          7,
          11.5,
          12,
          7.3,
          6.1,
          3.1,
          9.1,
          9.1,
          4.6,
          14.2,
          3.1,
          4.6,
          6.1,
          7.6,
          1.6,
          9.9,
          3.1,
          7.6,
          15,
          10.6,
          12.7,
          4.6,
          13.6,
          10.6,
          12.1,
          12.1,
          10.6,
          9,
          4.6,
          10.6,
          15,
          10.6,
          14.5,
          7.1,
          2.3,
          9.3,
          2.4,
          5.9,
          13.2,
          5.3,
          14.2,
          13,
          10.9
         ]
        },
        {
         "marker": {
          "color": "red",
          "size": 10,
          "symbol": "cross"
         },
         "mode": "markers",
         "name": "Drone Prohibited City",
         "type": "scatter",
         "x": [],
         "y": []
        },
        {
         "line": {
          "width": 2
         },
         "marker": {
          "color": "black",
          "size": 10
         },
         "mode": "lines",
         "name": "Truck Tour",
         "type": "scatter",
         "x": [
          3,
          3.1,
          3.1,
          4,
          4.2,
          5,
          4.4,
          5,
          5.8,
          7.6,
          7.95,
          8.3,
          8,
          9.1,
          10.6,
          11,
          12,
          13.2,
          14.6,
          14,
          14,
          14.1,
          13,
          13.5,
          12,
          12.7,
          12.1,
          11.5,
          10.5,
          10.9,
          11.3,
          11,
          11,
          12,
          12.1,
          13.4,
          14,
          14.8,
          14,
          12.6,
          12,
          11,
          11,
          10,
          10,
          9,
          8.4,
          7.6,
          7,
          6,
          6.1,
          5,
          4.6,
          4.6,
          4,
          4,
          3.1,
          3,
          1.7,
          1.6,
          2,
          3,
          3,
          2,
          3,
          4,
          5,
          6,
          6,
          7,
          7.6,
          9,
          8.6,
          8,
          9.6,
          9.1,
          9,
          8,
          6.2,
          4,
          3.3,
          2,
          2,
          2.8,
          2.7,
          2,
          1.6,
          2,
          6,
          6,
          5.4,
          8,
          9,
          9.4,
          10.8,
          11,
          12,
          13,
          14.2,
          13,
          3,
          3
         ],
         "y": [
          9,
          9.9,
          10.6,
          11,
          10.6,
          11,
          12,
          13,
          13,
          12.7,
          13,
          13.2,
          14,
          15,
          14.2,
          13,
          14,
          14.5,
          13.6,
          12,
          11,
          10.6,
          10,
          9.3,
          10,
          10.9,
          12.1,
          11.5,
          11.5,
          10.6,
          9,
          8,
          7,
          7.1,
          7.6,
          7.6,
          6,
          5.9,
          5,
          4.6,
          6,
          5.3,
          5,
          5,
          4,
          4,
          4.6,
          4.6,
          4,
          5,
          6.1,
          6,
          6.1,
          4.6,
          4,
          3,
          3.1,
          2,
          1.7,
          3.1,
          5,
          5,
          7,
          7,
          8,
          8,
          9,
          10,
          8,
          7,
          7.3,
          7,
          9,
          9,
          9.1,
          10.6,
          11,
          12,
          15,
          14,
          14.2,
          15,
          13,
          12.1,
          11.5,
          10.5,
          9.1,
          8.5,
          3,
          2,
          1.6,
          2,
          2,
          2.4,
          2.3,
          2,
          3,
          3,
          3.1,
          1,
          9,
          9
         ]
        }
       ],
       "layout": {
        "annotations": [
         {
          "font": {
           "color": "orange",
           "size": 12
          },
          "showarrow": false,
          "text": "0",
          "x": 3.35,
          "xref": "x",
          "y": 9.35,
          "yref": "y"
         },
         {
          "font": {
           "color": "orange",
           "size": 12
          },
          "showarrow": false,
          "text": "1",
          "x": 7.35,
          "xref": "x",
          "y": 7.35,
          "yref": "y"
         },
         {
          "font": {
           "color": "orange",
           "size": 12
          },
          "showarrow": false,
          "text": "2",
          "x": 14.35,
          "xref": "x",
          "y": 6.35,
          "yref": "y"
         },
         {
          "font": {
           "color": "orange",
           "size": 12
          },
          "showarrow": false,
          "text": "3",
          "x": 7.35,
          "xref": "x",
          "y": 4.35,
          "yref": "y"
         },
         {
          "font": {
           "color": "orange",
           "size": 12
          },
          "showarrow": false,
          "text": "4",
          "x": 4.35,
          "xref": "x",
          "y": 3.35,
          "yref": "y"
         },
         {
          "font": {
           "color": "orange",
           "size": 12
          },
          "showarrow": false,
          "text": "5",
          "x": 2.35,
          "xref": "x",
          "y": 7.35,
          "yref": "y"
         },
         {
          "font": {
           "color": "orange",
           "size": 12
          },
          "showarrow": false,
          "text": "6",
          "x": 2.35,
          "xref": "x",
          "y": 15.35,
          "yref": "y"
         },
         {
          "font": {
           "color": "orange",
           "size": 12
          },
          "showarrow": false,
          "text": "7",
          "x": 3.0500000000000003,
          "xref": "x",
          "y": 11.85,
          "yref": "y"
         },
         {
          "font": {
           "color": "orange",
           "size": 12
          },
          "showarrow": false,
          "text": "8",
          "x": 9.35,
          "xref": "x",
          "y": 11.35,
          "yref": "y"
         },
         {
          "font": {
           "color": "orange",
           "size": 12
          },
          "showarrow": false,
          "text": "9",
          "x": 12.35,
          "xref": "x",
          "y": 14.35,
          "yref": "y"
         },
         {
          "font": {
           "color": "orange",
           "size": 12
          },
          "showarrow": false,
          "text": "10",
          "x": 5.35,
          "xref": "x",
          "y": 9.35,
          "yref": "y"
         },
         {
          "font": {
           "color": "orange",
           "size": 12
          },
          "showarrow": false,
          "text": "11",
          "x": 6.35,
          "xref": "x",
          "y": 5.35,
          "yref": "y"
         },
         {
          "font": {
           "color": "orange",
           "size": 12
          },
          "showarrow": false,
          "text": "12",
          "x": 11.35,
          "xref": "x",
          "y": 2.35,
          "yref": "y"
         },
         {
          "font": {
           "color": "orange",
           "size": 12
          },
          "showarrow": false,
          "text": "13",
          "x": 14.35,
          "xref": "x",
          "y": 12.35,
          "yref": "y"
         },
         {
          "font": {
           "color": "orange",
           "size": 12
          },
          "showarrow": false,
          "text": "14",
          "x": 5.35,
          "xref": "x",
          "y": 13.35,
          "yref": "y"
         },
         {
          "font": {
           "color": "orange",
           "size": 12
          },
          "showarrow": false,
          "text": "15",
          "x": 10.35,
          "xref": "x",
          "y": 5.35,
          "yref": "y"
         },
         {
          "font": {
           "color": "orange",
           "size": 12
          },
          "showarrow": false,
          "text": "16",
          "x": 11.35,
          "xref": "x",
          "y": 8.35,
          "yref": "y"
         },
         {
          "font": {
           "color": "orange",
           "size": 12
          },
          "showarrow": false,
          "text": "17",
          "x": 3.35,
          "xref": "x",
          "y": 2.35,
          "yref": "y"
         },
         {
          "font": {
           "color": "orange",
           "size": 12
          },
          "showarrow": false,
          "text": "18",
          "x": 6.35,
          "xref": "x",
          "y": 10.35,
          "yref": "y"
         },
         {
          "font": {
           "color": "orange",
           "size": 12
          },
          "showarrow": false,
          "text": "19",
          "x": 6.35,
          "xref": "x",
          "y": 3.35,
          "yref": "y"
         },
         {
          "font": {
           "color": "orange",
           "size": 12
          },
          "showarrow": false,
          "text": "20",
          "x": 11.35,
          "xref": "x",
          "y": 5.35,
          "yref": "y"
         },
         {
          "font": {
           "color": "orange",
           "size": 12
          },
          "showarrow": false,
          "text": "21",
          "x": 3.35,
          "xref": "x",
          "y": 8.35,
          "yref": "y"
         },
         {
          "font": {
           "color": "orange",
           "size": 12
          },
          "showarrow": false,
          "text": "22",
          "x": 8.95,
          "xref": "x",
          "y": 9.35,
          "yref": "y"
         },
         {
          "font": {
           "color": "orange",
           "size": 12
          },
          "showarrow": false,
          "text": "23",
          "x": 13.35,
          "xref": "x",
          "y": 3.35,
          "yref": "y"
         },
         {
          "font": {
           "color": "orange",
           "size": 12
          },
          "showarrow": false,
          "text": "24",
          "x": 13.35,
          "xref": "x",
          "y": 10.35,
          "yref": "y"
         },
         {
          "font": {
           "color": "orange",
           "size": 12
          },
          "showarrow": false,
          "text": "25",
          "x": 2.05,
          "xref": "x",
          "y": 2.05,
          "yref": "y"
         },
         {
          "font": {
           "color": "orange",
           "size": 12
          },
          "showarrow": false,
          "text": "26",
          "x": 4.35,
          "xref": "x",
          "y": 4.35,
          "yref": "y"
         },
         {
          "font": {
           "color": "orange",
           "size": 12
          },
          "showarrow": false,
          "text": "27",
          "x": 4.35,
          "xref": "x",
          "y": 14.35,
          "yref": "y"
         },
         {
          "font": {
           "color": "orange",
           "size": 12
          },
          "showarrow": false,
          "text": "28",
          "x": 12.35,
          "xref": "x",
          "y": 6.35,
          "yref": "y"
         },
         {
          "font": {
           "color": "orange",
           "size": 12
          },
          "showarrow": false,
          "text": "29",
          "x": 6.35,
          "xref": "x",
          "y": 8.35,
          "yref": "y"
         },
         {
          "font": {
           "color": "orange",
           "size": 12
          },
          "showarrow": false,
          "text": "30",
          "x": 9.35,
          "xref": "x",
          "y": 2.35,
          "yref": "y"
         },
         {
          "font": {
           "color": "orange",
           "size": 12
          },
          "showarrow": false,
          "text": "31",
          "x": 13.35,
          "xref": "x",
          "y": 1.35,
          "yref": "y"
         },
         {
          "font": {
           "color": "orange",
           "size": 12
          },
          "showarrow": false,
          "text": "32",
          "x": 4.75,
          "xref": "x",
          "y": 12.35,
          "yref": "y"
         },
         {
          "font": {
           "color": "orange",
           "size": 12
          },
          "showarrow": false,
          "text": "33",
          "x": 10.85,
          "xref": "x",
          "y": 11.85,
          "yref": "y"
         },
         {
          "font": {
           "color": "orange",
           "size": 12
          },
          "showarrow": false,
          "text": "34",
          "x": 2.35,
          "xref": "x",
          "y": 5.35,
          "yref": "y"
         },
         {
          "font": {
           "color": "orange",
           "size": 12
          },
          "showarrow": false,
          "text": "35",
          "x": 8.3,
          "xref": "x",
          "y": 13.35,
          "yref": "y"
         },
         {
          "font": {
           "color": "orange",
           "size": 12
          },
          "showarrow": false,
          "text": "36",
          "x": 8.35,
          "xref": "x",
          "y": 14.35,
          "yref": "y"
         },
         {
          "font": {
           "color": "orange",
           "size": 12
          },
          "showarrow": false,
          "text": "37",
          "x": 14.35,
          "xref": "x",
          "y": 5.35,
          "yref": "y"
         },
         {
          "font": {
           "color": "orange",
           "size": 12
          },
          "showarrow": false,
          "text": "38",
          "x": 3.35,
          "xref": "x",
          "y": 5.35,
          "yref": "y"
         },
         {
          "font": {
           "color": "orange",
           "size": 12
          },
          "showarrow": false,
          "text": "39",
          "x": 2.35,
          "xref": "x",
          "y": 8.85,
          "yref": "y"
         },
         {
          "font": {
           "color": "orange",
           "size": 12
          },
          "showarrow": false,
          "text": "40",
          "x": 5.35,
          "xref": "x",
          "y": 6.35,
          "yref": "y"
         },
         {
          "font": {
           "color": "orange",
           "size": 12
          },
          "showarrow": false,
          "text": "41",
          "x": 11.35,
          "xref": "x",
          "y": 13.35,
          "yref": "y"
         },
         {
          "font": {
           "color": "orange",
           "size": 12
          },
          "showarrow": false,
          "text": "42",
          "x": 12.35,
          "xref": "x",
          "y": 10.35,
          "yref": "y"
         },
         {
          "font": {
           "color": "orange",
           "size": 12
          },
          "showarrow": false,
          "text": "43",
          "x": 8.35,
          "xref": "x",
          "y": 2.35,
          "yref": "y"
         },
         {
          "font": {
           "color": "orange",
           "size": 12
          },
          "showarrow": false,
          "text": "44",
          "x": 4.35,
          "xref": "x",
          "y": 11.35,
          "yref": "y"
         },
         {
          "font": {
           "color": "orange",
           "size": 12
          },
          "showarrow": false,
          "text": "45",
          "x": 9.35,
          "xref": "x",
          "y": 4.35,
          "yref": "y"
         },
         {
          "font": {
           "color": "orange",
           "size": 12
          },
          "showarrow": false,
          "text": "46",
          "x": 4.35,
          "xref": "x",
          "y": 8.35,
          "yref": "y"
         },
         {
          "font": {
           "color": "orange",
           "size": 12
          },
          "showarrow": false,
          "text": "47",
          "x": 2.35,
          "xref": "x",
          "y": 10.85,
          "yref": "y"
         },
         {
          "font": {
           "color": "orange",
           "size": 12
          },
          "showarrow": false,
          "text": "48",
          "x": 12.35,
          "xref": "x",
          "y": 3.35,
          "yref": "y"
         },
         {
          "font": {
           "color": "orange",
           "size": 12
          },
          "showarrow": false,
          "text": "49",
          "x": 10.35,
          "xref": "x",
          "y": 4.35,
          "yref": "y"
         },
         {
          "font": {
           "color": "orange",
           "size": 12
          },
          "showarrow": false,
          "text": "50",
          "x": 5.35,
          "xref": "x",
          "y": 11.35,
          "yref": "y"
         },
         {
          "font": {
           "color": "orange",
           "size": 12
          },
          "showarrow": false,
          "text": "51",
          "x": 6.35,
          "xref": "x",
          "y": 2.35,
          "yref": "y"
         },
         {
          "font": {
           "color": "orange",
           "size": 12
          },
          "showarrow": false,
          "text": "52",
          "x": 8.35,
          "xref": "x",
          "y": 9.35,
          "yref": "y"
         },
         {
          "font": {
           "color": "orange",
           "size": 12
          },
          "showarrow": false,
          "text": "53",
          "x": 14.35,
          "xref": "x",
          "y": 11.35,
          "yref": "y"
         },
         {
          "font": {
           "color": "orange",
           "size": 12
          },
          "showarrow": false,
          "text": "54",
          "x": 2.35,
          "xref": "x",
          "y": 13.35,
          "yref": "y"
         },
         {
          "font": {
           "color": "orange",
           "size": 12
          },
          "showarrow": false,
          "text": "55",
          "x": 11.35,
          "xref": "x",
          "y": 7.35,
          "yref": "y"
         },
         {
          "font": {
           "color": "orange",
           "size": 12
          },
          "showarrow": false,
          "text": "56",
          "x": 9.35,
          "xref": "x",
          "y": 7.35,
          "yref": "y"
         },
         {
          "font": {
           "color": "orange",
           "size": 12
          },
          "showarrow": false,
          "text": "57",
          "x": 3.35,
          "xref": "x",
          "y": 7.35,
          "yref": "y"
         },
         {
          "font": {
           "color": "orange",
           "size": 12
          },
          "showarrow": false,
          "text": "58",
          "x": 11.85,
          "xref": "x",
          "y": 11.85,
          "yref": "y"
         },
         {
          "font": {
           "color": "orange",
           "size": 12
          },
          "showarrow": false,
          "text": "59",
          "x": 8.35,
          "xref": "x",
          "y": 12.35,
          "yref": "y"
         },
         {
          "font": {
           "color": "orange",
           "size": 12
          },
          "showarrow": false,
          "text": "60",
          "x": 7.949999999999999,
          "xref": "x",
          "y": 7.6499999999999995,
          "yref": "y"
         },
         {
          "font": {
           "color": "orange",
           "size": 12
          },
          "showarrow": false,
          "text": "61",
          "x": 4.949999999999999,
          "xref": "x",
          "y": 6.449999999999999,
          "yref": "y"
         },
         {
          "font": {
           "color": "orange",
           "size": 12
          },
          "showarrow": false,
          "text": "62",
          "x": 14.549999999999999,
          "xref": "x",
          "y": 3.45,
          "yref": "y"
         },
         {
          "font": {
           "color": "orange",
           "size": 12
          },
          "showarrow": false,
          "text": "63",
          "x": 1.9500000000000002,
          "xref": "x",
          "y": 9.45,
          "yref": "y"
         },
         {
          "font": {
           "color": "orange",
           "size": 12
          },
          "showarrow": false,
          "text": "64",
          "x": 9.95,
          "xref": "x",
          "y": 9.45,
          "yref": "y"
         },
         {
          "font": {
           "color": "orange",
           "size": 12
          },
          "showarrow": false,
          "text": "65",
          "x": 12.95,
          "xref": "x",
          "y": 4.949999999999999,
          "yref": "y"
         },
         {
          "font": {
           "color": "orange",
           "size": 12
          },
          "showarrow": false,
          "text": "66",
          "x": 10.95,
          "xref": "x",
          "y": 14.549999999999999,
          "yref": "y"
         },
         {
          "font": {
           "color": "orange",
           "size": 12
          },
          "showarrow": false,
          "text": "67",
          "x": 3.45,
          "xref": "x",
          "y": 3.45,
          "yref": "y"
         },
         {
          "font": {
           "color": "orange",
           "size": 12
          },
          "showarrow": false,
          "text": "68",
          "x": 8.75,
          "xref": "x",
          "y": 4.949999999999999,
          "yref": "y"
         },
         {
          "font": {
           "color": "orange",
           "size": 12
          },
          "showarrow": false,
          "text": "69",
          "x": 6.449999999999999,
          "xref": "x",
          "y": 6.449999999999999,
          "yref": "y"
         },
         {
          "font": {
           "color": "orange",
           "size": 12
          },
          "showarrow": false,
          "text": "70",
          "x": 13.75,
          "xref": "x",
          "y": 7.949999999999999,
          "yref": "y"
         },
         {
          "font": {
           "color": "orange",
           "size": 12
          },
          "showarrow": false,
          "text": "71",
          "x": 5.75,
          "xref": "x",
          "y": 1.9500000000000002,
          "yref": "y"
         },
         {
          "font": {
           "color": "orange",
           "size": 12
          },
          "showarrow": false,
          "text": "72",
          "x": 3.45,
          "xref": "x",
          "y": 10.25,
          "yref": "y"
         },
         {
          "font": {
           "color": "orange",
           "size": 12
          },
          "showarrow": false,
          "text": "73",
          "x": 1.9500000000000002,
          "xref": "x",
          "y": 3.45,
          "yref": "y"
         },
         {
          "font": {
           "color": "orange",
           "size": 12
          },
          "showarrow": false,
          "text": "74",
          "x": 12.45,
          "xref": "x",
          "y": 7.949999999999999,
          "yref": "y"
         },
         {
          "font": {
           "color": "orange",
           "size": 12
          },
          "showarrow": false,
          "text": "75",
          "x": 9.45,
          "xref": "x",
          "y": 15.35,
          "yref": "y"
         },
         {
          "font": {
           "color": "orange",
           "size": 12
          },
          "showarrow": false,
          "text": "76",
          "x": 11.25,
          "xref": "x",
          "y": 10.95,
          "yref": "y"
         },
         {
          "font": {
           "color": "orange",
           "size": 12
          },
          "showarrow": false,
          "text": "77",
          "x": 7.949999999999999,
          "xref": "x",
          "y": 13.049999999999999,
          "yref": "y"
         },
         {
          "font": {
           "color": "orange",
           "size": 12
          },
          "showarrow": false,
          "text": "78",
          "x": 4.949999999999999,
          "xref": "x",
          "y": 4.949999999999999,
          "yref": "y"
         },
         {
          "font": {
           "color": "orange",
           "size": 12
          },
          "showarrow": false,
          "text": "79",
          "x": 14.95,
          "xref": "x",
          "y": 13.95,
          "yref": "y"
         },
         {
          "font": {
           "color": "orange",
           "size": 12
          },
          "showarrow": false,
          "text": "80",
          "x": 4.55,
          "xref": "x",
          "y": 10.95,
          "yref": "y"
         },
         {
          "font": {
           "color": "orange",
           "size": 12
          },
          "showarrow": false,
          "text": "81",
          "x": 3.15,
          "xref": "x",
          "y": 12.45,
          "yref": "y"
         },
         {
          "font": {
           "color": "orange",
           "size": 12
          },
          "showarrow": false,
          "text": "82",
          "x": 12.45,
          "xref": "x",
          "y": 12.45,
          "yref": "y"
         },
         {
          "font": {
           "color": "orange",
           "size": 12
          },
          "showarrow": false,
          "text": "83",
          "x": 9.45,
          "xref": "x",
          "y": 10.95,
          "yref": "y"
         },
         {
          "font": {
           "color": "orange",
           "size": 12
          },
          "showarrow": false,
          "text": "84",
          "x": 11.65,
          "xref": "x",
          "y": 9.35,
          "yref": "y"
         },
         {
          "font": {
           "color": "orange",
           "size": 12
          },
          "showarrow": false,
          "text": "85",
          "x": 7.949999999999999,
          "xref": "x",
          "y": 4.949999999999999,
          "yref": "y"
         },
         {
          "font": {
           "color": "orange",
           "size": 12
          },
          "showarrow": false,
          "text": "86",
          "x": 3.45,
          "xref": "x",
          "y": 10.95,
          "yref": "y"
         },
         {
          "font": {
           "color": "orange",
           "size": 12
          },
          "showarrow": false,
          "text": "87",
          "x": 6.55,
          "xref": "x",
          "y": 15.35,
          "yref": "y"
         },
         {
          "font": {
           "color": "orange",
           "size": 12
          },
          "showarrow": false,
          "text": "88",
          "x": 14.45,
          "xref": "x",
          "y": 10.95,
          "yref": "y"
         },
         {
          "font": {
           "color": "orange",
           "size": 12
          },
          "showarrow": false,
          "text": "89",
          "x": 13.549999999999999,
          "xref": "x",
          "y": 14.85,
          "yref": "y"
         },
         {
          "font": {
           "color": "orange",
           "size": 12
          },
          "showarrow": false,
          "text": "90",
          "x": 12.35,
          "xref": "x",
          "y": 7.449999999999999,
          "yref": "y"
         },
         {
          "font": {
           "color": "orange",
           "size": 12
          },
          "showarrow": false,
          "text": "91",
          "x": 11.15,
          "xref": "x",
          "y": 2.65,
          "yref": "y"
         },
         {
          "font": {
           "color": "orange",
           "size": 12
          },
          "showarrow": false,
          "text": "92",
          "x": 13.85,
          "xref": "x",
          "y": 9.65,
          "yref": "y"
         },
         {
          "font": {
           "color": "orange",
           "size": 12
          },
          "showarrow": false,
          "text": "93",
          "x": 9.75,
          "xref": "x",
          "y": 2.75,
          "yref": "y"
         },
         {
          "font": {
           "color": "orange",
           "size": 12
          },
          "showarrow": false,
          "text": "94",
          "x": 15.15,
          "xref": "x",
          "y": 6.25,
          "yref": "y"
         },
         {
          "font": {
           "color": "orange",
           "size": 12
          },
          "showarrow": false,
          "text": "95",
          "x": 8.65,
          "xref": "x",
          "y": 13.549999999999999,
          "yref": "y"
         },
         {
          "font": {
           "color": "orange",
           "size": 12
          },
          "showarrow": false,
          "text": "96",
          "x": 11.35,
          "xref": "x",
          "y": 5.6499999999999995,
          "yref": "y"
         },
         {
          "font": {
           "color": "orange",
           "size": 12
          },
          "showarrow": false,
          "text": "97",
          "x": 3.65,
          "xref": "x",
          "y": 14.549999999999999,
          "yref": "y"
         },
         {
          "font": {
           "color": "orange",
           "size": 12
          },
          "showarrow": false,
          "text": "98",
          "x": 6.1499999999999995,
          "xref": "x",
          "y": 13.35,
          "yref": "y"
         },
         {
          "font": {
           "color": "orange",
           "size": 12
          },
          "showarrow": false,
          "text": "99",
          "x": 13.049999999999999,
          "xref": "x",
          "y": 11.25,
          "yref": "y"
         }
        ],
        "autosize": false,
        "height": 800,
        "template": {
         "data": {
          "bar": [
           {
            "error_x": {
             "color": "#2a3f5f"
            },
            "error_y": {
             "color": "#2a3f5f"
            },
            "marker": {
             "line": {
              "color": "#E5ECF6",
              "width": 0.5
             },
             "pattern": {
              "fillmode": "overlay",
              "size": 10,
              "solidity": 0.2
             }
            },
            "type": "bar"
           }
          ],
          "barpolar": [
           {
            "marker": {
             "line": {
              "color": "#E5ECF6",
              "width": 0.5
             },
             "pattern": {
              "fillmode": "overlay",
              "size": 10,
              "solidity": 0.2
             }
            },
            "type": "barpolar"
           }
          ],
          "carpet": [
           {
            "aaxis": {
             "endlinecolor": "#2a3f5f",
             "gridcolor": "white",
             "linecolor": "white",
             "minorgridcolor": "white",
             "startlinecolor": "#2a3f5f"
            },
            "baxis": {
             "endlinecolor": "#2a3f5f",
             "gridcolor": "white",
             "linecolor": "white",
             "minorgridcolor": "white",
             "startlinecolor": "#2a3f5f"
            },
            "type": "carpet"
           }
          ],
          "choropleth": [
           {
            "colorbar": {
             "outlinewidth": 0,
             "ticks": ""
            },
            "type": "choropleth"
           }
          ],
          "contour": [
           {
            "colorbar": {
             "outlinewidth": 0,
             "ticks": ""
            },
            "colorscale": [
             [
              0,
              "#0d0887"
             ],
             [
              0.1111111111111111,
              "#46039f"
             ],
             [
              0.2222222222222222,
              "#7201a8"
             ],
             [
              0.3333333333333333,
              "#9c179e"
             ],
             [
              0.4444444444444444,
              "#bd3786"
             ],
             [
              0.5555555555555556,
              "#d8576b"
             ],
             [
              0.6666666666666666,
              "#ed7953"
             ],
             [
              0.7777777777777778,
              "#fb9f3a"
             ],
             [
              0.8888888888888888,
              "#fdca26"
             ],
             [
              1,
              "#f0f921"
             ]
            ],
            "type": "contour"
           }
          ],
          "contourcarpet": [
           {
            "colorbar": {
             "outlinewidth": 0,
             "ticks": ""
            },
            "type": "contourcarpet"
           }
          ],
          "heatmap": [
           {
            "colorbar": {
             "outlinewidth": 0,
             "ticks": ""
            },
            "colorscale": [
             [
              0,
              "#0d0887"
             ],
             [
              0.1111111111111111,
              "#46039f"
             ],
             [
              0.2222222222222222,
              "#7201a8"
             ],
             [
              0.3333333333333333,
              "#9c179e"
             ],
             [
              0.4444444444444444,
              "#bd3786"
             ],
             [
              0.5555555555555556,
              "#d8576b"
             ],
             [
              0.6666666666666666,
              "#ed7953"
             ],
             [
              0.7777777777777778,
              "#fb9f3a"
             ],
             [
              0.8888888888888888,
              "#fdca26"
             ],
             [
              1,
              "#f0f921"
             ]
            ],
            "type": "heatmap"
           }
          ],
          "heatmapgl": [
           {
            "colorbar": {
             "outlinewidth": 0,
             "ticks": ""
            },
            "colorscale": [
             [
              0,
              "#0d0887"
             ],
             [
              0.1111111111111111,
              "#46039f"
             ],
             [
              0.2222222222222222,
              "#7201a8"
             ],
             [
              0.3333333333333333,
              "#9c179e"
             ],
             [
              0.4444444444444444,
              "#bd3786"
             ],
             [
              0.5555555555555556,
              "#d8576b"
             ],
             [
              0.6666666666666666,
              "#ed7953"
             ],
             [
              0.7777777777777778,
              "#fb9f3a"
             ],
             [
              0.8888888888888888,
              "#fdca26"
             ],
             [
              1,
              "#f0f921"
             ]
            ],
            "type": "heatmapgl"
           }
          ],
          "histogram": [
           {
            "marker": {
             "pattern": {
              "fillmode": "overlay",
              "size": 10,
              "solidity": 0.2
             }
            },
            "type": "histogram"
           }
          ],
          "histogram2d": [
           {
            "colorbar": {
             "outlinewidth": 0,
             "ticks": ""
            },
            "colorscale": [
             [
              0,
              "#0d0887"
             ],
             [
              0.1111111111111111,
              "#46039f"
             ],
             [
              0.2222222222222222,
              "#7201a8"
             ],
             [
              0.3333333333333333,
              "#9c179e"
             ],
             [
              0.4444444444444444,
              "#bd3786"
             ],
             [
              0.5555555555555556,
              "#d8576b"
             ],
             [
              0.6666666666666666,
              "#ed7953"
             ],
             [
              0.7777777777777778,
              "#fb9f3a"
             ],
             [
              0.8888888888888888,
              "#fdca26"
             ],
             [
              1,
              "#f0f921"
             ]
            ],
            "type": "histogram2d"
           }
          ],
          "histogram2dcontour": [
           {
            "colorbar": {
             "outlinewidth": 0,
             "ticks": ""
            },
            "colorscale": [
             [
              0,
              "#0d0887"
             ],
             [
              0.1111111111111111,
              "#46039f"
             ],
             [
              0.2222222222222222,
              "#7201a8"
             ],
             [
              0.3333333333333333,
              "#9c179e"
             ],
             [
              0.4444444444444444,
              "#bd3786"
             ],
             [
              0.5555555555555556,
              "#d8576b"
             ],
             [
              0.6666666666666666,
              "#ed7953"
             ],
             [
              0.7777777777777778,
              "#fb9f3a"
             ],
             [
              0.8888888888888888,
              "#fdca26"
             ],
             [
              1,
              "#f0f921"
             ]
            ],
            "type": "histogram2dcontour"
           }
          ],
          "mesh3d": [
           {
            "colorbar": {
             "outlinewidth": 0,
             "ticks": ""
            },
            "type": "mesh3d"
           }
          ],
          "parcoords": [
           {
            "line": {
             "colorbar": {
              "outlinewidth": 0,
              "ticks": ""
             }
            },
            "type": "parcoords"
           }
          ],
          "pie": [
           {
            "automargin": true,
            "type": "pie"
           }
          ],
          "scatter": [
           {
            "fillpattern": {
             "fillmode": "overlay",
             "size": 10,
             "solidity": 0.2
            },
            "type": "scatter"
           }
          ],
          "scatter3d": [
           {
            "line": {
             "colorbar": {
              "outlinewidth": 0,
              "ticks": ""
             }
            },
            "marker": {
             "colorbar": {
              "outlinewidth": 0,
              "ticks": ""
             }
            },
            "type": "scatter3d"
           }
          ],
          "scattercarpet": [
           {
            "marker": {
             "colorbar": {
              "outlinewidth": 0,
              "ticks": ""
             }
            },
            "type": "scattercarpet"
           }
          ],
          "scattergeo": [
           {
            "marker": {
             "colorbar": {
              "outlinewidth": 0,
              "ticks": ""
             }
            },
            "type": "scattergeo"
           }
          ],
          "scattergl": [
           {
            "marker": {
             "colorbar": {
              "outlinewidth": 0,
              "ticks": ""
             }
            },
            "type": "scattergl"
           }
          ],
          "scattermapbox": [
           {
            "marker": {
             "colorbar": {
              "outlinewidth": 0,
              "ticks": ""
             }
            },
            "type": "scattermapbox"
           }
          ],
          "scatterpolar": [
           {
            "marker": {
             "colorbar": {
              "outlinewidth": 0,
              "ticks": ""
             }
            },
            "type": "scatterpolar"
           }
          ],
          "scatterpolargl": [
           {
            "marker": {
             "colorbar": {
              "outlinewidth": 0,
              "ticks": ""
             }
            },
            "type": "scatterpolargl"
           }
          ],
          "scatterternary": [
           {
            "marker": {
             "colorbar": {
              "outlinewidth": 0,
              "ticks": ""
             }
            },
            "type": "scatterternary"
           }
          ],
          "surface": [
           {
            "colorbar": {
             "outlinewidth": 0,
             "ticks": ""
            },
            "colorscale": [
             [
              0,
              "#0d0887"
             ],
             [
              0.1111111111111111,
              "#46039f"
             ],
             [
              0.2222222222222222,
              "#7201a8"
             ],
             [
              0.3333333333333333,
              "#9c179e"
             ],
             [
              0.4444444444444444,
              "#bd3786"
             ],
             [
              0.5555555555555556,
              "#d8576b"
             ],
             [
              0.6666666666666666,
              "#ed7953"
             ],
             [
              0.7777777777777778,
              "#fb9f3a"
             ],
             [
              0.8888888888888888,
              "#fdca26"
             ],
             [
              1,
              "#f0f921"
             ]
            ],
            "type": "surface"
           }
          ],
          "table": [
           {
            "cells": {
             "fill": {
              "color": "#EBF0F8"
             },
             "line": {
              "color": "white"
             }
            },
            "header": {
             "fill": {
              "color": "#C8D4E3"
             },
             "line": {
              "color": "white"
             }
            },
            "type": "table"
           }
          ]
         },
         "layout": {
          "annotationdefaults": {
           "arrowcolor": "#2a3f5f",
           "arrowhead": 0,
           "arrowwidth": 1
          },
          "autotypenumbers": "strict",
          "coloraxis": {
           "colorbar": {
            "outlinewidth": 0,
            "ticks": ""
           }
          },
          "colorscale": {
           "diverging": [
            [
             0,
             "#8e0152"
            ],
            [
             0.1,
             "#c51b7d"
            ],
            [
             0.2,
             "#de77ae"
            ],
            [
             0.3,
             "#f1b6da"
            ],
            [
             0.4,
             "#fde0ef"
            ],
            [
             0.5,
             "#f7f7f7"
            ],
            [
             0.6,
             "#e6f5d0"
            ],
            [
             0.7,
             "#b8e186"
            ],
            [
             0.8,
             "#7fbc41"
            ],
            [
             0.9,
             "#4d9221"
            ],
            [
             1,
             "#276419"
            ]
           ],
           "sequential": [
            [
             0,
             "#0d0887"
            ],
            [
             0.1111111111111111,
             "#46039f"
            ],
            [
             0.2222222222222222,
             "#7201a8"
            ],
            [
             0.3333333333333333,
             "#9c179e"
            ],
            [
             0.4444444444444444,
             "#bd3786"
            ],
            [
             0.5555555555555556,
             "#d8576b"
            ],
            [
             0.6666666666666666,
             "#ed7953"
            ],
            [
             0.7777777777777778,
             "#fb9f3a"
            ],
            [
             0.8888888888888888,
             "#fdca26"
            ],
            [
             1,
             "#f0f921"
            ]
           ],
           "sequentialminus": [
            [
             0,
             "#0d0887"
            ],
            [
             0.1111111111111111,
             "#46039f"
            ],
            [
             0.2222222222222222,
             "#7201a8"
            ],
            [
             0.3333333333333333,
             "#9c179e"
            ],
            [
             0.4444444444444444,
             "#bd3786"
            ],
            [
             0.5555555555555556,
             "#d8576b"
            ],
            [
             0.6666666666666666,
             "#ed7953"
            ],
            [
             0.7777777777777778,
             "#fb9f3a"
            ],
            [
             0.8888888888888888,
             "#fdca26"
            ],
            [
             1,
             "#f0f921"
            ]
           ]
          },
          "colorway": [
           "#636efa",
           "#EF553B",
           "#00cc96",
           "#ab63fa",
           "#FFA15A",
           "#19d3f3",
           "#FF6692",
           "#B6E880",
           "#FF97FF",
           "#FECB52"
          ],
          "font": {
           "color": "#2a3f5f"
          },
          "geo": {
           "bgcolor": "white",
           "lakecolor": "white",
           "landcolor": "#E5ECF6",
           "showlakes": true,
           "showland": true,
           "subunitcolor": "white"
          },
          "hoverlabel": {
           "align": "left"
          },
          "hovermode": "closest",
          "mapbox": {
           "style": "light"
          },
          "paper_bgcolor": "white",
          "plot_bgcolor": "#E5ECF6",
          "polar": {
           "angularaxis": {
            "gridcolor": "white",
            "linecolor": "white",
            "ticks": ""
           },
           "bgcolor": "#E5ECF6",
           "radialaxis": {
            "gridcolor": "white",
            "linecolor": "white",
            "ticks": ""
           }
          },
          "scene": {
           "xaxis": {
            "backgroundcolor": "#E5ECF6",
            "gridcolor": "white",
            "gridwidth": 2,
            "linecolor": "white",
            "showbackground": true,
            "ticks": "",
            "zerolinecolor": "white"
           },
           "yaxis": {
            "backgroundcolor": "#E5ECF6",
            "gridcolor": "white",
            "gridwidth": 2,
            "linecolor": "white",
            "showbackground": true,
            "ticks": "",
            "zerolinecolor": "white"
           },
           "zaxis": {
            "backgroundcolor": "#E5ECF6",
            "gridcolor": "white",
            "gridwidth": 2,
            "linecolor": "white",
            "showbackground": true,
            "ticks": "",
            "zerolinecolor": "white"
           }
          },
          "shapedefaults": {
           "line": {
            "color": "#2a3f5f"
           }
          },
          "ternary": {
           "aaxis": {
            "gridcolor": "white",
            "linecolor": "white",
            "ticks": ""
           },
           "baxis": {
            "gridcolor": "white",
            "linecolor": "white",
            "ticks": ""
           },
           "bgcolor": "#E5ECF6",
           "caxis": {
            "gridcolor": "white",
            "linecolor": "white",
            "ticks": ""
           }
          },
          "title": {
           "x": 0.05
          },
          "xaxis": {
           "automargin": true,
           "gridcolor": "white",
           "linecolor": "white",
           "ticks": "",
           "title": {
            "standoff": 15
           },
           "zerolinecolor": "white",
           "zerolinewidth": 2
          },
          "yaxis": {
           "automargin": true,
           "gridcolor": "white",
           "linecolor": "white",
           "ticks": "",
           "title": {
            "standoff": 15
           },
           "zerolinecolor": "white",
           "zerolinewidth": 2
          }
         }
        },
        "title": {
         "text": "Nearest Neighbour Truck Tour"
        },
        "width": 800,
        "xaxis": {
         "constrain": "domain",
         "tickvals": [
          0,
          2,
          4,
          6,
          8,
          10,
          12,
          14,
          16,
          18,
          20,
          22,
          24
         ]
        },
        "yaxis": {
         "scaleanchor": "x",
         "tickvals": [
          0,
          2,
          4,
          6,
          8,
          10,
          12,
          14,
          16,
          18,
          20,
          22,
          24
         ]
        }
       }
      }
     },
     "metadata": {},
     "output_type": "display_data"
    },
    {
     "name": "stdout",
     "output_type": "stream",
     "text": [
      "Total Distance: 137.05575027718032\n"
     ]
    }
   ],
   "source": [
    "# Formed an initial tour for two-opt heuristic using nearest neighbour\n",
    "initial_tour = helper.nearest_neighbor(city_list)\n",
    "print(\"Initial tour using nearest neighbor: \", initial_tour)\n",
    "\n",
    "helper.plot_tour(city_list, initial_tour, DRONE_PROHIBITED_CITIES, \"Nearest Neighbour Truck Tour\")\n",
    "\n",
    "# Calculate the total distance of the tour drawn by nearest neighbour method\n",
    "total_distance_nearest_neighbour = helper.calculate_total_distance_time(initial_tour, dist_matrix)\n",
    "print(\"Total Distance:\", total_distance_nearest_neighbour)"
   ]
  },
  {
   "cell_type": "code",
   "execution_count": 9,
   "metadata": {},
   "outputs": [
    {
     "data": {
      "application/vnd.plotly.v1+json": {
       "config": {
        "plotlyServerURL": "https://plot.ly"
       },
       "data": [
        {
         "marker": {
          "color": "black",
          "size": 10
         },
         "mode": "markers",
         "name": "City",
         "type": "scatter",
         "x": [
          3,
          7,
          14,
          7,
          4,
          2,
          2,
          2.7,
          9,
          12,
          5,
          6,
          11,
          14,
          5,
          10,
          11,
          3,
          6,
          6,
          11,
          3,
          8.6,
          13,
          13,
          1.7,
          4,
          4,
          12,
          6,
          9,
          13,
          4.4,
          10.5,
          2,
          7.95,
          8,
          14,
          3,
          2,
          5,
          11,
          12,
          8,
          4,
          9,
          4,
          2,
          12,
          10,
          5,
          6,
          8,
          14,
          2,
          11,
          9,
          3,
          11.5,
          8,
          7.6,
          4.6,
          14.2,
          1.6,
          9.6,
          12.6,
          10.6,
          3.1,
          8.4,
          6.1,
          13.4,
          5.4,
          3.1,
          1.6,
          12.1,
          9.1,
          10.9,
          7.6,
          4.6,
          14.6,
          4.2,
          2.8,
          12.1,
          9.1,
          11.3,
          7.6,
          3.1,
          6.2,
          14.1,
          13.2,
          12,
          10.8,
          13.5,
          9.4,
          14.8,
          8.3,
          11,
          3.3,
          5.8,
          12.7
         ],
         "y": [
          9,
          7,
          6,
          4,
          3,
          7,
          15,
          11.5,
          11,
          14,
          9,
          5,
          2,
          12,
          13,
          5,
          8,
          2,
          10,
          3,
          5,
          8,
          9,
          3,
          10,
          1.7,
          4,
          14,
          6,
          8,
          2,
          1,
          12,
          11.5,
          5,
          13,
          14,
          5,
          5,
          8.5,
          6,
          13,
          10,
          2,
          11,
          4,
          8,
          10.5,
          3,
          4,
          11,
          2,
          9,
          11,
          13,
          7,
          7,
          7,
          11.5,
          12,
          7.3,
          6.1,
          3.1,
          9.1,
          9.1,
          4.6,
          14.2,
          3.1,
          4.6,
          6.1,
          7.6,
          1.6,
          9.9,
          3.1,
          7.6,
          15,
          10.6,
          12.7,
          4.6,
          13.6,
          10.6,
          12.1,
          12.1,
          10.6,
          9,
          4.6,
          10.6,
          15,
          10.6,
          14.5,
          7.1,
          2.3,
          9.3,
          2.4,
          5.9,
          13.2,
          5.3,
          14.2,
          13,
          10.9
         ]
        },
        {
         "marker": {
          "color": "red",
          "size": 10,
          "symbol": "cross"
         },
         "mode": "markers",
         "name": "Drone Prohibited City",
         "type": "scatter",
         "x": [],
         "y": []
        },
        {
         "line": {
          "width": 2
         },
         "marker": {
          "color": "black",
          "size": 10
         },
         "mode": "lines",
         "name": "Truck Tour",
         "type": "scatter",
         "x": [
          3,
          6,
          5,
          4,
          3,
          3,
          4.6,
          5,
          6,
          7.6,
          7,
          6.1,
          6,
          4.6,
          4,
          4,
          3.1,
          3,
          1.7,
          1.6,
          2,
          3,
          2,
          2,
          1.6,
          2,
          2.7,
          2.8,
          2,
          2,
          3.3,
          4,
          6.2,
          7.6,
          7.95,
          8.3,
          8,
          9.1,
          10.6,
          11,
          12,
          13.2,
          14.6,
          14,
          14,
          14.1,
          13.5,
          13,
          12,
          12.7,
          12.1,
          11.5,
          10.5,
          10.9,
          11.3,
          11,
          11,
          12,
          12.1,
          13.4,
          14,
          14.8,
          14,
          14.2,
          13,
          13,
          12,
          11,
          10.8,
          9.4,
          9,
          8,
          6,
          5.4,
          6,
          7,
          7.6,
          8.4,
          9,
          10,
          12.6,
          12,
          11,
          11,
          10,
          9,
          8,
          8.6,
          9.6,
          9.1,
          9,
          8,
          5.8,
          5,
          4.4,
          5,
          4.2,
          4,
          3.1,
          3.1,
          3,
          3
         ],
         "y": [
          9,
          10,
          9,
          8,
          8,
          7,
          6.1,
          6,
          8,
          7.3,
          7,
          6.1,
          5,
          4.6,
          4,
          3,
          3.1,
          2,
          1.7,
          3.1,
          5,
          5,
          7,
          8.5,
          9.1,
          10.5,
          11.5,
          12.1,
          13,
          15,
          14.2,
          14,
          15,
          12.7,
          13,
          13.2,
          14,
          15,
          14.2,
          13,
          14,
          14.5,
          13.6,
          12,
          11,
          10.6,
          9.3,
          10,
          10,
          10.9,
          12.1,
          11.5,
          11.5,
          10.6,
          9,
          8,
          7,
          7.1,
          7.6,
          7.6,
          6,
          5.9,
          5,
          3.1,
          1,
          3,
          3,
          2,
          2.3,
          2.4,
          2,
          2,
          2,
          1.6,
          3,
          4,
          4.6,
          4.6,
          4,
          4,
          4.6,
          6,
          5.3,
          5,
          5,
          7,
          9,
          9,
          9.1,
          10.6,
          11,
          12,
          13,
          13,
          12,
          11,
          10.6,
          11,
          10.6,
          9.9,
          9,
          9
         ]
        }
       ],
       "layout": {
        "annotations": [
         {
          "font": {
           "color": "orange",
           "size": 12
          },
          "showarrow": false,
          "text": "0",
          "x": 3.35,
          "xref": "x",
          "y": 9.35,
          "yref": "y"
         },
         {
          "font": {
           "color": "orange",
           "size": 12
          },
          "showarrow": false,
          "text": "1",
          "x": 7.35,
          "xref": "x",
          "y": 7.35,
          "yref": "y"
         },
         {
          "font": {
           "color": "orange",
           "size": 12
          },
          "showarrow": false,
          "text": "2",
          "x": 14.35,
          "xref": "x",
          "y": 6.35,
          "yref": "y"
         },
         {
          "font": {
           "color": "orange",
           "size": 12
          },
          "showarrow": false,
          "text": "3",
          "x": 7.35,
          "xref": "x",
          "y": 4.35,
          "yref": "y"
         },
         {
          "font": {
           "color": "orange",
           "size": 12
          },
          "showarrow": false,
          "text": "4",
          "x": 4.35,
          "xref": "x",
          "y": 3.35,
          "yref": "y"
         },
         {
          "font": {
           "color": "orange",
           "size": 12
          },
          "showarrow": false,
          "text": "5",
          "x": 2.35,
          "xref": "x",
          "y": 7.35,
          "yref": "y"
         },
         {
          "font": {
           "color": "orange",
           "size": 12
          },
          "showarrow": false,
          "text": "6",
          "x": 2.35,
          "xref": "x",
          "y": 15.35,
          "yref": "y"
         },
         {
          "font": {
           "color": "orange",
           "size": 12
          },
          "showarrow": false,
          "text": "7",
          "x": 3.0500000000000003,
          "xref": "x",
          "y": 11.85,
          "yref": "y"
         },
         {
          "font": {
           "color": "orange",
           "size": 12
          },
          "showarrow": false,
          "text": "8",
          "x": 9.35,
          "xref": "x",
          "y": 11.35,
          "yref": "y"
         },
         {
          "font": {
           "color": "orange",
           "size": 12
          },
          "showarrow": false,
          "text": "9",
          "x": 12.35,
          "xref": "x",
          "y": 14.35,
          "yref": "y"
         },
         {
          "font": {
           "color": "orange",
           "size": 12
          },
          "showarrow": false,
          "text": "10",
          "x": 5.35,
          "xref": "x",
          "y": 9.35,
          "yref": "y"
         },
         {
          "font": {
           "color": "orange",
           "size": 12
          },
          "showarrow": false,
          "text": "11",
          "x": 6.35,
          "xref": "x",
          "y": 5.35,
          "yref": "y"
         },
         {
          "font": {
           "color": "orange",
           "size": 12
          },
          "showarrow": false,
          "text": "12",
          "x": 11.35,
          "xref": "x",
          "y": 2.35,
          "yref": "y"
         },
         {
          "font": {
           "color": "orange",
           "size": 12
          },
          "showarrow": false,
          "text": "13",
          "x": 14.35,
          "xref": "x",
          "y": 12.35,
          "yref": "y"
         },
         {
          "font": {
           "color": "orange",
           "size": 12
          },
          "showarrow": false,
          "text": "14",
          "x": 5.35,
          "xref": "x",
          "y": 13.35,
          "yref": "y"
         },
         {
          "font": {
           "color": "orange",
           "size": 12
          },
          "showarrow": false,
          "text": "15",
          "x": 10.35,
          "xref": "x",
          "y": 5.35,
          "yref": "y"
         },
         {
          "font": {
           "color": "orange",
           "size": 12
          },
          "showarrow": false,
          "text": "16",
          "x": 11.35,
          "xref": "x",
          "y": 8.35,
          "yref": "y"
         },
         {
          "font": {
           "color": "orange",
           "size": 12
          },
          "showarrow": false,
          "text": "17",
          "x": 3.35,
          "xref": "x",
          "y": 2.35,
          "yref": "y"
         },
         {
          "font": {
           "color": "orange",
           "size": 12
          },
          "showarrow": false,
          "text": "18",
          "x": 6.35,
          "xref": "x",
          "y": 10.35,
          "yref": "y"
         },
         {
          "font": {
           "color": "orange",
           "size": 12
          },
          "showarrow": false,
          "text": "19",
          "x": 6.35,
          "xref": "x",
          "y": 3.35,
          "yref": "y"
         },
         {
          "font": {
           "color": "orange",
           "size": 12
          },
          "showarrow": false,
          "text": "20",
          "x": 11.35,
          "xref": "x",
          "y": 5.35,
          "yref": "y"
         },
         {
          "font": {
           "color": "orange",
           "size": 12
          },
          "showarrow": false,
          "text": "21",
          "x": 3.35,
          "xref": "x",
          "y": 8.35,
          "yref": "y"
         },
         {
          "font": {
           "color": "orange",
           "size": 12
          },
          "showarrow": false,
          "text": "22",
          "x": 8.95,
          "xref": "x",
          "y": 9.35,
          "yref": "y"
         },
         {
          "font": {
           "color": "orange",
           "size": 12
          },
          "showarrow": false,
          "text": "23",
          "x": 13.35,
          "xref": "x",
          "y": 3.35,
          "yref": "y"
         },
         {
          "font": {
           "color": "orange",
           "size": 12
          },
          "showarrow": false,
          "text": "24",
          "x": 13.35,
          "xref": "x",
          "y": 10.35,
          "yref": "y"
         },
         {
          "font": {
           "color": "orange",
           "size": 12
          },
          "showarrow": false,
          "text": "25",
          "x": 2.05,
          "xref": "x",
          "y": 2.05,
          "yref": "y"
         },
         {
          "font": {
           "color": "orange",
           "size": 12
          },
          "showarrow": false,
          "text": "26",
          "x": 4.35,
          "xref": "x",
          "y": 4.35,
          "yref": "y"
         },
         {
          "font": {
           "color": "orange",
           "size": 12
          },
          "showarrow": false,
          "text": "27",
          "x": 4.35,
          "xref": "x",
          "y": 14.35,
          "yref": "y"
         },
         {
          "font": {
           "color": "orange",
           "size": 12
          },
          "showarrow": false,
          "text": "28",
          "x": 12.35,
          "xref": "x",
          "y": 6.35,
          "yref": "y"
         },
         {
          "font": {
           "color": "orange",
           "size": 12
          },
          "showarrow": false,
          "text": "29",
          "x": 6.35,
          "xref": "x",
          "y": 8.35,
          "yref": "y"
         },
         {
          "font": {
           "color": "orange",
           "size": 12
          },
          "showarrow": false,
          "text": "30",
          "x": 9.35,
          "xref": "x",
          "y": 2.35,
          "yref": "y"
         },
         {
          "font": {
           "color": "orange",
           "size": 12
          },
          "showarrow": false,
          "text": "31",
          "x": 13.35,
          "xref": "x",
          "y": 1.35,
          "yref": "y"
         },
         {
          "font": {
           "color": "orange",
           "size": 12
          },
          "showarrow": false,
          "text": "32",
          "x": 4.75,
          "xref": "x",
          "y": 12.35,
          "yref": "y"
         },
         {
          "font": {
           "color": "orange",
           "size": 12
          },
          "showarrow": false,
          "text": "33",
          "x": 10.85,
          "xref": "x",
          "y": 11.85,
          "yref": "y"
         },
         {
          "font": {
           "color": "orange",
           "size": 12
          },
          "showarrow": false,
          "text": "34",
          "x": 2.35,
          "xref": "x",
          "y": 5.35,
          "yref": "y"
         },
         {
          "font": {
           "color": "orange",
           "size": 12
          },
          "showarrow": false,
          "text": "35",
          "x": 8.3,
          "xref": "x",
          "y": 13.35,
          "yref": "y"
         },
         {
          "font": {
           "color": "orange",
           "size": 12
          },
          "showarrow": false,
          "text": "36",
          "x": 8.35,
          "xref": "x",
          "y": 14.35,
          "yref": "y"
         },
         {
          "font": {
           "color": "orange",
           "size": 12
          },
          "showarrow": false,
          "text": "37",
          "x": 14.35,
          "xref": "x",
          "y": 5.35,
          "yref": "y"
         },
         {
          "font": {
           "color": "orange",
           "size": 12
          },
          "showarrow": false,
          "text": "38",
          "x": 3.35,
          "xref": "x",
          "y": 5.35,
          "yref": "y"
         },
         {
          "font": {
           "color": "orange",
           "size": 12
          },
          "showarrow": false,
          "text": "39",
          "x": 2.35,
          "xref": "x",
          "y": 8.85,
          "yref": "y"
         },
         {
          "font": {
           "color": "orange",
           "size": 12
          },
          "showarrow": false,
          "text": "40",
          "x": 5.35,
          "xref": "x",
          "y": 6.35,
          "yref": "y"
         },
         {
          "font": {
           "color": "orange",
           "size": 12
          },
          "showarrow": false,
          "text": "41",
          "x": 11.35,
          "xref": "x",
          "y": 13.35,
          "yref": "y"
         },
         {
          "font": {
           "color": "orange",
           "size": 12
          },
          "showarrow": false,
          "text": "42",
          "x": 12.35,
          "xref": "x",
          "y": 10.35,
          "yref": "y"
         },
         {
          "font": {
           "color": "orange",
           "size": 12
          },
          "showarrow": false,
          "text": "43",
          "x": 8.35,
          "xref": "x",
          "y": 2.35,
          "yref": "y"
         },
         {
          "font": {
           "color": "orange",
           "size": 12
          },
          "showarrow": false,
          "text": "44",
          "x": 4.35,
          "xref": "x",
          "y": 11.35,
          "yref": "y"
         },
         {
          "font": {
           "color": "orange",
           "size": 12
          },
          "showarrow": false,
          "text": "45",
          "x": 9.35,
          "xref": "x",
          "y": 4.35,
          "yref": "y"
         },
         {
          "font": {
           "color": "orange",
           "size": 12
          },
          "showarrow": false,
          "text": "46",
          "x": 4.35,
          "xref": "x",
          "y": 8.35,
          "yref": "y"
         },
         {
          "font": {
           "color": "orange",
           "size": 12
          },
          "showarrow": false,
          "text": "47",
          "x": 2.35,
          "xref": "x",
          "y": 10.85,
          "yref": "y"
         },
         {
          "font": {
           "color": "orange",
           "size": 12
          },
          "showarrow": false,
          "text": "48",
          "x": 12.35,
          "xref": "x",
          "y": 3.35,
          "yref": "y"
         },
         {
          "font": {
           "color": "orange",
           "size": 12
          },
          "showarrow": false,
          "text": "49",
          "x": 10.35,
          "xref": "x",
          "y": 4.35,
          "yref": "y"
         },
         {
          "font": {
           "color": "orange",
           "size": 12
          },
          "showarrow": false,
          "text": "50",
          "x": 5.35,
          "xref": "x",
          "y": 11.35,
          "yref": "y"
         },
         {
          "font": {
           "color": "orange",
           "size": 12
          },
          "showarrow": false,
          "text": "51",
          "x": 6.35,
          "xref": "x",
          "y": 2.35,
          "yref": "y"
         },
         {
          "font": {
           "color": "orange",
           "size": 12
          },
          "showarrow": false,
          "text": "52",
          "x": 8.35,
          "xref": "x",
          "y": 9.35,
          "yref": "y"
         },
         {
          "font": {
           "color": "orange",
           "size": 12
          },
          "showarrow": false,
          "text": "53",
          "x": 14.35,
          "xref": "x",
          "y": 11.35,
          "yref": "y"
         },
         {
          "font": {
           "color": "orange",
           "size": 12
          },
          "showarrow": false,
          "text": "54",
          "x": 2.35,
          "xref": "x",
          "y": 13.35,
          "yref": "y"
         },
         {
          "font": {
           "color": "orange",
           "size": 12
          },
          "showarrow": false,
          "text": "55",
          "x": 11.35,
          "xref": "x",
          "y": 7.35,
          "yref": "y"
         },
         {
          "font": {
           "color": "orange",
           "size": 12
          },
          "showarrow": false,
          "text": "56",
          "x": 9.35,
          "xref": "x",
          "y": 7.35,
          "yref": "y"
         },
         {
          "font": {
           "color": "orange",
           "size": 12
          },
          "showarrow": false,
          "text": "57",
          "x": 3.35,
          "xref": "x",
          "y": 7.35,
          "yref": "y"
         },
         {
          "font": {
           "color": "orange",
           "size": 12
          },
          "showarrow": false,
          "text": "58",
          "x": 11.85,
          "xref": "x",
          "y": 11.85,
          "yref": "y"
         },
         {
          "font": {
           "color": "orange",
           "size": 12
          },
          "showarrow": false,
          "text": "59",
          "x": 8.35,
          "xref": "x",
          "y": 12.35,
          "yref": "y"
         },
         {
          "font": {
           "color": "orange",
           "size": 12
          },
          "showarrow": false,
          "text": "60",
          "x": 7.949999999999999,
          "xref": "x",
          "y": 7.6499999999999995,
          "yref": "y"
         },
         {
          "font": {
           "color": "orange",
           "size": 12
          },
          "showarrow": false,
          "text": "61",
          "x": 4.949999999999999,
          "xref": "x",
          "y": 6.449999999999999,
          "yref": "y"
         },
         {
          "font": {
           "color": "orange",
           "size": 12
          },
          "showarrow": false,
          "text": "62",
          "x": 14.549999999999999,
          "xref": "x",
          "y": 3.45,
          "yref": "y"
         },
         {
          "font": {
           "color": "orange",
           "size": 12
          },
          "showarrow": false,
          "text": "63",
          "x": 1.9500000000000002,
          "xref": "x",
          "y": 9.45,
          "yref": "y"
         },
         {
          "font": {
           "color": "orange",
           "size": 12
          },
          "showarrow": false,
          "text": "64",
          "x": 9.95,
          "xref": "x",
          "y": 9.45,
          "yref": "y"
         },
         {
          "font": {
           "color": "orange",
           "size": 12
          },
          "showarrow": false,
          "text": "65",
          "x": 12.95,
          "xref": "x",
          "y": 4.949999999999999,
          "yref": "y"
         },
         {
          "font": {
           "color": "orange",
           "size": 12
          },
          "showarrow": false,
          "text": "66",
          "x": 10.95,
          "xref": "x",
          "y": 14.549999999999999,
          "yref": "y"
         },
         {
          "font": {
           "color": "orange",
           "size": 12
          },
          "showarrow": false,
          "text": "67",
          "x": 3.45,
          "xref": "x",
          "y": 3.45,
          "yref": "y"
         },
         {
          "font": {
           "color": "orange",
           "size": 12
          },
          "showarrow": false,
          "text": "68",
          "x": 8.75,
          "xref": "x",
          "y": 4.949999999999999,
          "yref": "y"
         },
         {
          "font": {
           "color": "orange",
           "size": 12
          },
          "showarrow": false,
          "text": "69",
          "x": 6.449999999999999,
          "xref": "x",
          "y": 6.449999999999999,
          "yref": "y"
         },
         {
          "font": {
           "color": "orange",
           "size": 12
          },
          "showarrow": false,
          "text": "70",
          "x": 13.75,
          "xref": "x",
          "y": 7.949999999999999,
          "yref": "y"
         },
         {
          "font": {
           "color": "orange",
           "size": 12
          },
          "showarrow": false,
          "text": "71",
          "x": 5.75,
          "xref": "x",
          "y": 1.9500000000000002,
          "yref": "y"
         },
         {
          "font": {
           "color": "orange",
           "size": 12
          },
          "showarrow": false,
          "text": "72",
          "x": 3.45,
          "xref": "x",
          "y": 10.25,
          "yref": "y"
         },
         {
          "font": {
           "color": "orange",
           "size": 12
          },
          "showarrow": false,
          "text": "73",
          "x": 1.9500000000000002,
          "xref": "x",
          "y": 3.45,
          "yref": "y"
         },
         {
          "font": {
           "color": "orange",
           "size": 12
          },
          "showarrow": false,
          "text": "74",
          "x": 12.45,
          "xref": "x",
          "y": 7.949999999999999,
          "yref": "y"
         },
         {
          "font": {
           "color": "orange",
           "size": 12
          },
          "showarrow": false,
          "text": "75",
          "x": 9.45,
          "xref": "x",
          "y": 15.35,
          "yref": "y"
         },
         {
          "font": {
           "color": "orange",
           "size": 12
          },
          "showarrow": false,
          "text": "76",
          "x": 11.25,
          "xref": "x",
          "y": 10.95,
          "yref": "y"
         },
         {
          "font": {
           "color": "orange",
           "size": 12
          },
          "showarrow": false,
          "text": "77",
          "x": 7.949999999999999,
          "xref": "x",
          "y": 13.049999999999999,
          "yref": "y"
         },
         {
          "font": {
           "color": "orange",
           "size": 12
          },
          "showarrow": false,
          "text": "78",
          "x": 4.949999999999999,
          "xref": "x",
          "y": 4.949999999999999,
          "yref": "y"
         },
         {
          "font": {
           "color": "orange",
           "size": 12
          },
          "showarrow": false,
          "text": "79",
          "x": 14.95,
          "xref": "x",
          "y": 13.95,
          "yref": "y"
         },
         {
          "font": {
           "color": "orange",
           "size": 12
          },
          "showarrow": false,
          "text": "80",
          "x": 4.55,
          "xref": "x",
          "y": 10.95,
          "yref": "y"
         },
         {
          "font": {
           "color": "orange",
           "size": 12
          },
          "showarrow": false,
          "text": "81",
          "x": 3.15,
          "xref": "x",
          "y": 12.45,
          "yref": "y"
         },
         {
          "font": {
           "color": "orange",
           "size": 12
          },
          "showarrow": false,
          "text": "82",
          "x": 12.45,
          "xref": "x",
          "y": 12.45,
          "yref": "y"
         },
         {
          "font": {
           "color": "orange",
           "size": 12
          },
          "showarrow": false,
          "text": "83",
          "x": 9.45,
          "xref": "x",
          "y": 10.95,
          "yref": "y"
         },
         {
          "font": {
           "color": "orange",
           "size": 12
          },
          "showarrow": false,
          "text": "84",
          "x": 11.65,
          "xref": "x",
          "y": 9.35,
          "yref": "y"
         },
         {
          "font": {
           "color": "orange",
           "size": 12
          },
          "showarrow": false,
          "text": "85",
          "x": 7.949999999999999,
          "xref": "x",
          "y": 4.949999999999999,
          "yref": "y"
         },
         {
          "font": {
           "color": "orange",
           "size": 12
          },
          "showarrow": false,
          "text": "86",
          "x": 3.45,
          "xref": "x",
          "y": 10.95,
          "yref": "y"
         },
         {
          "font": {
           "color": "orange",
           "size": 12
          },
          "showarrow": false,
          "text": "87",
          "x": 6.55,
          "xref": "x",
          "y": 15.35,
          "yref": "y"
         },
         {
          "font": {
           "color": "orange",
           "size": 12
          },
          "showarrow": false,
          "text": "88",
          "x": 14.45,
          "xref": "x",
          "y": 10.95,
          "yref": "y"
         },
         {
          "font": {
           "color": "orange",
           "size": 12
          },
          "showarrow": false,
          "text": "89",
          "x": 13.549999999999999,
          "xref": "x",
          "y": 14.85,
          "yref": "y"
         },
         {
          "font": {
           "color": "orange",
           "size": 12
          },
          "showarrow": false,
          "text": "90",
          "x": 12.35,
          "xref": "x",
          "y": 7.449999999999999,
          "yref": "y"
         },
         {
          "font": {
           "color": "orange",
           "size": 12
          },
          "showarrow": false,
          "text": "91",
          "x": 11.15,
          "xref": "x",
          "y": 2.65,
          "yref": "y"
         },
         {
          "font": {
           "color": "orange",
           "size": 12
          },
          "showarrow": false,
          "text": "92",
          "x": 13.85,
          "xref": "x",
          "y": 9.65,
          "yref": "y"
         },
         {
          "font": {
           "color": "orange",
           "size": 12
          },
          "showarrow": false,
          "text": "93",
          "x": 9.75,
          "xref": "x",
          "y": 2.75,
          "yref": "y"
         },
         {
          "font": {
           "color": "orange",
           "size": 12
          },
          "showarrow": false,
          "text": "94",
          "x": 15.15,
          "xref": "x",
          "y": 6.25,
          "yref": "y"
         },
         {
          "font": {
           "color": "orange",
           "size": 12
          },
          "showarrow": false,
          "text": "95",
          "x": 8.65,
          "xref": "x",
          "y": 13.549999999999999,
          "yref": "y"
         },
         {
          "font": {
           "color": "orange",
           "size": 12
          },
          "showarrow": false,
          "text": "96",
          "x": 11.35,
          "xref": "x",
          "y": 5.6499999999999995,
          "yref": "y"
         },
         {
          "font": {
           "color": "orange",
           "size": 12
          },
          "showarrow": false,
          "text": "97",
          "x": 3.65,
          "xref": "x",
          "y": 14.549999999999999,
          "yref": "y"
         },
         {
          "font": {
           "color": "orange",
           "size": 12
          },
          "showarrow": false,
          "text": "98",
          "x": 6.1499999999999995,
          "xref": "x",
          "y": 13.35,
          "yref": "y"
         },
         {
          "font": {
           "color": "orange",
           "size": 12
          },
          "showarrow": false,
          "text": "99",
          "x": 13.049999999999999,
          "xref": "x",
          "y": 11.25,
          "yref": "y"
         }
        ],
        "autosize": false,
        "height": 800,
        "template": {
         "data": {
          "bar": [
           {
            "error_x": {
             "color": "#2a3f5f"
            },
            "error_y": {
             "color": "#2a3f5f"
            },
            "marker": {
             "line": {
              "color": "#E5ECF6",
              "width": 0.5
             },
             "pattern": {
              "fillmode": "overlay",
              "size": 10,
              "solidity": 0.2
             }
            },
            "type": "bar"
           }
          ],
          "barpolar": [
           {
            "marker": {
             "line": {
              "color": "#E5ECF6",
              "width": 0.5
             },
             "pattern": {
              "fillmode": "overlay",
              "size": 10,
              "solidity": 0.2
             }
            },
            "type": "barpolar"
           }
          ],
          "carpet": [
           {
            "aaxis": {
             "endlinecolor": "#2a3f5f",
             "gridcolor": "white",
             "linecolor": "white",
             "minorgridcolor": "white",
             "startlinecolor": "#2a3f5f"
            },
            "baxis": {
             "endlinecolor": "#2a3f5f",
             "gridcolor": "white",
             "linecolor": "white",
             "minorgridcolor": "white",
             "startlinecolor": "#2a3f5f"
            },
            "type": "carpet"
           }
          ],
          "choropleth": [
           {
            "colorbar": {
             "outlinewidth": 0,
             "ticks": ""
            },
            "type": "choropleth"
           }
          ],
          "contour": [
           {
            "colorbar": {
             "outlinewidth": 0,
             "ticks": ""
            },
            "colorscale": [
             [
              0,
              "#0d0887"
             ],
             [
              0.1111111111111111,
              "#46039f"
             ],
             [
              0.2222222222222222,
              "#7201a8"
             ],
             [
              0.3333333333333333,
              "#9c179e"
             ],
             [
              0.4444444444444444,
              "#bd3786"
             ],
             [
              0.5555555555555556,
              "#d8576b"
             ],
             [
              0.6666666666666666,
              "#ed7953"
             ],
             [
              0.7777777777777778,
              "#fb9f3a"
             ],
             [
              0.8888888888888888,
              "#fdca26"
             ],
             [
              1,
              "#f0f921"
             ]
            ],
            "type": "contour"
           }
          ],
          "contourcarpet": [
           {
            "colorbar": {
             "outlinewidth": 0,
             "ticks": ""
            },
            "type": "contourcarpet"
           }
          ],
          "heatmap": [
           {
            "colorbar": {
             "outlinewidth": 0,
             "ticks": ""
            },
            "colorscale": [
             [
              0,
              "#0d0887"
             ],
             [
              0.1111111111111111,
              "#46039f"
             ],
             [
              0.2222222222222222,
              "#7201a8"
             ],
             [
              0.3333333333333333,
              "#9c179e"
             ],
             [
              0.4444444444444444,
              "#bd3786"
             ],
             [
              0.5555555555555556,
              "#d8576b"
             ],
             [
              0.6666666666666666,
              "#ed7953"
             ],
             [
              0.7777777777777778,
              "#fb9f3a"
             ],
             [
              0.8888888888888888,
              "#fdca26"
             ],
             [
              1,
              "#f0f921"
             ]
            ],
            "type": "heatmap"
           }
          ],
          "heatmapgl": [
           {
            "colorbar": {
             "outlinewidth": 0,
             "ticks": ""
            },
            "colorscale": [
             [
              0,
              "#0d0887"
             ],
             [
              0.1111111111111111,
              "#46039f"
             ],
             [
              0.2222222222222222,
              "#7201a8"
             ],
             [
              0.3333333333333333,
              "#9c179e"
             ],
             [
              0.4444444444444444,
              "#bd3786"
             ],
             [
              0.5555555555555556,
              "#d8576b"
             ],
             [
              0.6666666666666666,
              "#ed7953"
             ],
             [
              0.7777777777777778,
              "#fb9f3a"
             ],
             [
              0.8888888888888888,
              "#fdca26"
             ],
             [
              1,
              "#f0f921"
             ]
            ],
            "type": "heatmapgl"
           }
          ],
          "histogram": [
           {
            "marker": {
             "pattern": {
              "fillmode": "overlay",
              "size": 10,
              "solidity": 0.2
             }
            },
            "type": "histogram"
           }
          ],
          "histogram2d": [
           {
            "colorbar": {
             "outlinewidth": 0,
             "ticks": ""
            },
            "colorscale": [
             [
              0,
              "#0d0887"
             ],
             [
              0.1111111111111111,
              "#46039f"
             ],
             [
              0.2222222222222222,
              "#7201a8"
             ],
             [
              0.3333333333333333,
              "#9c179e"
             ],
             [
              0.4444444444444444,
              "#bd3786"
             ],
             [
              0.5555555555555556,
              "#d8576b"
             ],
             [
              0.6666666666666666,
              "#ed7953"
             ],
             [
              0.7777777777777778,
              "#fb9f3a"
             ],
             [
              0.8888888888888888,
              "#fdca26"
             ],
             [
              1,
              "#f0f921"
             ]
            ],
            "type": "histogram2d"
           }
          ],
          "histogram2dcontour": [
           {
            "colorbar": {
             "outlinewidth": 0,
             "ticks": ""
            },
            "colorscale": [
             [
              0,
              "#0d0887"
             ],
             [
              0.1111111111111111,
              "#46039f"
             ],
             [
              0.2222222222222222,
              "#7201a8"
             ],
             [
              0.3333333333333333,
              "#9c179e"
             ],
             [
              0.4444444444444444,
              "#bd3786"
             ],
             [
              0.5555555555555556,
              "#d8576b"
             ],
             [
              0.6666666666666666,
              "#ed7953"
             ],
             [
              0.7777777777777778,
              "#fb9f3a"
             ],
             [
              0.8888888888888888,
              "#fdca26"
             ],
             [
              1,
              "#f0f921"
             ]
            ],
            "type": "histogram2dcontour"
           }
          ],
          "mesh3d": [
           {
            "colorbar": {
             "outlinewidth": 0,
             "ticks": ""
            },
            "type": "mesh3d"
           }
          ],
          "parcoords": [
           {
            "line": {
             "colorbar": {
              "outlinewidth": 0,
              "ticks": ""
             }
            },
            "type": "parcoords"
           }
          ],
          "pie": [
           {
            "automargin": true,
            "type": "pie"
           }
          ],
          "scatter": [
           {
            "fillpattern": {
             "fillmode": "overlay",
             "size": 10,
             "solidity": 0.2
            },
            "type": "scatter"
           }
          ],
          "scatter3d": [
           {
            "line": {
             "colorbar": {
              "outlinewidth": 0,
              "ticks": ""
             }
            },
            "marker": {
             "colorbar": {
              "outlinewidth": 0,
              "ticks": ""
             }
            },
            "type": "scatter3d"
           }
          ],
          "scattercarpet": [
           {
            "marker": {
             "colorbar": {
              "outlinewidth": 0,
              "ticks": ""
             }
            },
            "type": "scattercarpet"
           }
          ],
          "scattergeo": [
           {
            "marker": {
             "colorbar": {
              "outlinewidth": 0,
              "ticks": ""
             }
            },
            "type": "scattergeo"
           }
          ],
          "scattergl": [
           {
            "marker": {
             "colorbar": {
              "outlinewidth": 0,
              "ticks": ""
             }
            },
            "type": "scattergl"
           }
          ],
          "scattermapbox": [
           {
            "marker": {
             "colorbar": {
              "outlinewidth": 0,
              "ticks": ""
             }
            },
            "type": "scattermapbox"
           }
          ],
          "scatterpolar": [
           {
            "marker": {
             "colorbar": {
              "outlinewidth": 0,
              "ticks": ""
             }
            },
            "type": "scatterpolar"
           }
          ],
          "scatterpolargl": [
           {
            "marker": {
             "colorbar": {
              "outlinewidth": 0,
              "ticks": ""
             }
            },
            "type": "scatterpolargl"
           }
          ],
          "scatterternary": [
           {
            "marker": {
             "colorbar": {
              "outlinewidth": 0,
              "ticks": ""
             }
            },
            "type": "scatterternary"
           }
          ],
          "surface": [
           {
            "colorbar": {
             "outlinewidth": 0,
             "ticks": ""
            },
            "colorscale": [
             [
              0,
              "#0d0887"
             ],
             [
              0.1111111111111111,
              "#46039f"
             ],
             [
              0.2222222222222222,
              "#7201a8"
             ],
             [
              0.3333333333333333,
              "#9c179e"
             ],
             [
              0.4444444444444444,
              "#bd3786"
             ],
             [
              0.5555555555555556,
              "#d8576b"
             ],
             [
              0.6666666666666666,
              "#ed7953"
             ],
             [
              0.7777777777777778,
              "#fb9f3a"
             ],
             [
              0.8888888888888888,
              "#fdca26"
             ],
             [
              1,
              "#f0f921"
             ]
            ],
            "type": "surface"
           }
          ],
          "table": [
           {
            "cells": {
             "fill": {
              "color": "#EBF0F8"
             },
             "line": {
              "color": "white"
             }
            },
            "header": {
             "fill": {
              "color": "#C8D4E3"
             },
             "line": {
              "color": "white"
             }
            },
            "type": "table"
           }
          ]
         },
         "layout": {
          "annotationdefaults": {
           "arrowcolor": "#2a3f5f",
           "arrowhead": 0,
           "arrowwidth": 1
          },
          "autotypenumbers": "strict",
          "coloraxis": {
           "colorbar": {
            "outlinewidth": 0,
            "ticks": ""
           }
          },
          "colorscale": {
           "diverging": [
            [
             0,
             "#8e0152"
            ],
            [
             0.1,
             "#c51b7d"
            ],
            [
             0.2,
             "#de77ae"
            ],
            [
             0.3,
             "#f1b6da"
            ],
            [
             0.4,
             "#fde0ef"
            ],
            [
             0.5,
             "#f7f7f7"
            ],
            [
             0.6,
             "#e6f5d0"
            ],
            [
             0.7,
             "#b8e186"
            ],
            [
             0.8,
             "#7fbc41"
            ],
            [
             0.9,
             "#4d9221"
            ],
            [
             1,
             "#276419"
            ]
           ],
           "sequential": [
            [
             0,
             "#0d0887"
            ],
            [
             0.1111111111111111,
             "#46039f"
            ],
            [
             0.2222222222222222,
             "#7201a8"
            ],
            [
             0.3333333333333333,
             "#9c179e"
            ],
            [
             0.4444444444444444,
             "#bd3786"
            ],
            [
             0.5555555555555556,
             "#d8576b"
            ],
            [
             0.6666666666666666,
             "#ed7953"
            ],
            [
             0.7777777777777778,
             "#fb9f3a"
            ],
            [
             0.8888888888888888,
             "#fdca26"
            ],
            [
             1,
             "#f0f921"
            ]
           ],
           "sequentialminus": [
            [
             0,
             "#0d0887"
            ],
            [
             0.1111111111111111,
             "#46039f"
            ],
            [
             0.2222222222222222,
             "#7201a8"
            ],
            [
             0.3333333333333333,
             "#9c179e"
            ],
            [
             0.4444444444444444,
             "#bd3786"
            ],
            [
             0.5555555555555556,
             "#d8576b"
            ],
            [
             0.6666666666666666,
             "#ed7953"
            ],
            [
             0.7777777777777778,
             "#fb9f3a"
            ],
            [
             0.8888888888888888,
             "#fdca26"
            ],
            [
             1,
             "#f0f921"
            ]
           ]
          },
          "colorway": [
           "#636efa",
           "#EF553B",
           "#00cc96",
           "#ab63fa",
           "#FFA15A",
           "#19d3f3",
           "#FF6692",
           "#B6E880",
           "#FF97FF",
           "#FECB52"
          ],
          "font": {
           "color": "#2a3f5f"
          },
          "geo": {
           "bgcolor": "white",
           "lakecolor": "white",
           "landcolor": "#E5ECF6",
           "showlakes": true,
           "showland": true,
           "subunitcolor": "white"
          },
          "hoverlabel": {
           "align": "left"
          },
          "hovermode": "closest",
          "mapbox": {
           "style": "light"
          },
          "paper_bgcolor": "white",
          "plot_bgcolor": "#E5ECF6",
          "polar": {
           "angularaxis": {
            "gridcolor": "white",
            "linecolor": "white",
            "ticks": ""
           },
           "bgcolor": "#E5ECF6",
           "radialaxis": {
            "gridcolor": "white",
            "linecolor": "white",
            "ticks": ""
           }
          },
          "scene": {
           "xaxis": {
            "backgroundcolor": "#E5ECF6",
            "gridcolor": "white",
            "gridwidth": 2,
            "linecolor": "white",
            "showbackground": true,
            "ticks": "",
            "zerolinecolor": "white"
           },
           "yaxis": {
            "backgroundcolor": "#E5ECF6",
            "gridcolor": "white",
            "gridwidth": 2,
            "linecolor": "white",
            "showbackground": true,
            "ticks": "",
            "zerolinecolor": "white"
           },
           "zaxis": {
            "backgroundcolor": "#E5ECF6",
            "gridcolor": "white",
            "gridwidth": 2,
            "linecolor": "white",
            "showbackground": true,
            "ticks": "",
            "zerolinecolor": "white"
           }
          },
          "shapedefaults": {
           "line": {
            "color": "#2a3f5f"
           }
          },
          "ternary": {
           "aaxis": {
            "gridcolor": "white",
            "linecolor": "white",
            "ticks": ""
           },
           "baxis": {
            "gridcolor": "white",
            "linecolor": "white",
            "ticks": ""
           },
           "bgcolor": "#E5ECF6",
           "caxis": {
            "gridcolor": "white",
            "linecolor": "white",
            "ticks": ""
           }
          },
          "title": {
           "x": 0.05
          },
          "xaxis": {
           "automargin": true,
           "gridcolor": "white",
           "linecolor": "white",
           "ticks": "",
           "title": {
            "standoff": 15
           },
           "zerolinecolor": "white",
           "zerolinewidth": 2
          },
          "yaxis": {
           "automargin": true,
           "gridcolor": "white",
           "linecolor": "white",
           "ticks": "",
           "title": {
            "standoff": 15
           },
           "zerolinecolor": "white",
           "zerolinewidth": 2
          }
         }
        },
        "title": {
         "text": "Two Opt Optimal Truck Tour"
        },
        "width": 800,
        "xaxis": {
         "constrain": "domain",
         "tickvals": [
          0,
          2,
          4,
          6,
          8,
          10,
          12,
          14,
          16,
          18,
          20,
          22,
          24
         ]
        },
        "yaxis": {
         "scaleanchor": "x",
         "tickvals": [
          0,
          2,
          4,
          6,
          8,
          10,
          12,
          14,
          16,
          18,
          20,
          22,
          24
         ]
        }
       }
      }
     },
     "metadata": {},
     "output_type": "display_data"
    },
    {
     "name": "stdout",
     "output_type": "stream",
     "text": [
      "two opt tour:  [0, 18, 10, 46, 21, 57, 61, 40, 29, 60, 1, 69, 11, 78, 26, 4, 67, 17, 25, 73, 34, 38, 5, 39, 63, 47, 7, 81, 54, 6, 97, 27, 87, 77, 35, 95, 36, 75, 66, 41, 9, 89, 79, 13, 53, 88, 92, 24, 42, 99, 82, 58, 33, 76, 84, 16, 55, 90, 74, 70, 2, 94, 37, 62, 31, 23, 48, 12, 91, 93, 30, 43, 51, 71, 19, 3, 85, 68, 45, 49, 65, 28, 96, 20, 15, 56, 52, 22, 64, 83, 8, 59, 98, 14, 32, 50, 80, 44, 86, 72, 0]\n",
      "Total Distance: 125.98432055892863\n"
     ]
    }
   ],
   "source": [
    "# Solving the Vehicle Routing Problem for a large instance of cities using two-opt heuristic\n",
    "two_opt_tour = helper.two_opt_heuristic(n, dist_matrix, initial_tour)\n",
    "# Plot the two-opt tour\n",
    "helper.plot_tour(city_list, two_opt_tour, DRONE_PROHIBITED_CITIES, \"Two Opt Optimal Truck Tour\")\n",
    "\n",
    "# Calculate the total distance of the tour solved by two-opt heuristic\n",
    "total_distance_two_opt = helper.calculate_total_distance_time(two_opt_tour, dist_matrix)\n",
    "print(\"two opt tour: \", two_opt_tour)\n",
    "print(\"Total Distance:\", total_distance_two_opt)"
   ]
  },
  {
   "cell_type": "code",
   "execution_count": 10,
   "metadata": {},
   "outputs": [],
   "source": [
    "# Calculating time matrices for drone and truck considering 35 mph and 50 mph speed for truck and drone respectively\n",
    "truck_time_matrix, drone_time_matrix = helper.calculate_time_matrix(n, dist_matrix)"
   ]
  },
  {
   "cell_type": "code",
   "execution_count": 11,
   "metadata": {},
   "outputs": [
    {
     "name": "stdout",
     "output_type": "stream",
     "text": [
      "Cities in the prohibited region: [4, 17, 25, 26, 67, 73, 13, 24, 42, 53, 88, 92, 99]\n"
     ]
    }
   ],
   "source": [
    "# Get region bounds from user\n",
    "selected_cities = []\n",
    "while True:\n",
    "    # 1. Ask user if they want to select a new region\n",
    "    choice = input(\"Do you want to add any drone prohibited region? (yes/no): \").strip().lower()\n",
    "    if choice != 'yes':\n",
    "        break\n",
    "\n",
    "    min_x = float(input(\"Enter minimum x-coordinate: \"))\n",
    "    max_x = float(input(\"Enter maximum x-coordinate: \"))\n",
    "    min_y = float(input(\"Enter minimum y-coordinate: \"))\n",
    "    max_y = float(input(\"Enter maximum y-coordinate: \"))\n",
    "\n",
    "    # Identify cities within the region\n",
    "    selected_cities += helper.get_cities_in_region((min_x, max_x), (min_y, max_y), city_list)\n",
    "\n",
    "DRONE_PROHIBITED_CITIES = selected_cities\n",
    "print(f\"Cities in the prohibited region: {DRONE_PROHIBITED_CITIES}\")"
   ]
  },
  {
   "cell_type": "code",
   "execution_count": 12,
   "metadata": {},
   "outputs": [
    {
     "name": "stdout",
     "output_type": "stream",
     "text": [
      "Total Drone tours: 17\n",
      "\n",
      "Drone 1\n",
      "Start city for drone: 22\n",
      "Drone serves city: 83\n",
      "End city for drone: 59\n",
      "Savings: -0.0009 minutes\n",
      "Drone's waiting time for truck:  0.0009 minutes\n",
      "----------\n",
      "Drone 2\n",
      "Start city for drone: 49\n",
      "Drone serves city: 28\n",
      "End city for drone: 20\n",
      "Savings: -0.0026 minutes\n",
      "Drone's waiting time for truck:  0.0026 minutes\n",
      "----------\n",
      "Drone 3\n",
      "Start city for drone: 93\n",
      "Drone serves city: 51\n",
      "End city for drone: 19\n",
      "Savings: -0.0130 minutes\n",
      "Drone's waiting time for truck:  0.0130 minutes\n",
      "----------\n",
      "Drone 4\n",
      "Start city for drone: 34\n",
      "Drone serves city: 5\n",
      "End city for drone: 81\n",
      "Savings: -0.0130 minutes\n",
      "Drone's waiting time for truck:  0.0130 minutes\n",
      "----------\n",
      "Drone 5\n",
      "Start city for drone: 97\n",
      "Drone serves city: 27\n",
      "End city for drone: 95\n",
      "Savings: -0.0250 minutes\n",
      "Drone's waiting time for truck:  0.0250 minutes\n",
      "----------\n",
      "Drone 6\n",
      "Start city for drone: 36\n",
      "Drone serves city: 41\n",
      "End city for drone: 9\n",
      "Savings: -0.0290 minutes\n",
      "Drone's waiting time for truck:  0.0290 minutes\n",
      "----------\n",
      "Drone 7\n",
      "Start city for drone: 57\n",
      "Drone serves city: 40\n",
      "End city for drone: 60\n",
      "Savings: -0.0307 minutes\n",
      "Drone's waiting time for truck:  0.0307 minutes\n",
      "----------\n",
      "Drone 8\n",
      "Start city for drone: 84\n",
      "Drone serves city: 16\n",
      "End city for drone: 74\n",
      "Savings: -0.0604 minutes\n",
      "Drone's waiting time for truck:  0.0604 minutes\n",
      "----------\n",
      "Drone 9\n",
      "Start city for drone: 50\n",
      "Drone serves city: 44\n",
      "End city for drone: 72\n",
      "Savings: -0.1722 minutes\n",
      "Drone's waiting time for truck:  0.1722 minutes\n",
      "----------\n",
      "Drone 10\n",
      "Start city for drone: 70\n",
      "Drone serves city: 2\n",
      "End city for drone: 62\n",
      "Savings: -0.1994 minutes\n",
      "Drone's waiting time for truck:  0.1994 minutes\n",
      "----------\n",
      "Drone 11\n",
      "Start city for drone: 31\n",
      "Drone serves city: 48\n",
      "End city for drone: 91\n",
      "Savings: -0.3037 minutes\n",
      "Drone's waiting time for truck:  0.3037 minutes\n",
      "----------\n",
      "Drone 12\n",
      "Start city for drone: 82\n",
      "Drone serves city: 58\n",
      "End city for drone: 76\n",
      "Savings: -0.6279 minutes\n",
      "Drone's waiting time for truck:  0.6279 minutes\n",
      "----------\n",
      "Drone 13\n",
      "Start city for drone: 3\n",
      "Drone serves city: 68\n",
      "End city for drone: 45\n",
      "Savings: -1.3914 minutes\n",
      "Drone's waiting time for truck:  1.3914 minutes\n",
      "----------\n",
      "Drone 14\n",
      "Start city for drone: 1\n",
      "Drone serves city: 69\n",
      "End city for drone: 78\n",
      "Savings: -1.5769 minutes\n",
      "Drone's waiting time for truck:  1.5769 minutes\n",
      "----------\n",
      "Drone 15\n",
      "Start city for drone: 18\n",
      "Drone serves city: 46\n",
      "End city for drone: 21\n",
      "Savings: -2.1697 minutes\n",
      "Drone's waiting time for truck:  2.1697 minutes\n",
      "----------\n",
      "Drone 16\n",
      "Start city for drone: 98\n",
      "Drone serves city: 14\n",
      "End city for drone: 32\n",
      "Savings: -2.3594 minutes\n",
      "Drone's waiting time for truck:  2.3594 minutes\n",
      "----------\n",
      "Drone 17\n",
      "Start city for drone: 15\n",
      "Drone serves city: 56\n",
      "End city for drone: 52\n",
      "Savings: -5.3666 minutes\n",
      "Drone's waiting time for truck:  5.3666 minutes\n",
      "----------\n",
      "=========================================\n"
     ]
    }
   ],
   "source": [
    "# Determine the optimal drone operations based on the two-opt tour\n",
    "drone_operations = []\n",
    "drone_covered_cities = set()  # set to keep track of cities covered by drones\n",
    "\n",
    "max_drones_allowed = helper.calculate_max_drones(len(two_opt_tour)-1) # finding the max number of drone tours that can be accomodated according to the number of cities\n",
    "\n",
    "# Keep looking for drone operations until no more operations with substantial savings are found\n",
    "while len(drone_operations) <= max_drones_allowed:\n",
    "    best_start, best_end, best_drone_city, max_savings, least_wait_time = helper.find_drone_operations(two_opt_tour, DRONE_PROHIBITED_CITIES, drone_covered_cities, drone_operations, dist_matrix, drone_time_matrix, truck_time_matrix)\n",
    "    if best_start is not None:\n",
    "        drone_operations.append((best_start, best_end, best_drone_city, max_savings, least_wait_time))\n",
    "        drone_covered_cities.add(best_start)\n",
    "        drone_covered_cities.add(best_end)\n",
    "        drone_covered_cities.add(best_drone_city)\n",
    "    else:\n",
    "        break\n",
    "\n",
    "if not drone_operations:\n",
    "    print(\"No suitable drone operation found!\")\n",
    "else:\n",
    "    num_drones = len(drone_operations)\n",
    "    print(f\"Total Drone tours: {num_drones}\\n\")\n",
    "\n",
    "for idx, operation in enumerate(drone_operations):\n",
    "    start, end, drone_city, savings, drone_wait_time = operation\n",
    "    print(f\"Drone {idx + 1}\")\n",
    "    print(f\"Start city for drone: {start}\")\n",
    "    print(f\"Drone serves city: {drone_city}\")\n",
    "    print(f\"End city for drone: {end}\")\n",
    "    print(f\"Savings:\", f\"{savings * 60: .4f} minutes\")\n",
    "    print(f\"Drone's waiting time for truck:\", f\"{drone_wait_time * 60: .4f} minutes\")\n",
    "    print(\"----------\")\n",
    "print(\"=========================================\")"
   ]
  },
  {
   "cell_type": "code",
   "execution_count": 13,
   "metadata": {},
   "outputs": [],
   "source": [
    "adjusted_two_opt_tour = helper.adjust_two_opt_tour_for_drone_operations(two_opt_tour, drone_operations)"
   ]
  },
  {
   "cell_type": "code",
   "execution_count": 14,
   "metadata": {},
   "outputs": [
    {
     "data": {
      "application/vnd.plotly.v1+json": {
       "config": {
        "plotlyServerURL": "https://plot.ly"
       },
       "data": [
        {
         "marker": {
          "color": "black",
          "size": 10
         },
         "mode": "markers",
         "name": "City",
         "type": "scatter",
         "x": [
          3,
          7,
          14,
          7,
          2,
          2,
          2.7,
          9,
          12,
          5,
          6,
          11,
          5,
          10,
          11,
          6,
          6,
          11,
          3,
          8.6,
          13,
          4,
          12,
          6,
          9,
          13,
          4.4,
          10.5,
          2,
          7.95,
          8,
          14,
          3,
          2,
          5,
          11,
          8,
          4,
          9,
          4,
          2,
          12,
          10,
          5,
          6,
          8,
          2,
          11,
          9,
          3,
          11.5,
          8,
          7.6,
          4.6,
          14.2,
          1.6,
          9.6,
          12.6,
          10.6,
          8.4,
          6.1,
          13.4,
          5.4,
          3.1,
          12.1,
          9.1,
          10.9,
          7.6,
          4.6,
          14.6,
          4.2,
          2.8,
          12.1,
          9.1,
          11.3,
          7.6,
          3.1,
          6.2,
          13.2,
          12,
          10.8,
          9.4,
          14.8,
          8.3,
          11,
          3.3,
          5.8
         ],
         "y": [
          9,
          7,
          6,
          4,
          7,
          15,
          11.5,
          11,
          14,
          9,
          5,
          2,
          13,
          5,
          8,
          10,
          3,
          5,
          8,
          9,
          3,
          14,
          6,
          8,
          2,
          1,
          12,
          11.5,
          5,
          13,
          14,
          5,
          5,
          8.5,
          6,
          13,
          2,
          11,
          4,
          8,
          10.5,
          3,
          4,
          11,
          2,
          9,
          13,
          7,
          7,
          7,
          11.5,
          12,
          7.3,
          6.1,
          3.1,
          9.1,
          9.1,
          4.6,
          14.2,
          4.6,
          6.1,
          7.6,
          1.6,
          9.9,
          7.6,
          15,
          10.6,
          12.7,
          4.6,
          13.6,
          10.6,
          12.1,
          12.1,
          10.6,
          9,
          4.6,
          10.6,
          15,
          14.5,
          7.1,
          2.3,
          2.4,
          5.9,
          13.2,
          5.3,
          14.2,
          13
         ]
        },
        {
         "marker": {
          "color": "red",
          "size": 10,
          "symbol": "cross"
         },
         "mode": "markers",
         "name": "Drone Prohibited City",
         "type": "scatter",
         "x": [
          4,
          3,
          1.7,
          4,
          3.1,
          1.6,
          14,
          13,
          12,
          14,
          14.1,
          13.5,
          12.7
         ],
         "y": [
          3,
          2,
          1.7,
          4,
          3.1,
          3.1,
          12,
          10,
          10,
          11,
          10.6,
          9.3,
          10.9
         ]
        },
        {
         "line": {
          "width": 2
         },
         "marker": {
          "color": "black",
          "size": 10
         },
         "mode": "lines",
         "name": "Truck Tour",
         "type": "scatter",
         "x": [
          3,
          6,
          5,
          3,
          3,
          4.6,
          6,
          7.6,
          7,
          6,
          4.6,
          4,
          4,
          3.1,
          3,
          1.7,
          1.6,
          2,
          3,
          2,
          1.6,
          2,
          2.7,
          2.8,
          2,
          2,
          3.3,
          6.2,
          7.6,
          7.95,
          8.3,
          8,
          9.1,
          10.6,
          12,
          13.2,
          14.6,
          14,
          14,
          14.1,
          13.5,
          13,
          12,
          12.7,
          12.1,
          10.5,
          10.9,
          11.3,
          11,
          12,
          12.1,
          13.4,
          14.8,
          14,
          14.2,
          13,
          13,
          11,
          10.8,
          9.4,
          9,
          8,
          5.4,
          6,
          7,
          7.6,
          9,
          10,
          12.6,
          11,
          11,
          10,
          8,
          8.6,
          9.6,
          9,
          8,
          5.8,
          4.4,
          5,
          4.2,
          3.1,
          3.1,
          3,
          3
         ],
         "y": [
          9,
          10,
          9,
          8,
          7,
          6.1,
          8,
          7.3,
          7,
          5,
          4.6,
          4,
          3,
          3.1,
          2,
          1.7,
          3.1,
          5,
          5,
          8.5,
          9.1,
          10.5,
          11.5,
          12.1,
          13,
          15,
          14.2,
          15,
          12.7,
          13,
          13.2,
          14,
          15,
          14.2,
          14,
          14.5,
          13.6,
          12,
          11,
          10.6,
          9.3,
          10,
          10,
          10.9,
          12.1,
          11.5,
          10.6,
          9,
          7,
          7.1,
          7.6,
          7.6,
          5.9,
          5,
          3.1,
          1,
          3,
          2,
          2.3,
          2.4,
          2,
          2,
          1.6,
          3,
          4,
          4.6,
          4,
          4,
          4.6,
          5.3,
          5,
          5,
          9,
          9,
          9.1,
          11,
          12,
          13,
          12,
          11,
          10.6,
          10.6,
          9.9,
          9,
          9
         ]
        },
        {
         "legendgroup": "Drone Tours",
         "line": {
          "dash": "dash",
          "width": 2
         },
         "marker": {
          "color": "black",
          "size": 10
         },
         "mode": "lines",
         "name": "Drone Tour",
         "type": "scatter",
         "x": [
          8.6,
          9.1,
          8
         ],
         "y": [
          9,
          10.6,
          12
         ]
        },
        {
         "legendgroup": "Drone Tours",
         "line": {
          "dash": "dash",
          "width": 2
         },
         "marker": {
          "color": "black",
          "size": 10
         },
         "mode": "lines",
         "showlegend": false,
         "type": "scatter",
         "x": [
          10,
          12,
          11
         ],
         "y": [
          4,
          6,
          5
         ]
        },
        {
         "legendgroup": "Drone Tours",
         "line": {
          "dash": "dash",
          "width": 2
         },
         "marker": {
          "color": "black",
          "size": 10
         },
         "mode": "lines",
         "showlegend": false,
         "type": "scatter",
         "x": [
          9.4,
          6,
          6
         ],
         "y": [
          2.4,
          2,
          3
         ]
        },
        {
         "legendgroup": "Drone Tours",
         "line": {
          "dash": "dash",
          "width": 2
         },
         "marker": {
          "color": "black",
          "size": 10
         },
         "mode": "lines",
         "showlegend": false,
         "type": "scatter",
         "x": [
          2,
          2,
          2.8
         ],
         "y": [
          5,
          7,
          12.1
         ]
        },
        {
         "legendgroup": "Drone Tours",
         "line": {
          "dash": "dash",
          "width": 2
         },
         "marker": {
          "color": "black",
          "size": 10
         },
         "mode": "lines",
         "showlegend": false,
         "type": "scatter",
         "x": [
          3.3,
          4,
          8.3
         ],
         "y": [
          14.2,
          14,
          13.2
         ]
        },
        {
         "legendgroup": "Drone Tours",
         "line": {
          "dash": "dash",
          "width": 2
         },
         "marker": {
          "color": "black",
          "size": 10
         },
         "mode": "lines",
         "showlegend": false,
         "type": "scatter",
         "x": [
          8,
          11,
          12
         ],
         "y": [
          14,
          13,
          14
         ]
        },
        {
         "legendgroup": "Drone Tours",
         "line": {
          "dash": "dash",
          "width": 2
         },
         "marker": {
          "color": "black",
          "size": 10
         },
         "mode": "lines",
         "showlegend": false,
         "type": "scatter",
         "x": [
          3,
          5,
          7.6
         ],
         "y": [
          7,
          6,
          7.3
         ]
        },
        {
         "legendgroup": "Drone Tours",
         "line": {
          "dash": "dash",
          "width": 2
         },
         "marker": {
          "color": "black",
          "size": 10
         },
         "mode": "lines",
         "showlegend": false,
         "type": "scatter",
         "x": [
          11.3,
          11,
          12.1
         ],
         "y": [
          9,
          8,
          7.6
         ]
        },
        {
         "legendgroup": "Drone Tours",
         "line": {
          "dash": "dash",
          "width": 2
         },
         "marker": {
          "color": "black",
          "size": 10
         },
         "mode": "lines",
         "showlegend": false,
         "type": "scatter",
         "x": [
          5,
          4,
          3.1
         ],
         "y": [
          11,
          11,
          9.9
         ]
        },
        {
         "legendgroup": "Drone Tours",
         "line": {
          "dash": "dash",
          "width": 2
         },
         "marker": {
          "color": "black",
          "size": 10
         },
         "mode": "lines",
         "showlegend": false,
         "type": "scatter",
         "x": [
          13.4,
          14,
          14.2
         ],
         "y": [
          7.6,
          6,
          3.1
         ]
        },
        {
         "legendgroup": "Drone Tours",
         "line": {
          "dash": "dash",
          "width": 2
         },
         "marker": {
          "color": "black",
          "size": 10
         },
         "mode": "lines",
         "showlegend": false,
         "type": "scatter",
         "x": [
          13,
          12,
          10.8
         ],
         "y": [
          1,
          3,
          2.3
         ]
        },
        {
         "legendgroup": "Drone Tours",
         "line": {
          "dash": "dash",
          "width": 2
         },
         "marker": {
          "color": "black",
          "size": 10
         },
         "mode": "lines",
         "showlegend": false,
         "type": "scatter",
         "x": [
          12.1,
          11.5,
          10.9
         ],
         "y": [
          12.1,
          11.5,
          10.6
         ]
        },
        {
         "legendgroup": "Drone Tours",
         "line": {
          "dash": "dash",
          "width": 2
         },
         "marker": {
          "color": "black",
          "size": 10
         },
         "mode": "lines",
         "showlegend": false,
         "type": "scatter",
         "x": [
          7,
          8.4,
          9
         ],
         "y": [
          4,
          4.6,
          4
         ]
        },
        {
         "legendgroup": "Drone Tours",
         "line": {
          "dash": "dash",
          "width": 2
         },
         "marker": {
          "color": "black",
          "size": 10
         },
         "mode": "lines",
         "showlegend": false,
         "type": "scatter",
         "x": [
          7,
          6.1,
          4.6
         ],
         "y": [
          7,
          6.1,
          4.6
         ]
        },
        {
         "legendgroup": "Drone Tours",
         "line": {
          "dash": "dash",
          "width": 2
         },
         "marker": {
          "color": "black",
          "size": 10
         },
         "mode": "lines",
         "showlegend": false,
         "type": "scatter",
         "x": [
          6,
          4,
          3
         ],
         "y": [
          10,
          8,
          8
         ]
        },
        {
         "legendgroup": "Drone Tours",
         "line": {
          "dash": "dash",
          "width": 2
         },
         "marker": {
          "color": "black",
          "size": 10
         },
         "mode": "lines",
         "showlegend": false,
         "type": "scatter",
         "x": [
          5.8,
          5,
          4.4
         ],
         "y": [
          13,
          13,
          12
         ]
        },
        {
         "legendgroup": "Drone Tours",
         "line": {
          "dash": "dash",
          "width": 2
         },
         "marker": {
          "color": "black",
          "size": 10
         },
         "mode": "lines",
         "showlegend": false,
         "type": "scatter",
         "x": [
          10,
          9,
          8
         ],
         "y": [
          5,
          7,
          9
         ]
        }
       ],
       "layout": {
        "annotations": [
         {
          "font": {
           "color": "orange",
           "size": 12
          },
          "showarrow": false,
          "text": "0",
          "x": 3.35,
          "xref": "x",
          "y": 9.35,
          "yref": "y"
         },
         {
          "font": {
           "color": "orange",
           "size": 12
          },
          "showarrow": false,
          "text": "1",
          "x": 7.35,
          "xref": "x",
          "y": 7.35,
          "yref": "y"
         },
         {
          "font": {
           "color": "orange",
           "size": 12
          },
          "showarrow": false,
          "text": "2",
          "x": 14.35,
          "xref": "x",
          "y": 6.35,
          "yref": "y"
         },
         {
          "font": {
           "color": "orange",
           "size": 12
          },
          "showarrow": false,
          "text": "3",
          "x": 7.35,
          "xref": "x",
          "y": 4.35,
          "yref": "y"
         },
         {
          "font": {
           "color": "orange",
           "size": 12
          },
          "showarrow": false,
          "text": "4",
          "x": 4.35,
          "xref": "x",
          "y": 3.35,
          "yref": "y"
         },
         {
          "font": {
           "color": "orange",
           "size": 12
          },
          "showarrow": false,
          "text": "5",
          "x": 2.35,
          "xref": "x",
          "y": 7.35,
          "yref": "y"
         },
         {
          "font": {
           "color": "orange",
           "size": 12
          },
          "showarrow": false,
          "text": "6",
          "x": 2.35,
          "xref": "x",
          "y": 15.35,
          "yref": "y"
         },
         {
          "font": {
           "color": "orange",
           "size": 12
          },
          "showarrow": false,
          "text": "7",
          "x": 3.0500000000000003,
          "xref": "x",
          "y": 11.85,
          "yref": "y"
         },
         {
          "font": {
           "color": "orange",
           "size": 12
          },
          "showarrow": false,
          "text": "8",
          "x": 9.35,
          "xref": "x",
          "y": 11.35,
          "yref": "y"
         },
         {
          "font": {
           "color": "orange",
           "size": 12
          },
          "showarrow": false,
          "text": "9",
          "x": 12.35,
          "xref": "x",
          "y": 14.35,
          "yref": "y"
         },
         {
          "font": {
           "color": "orange",
           "size": 12
          },
          "showarrow": false,
          "text": "10",
          "x": 5.35,
          "xref": "x",
          "y": 9.35,
          "yref": "y"
         },
         {
          "font": {
           "color": "orange",
           "size": 12
          },
          "showarrow": false,
          "text": "11",
          "x": 6.35,
          "xref": "x",
          "y": 5.35,
          "yref": "y"
         },
         {
          "font": {
           "color": "orange",
           "size": 12
          },
          "showarrow": false,
          "text": "12",
          "x": 11.35,
          "xref": "x",
          "y": 2.35,
          "yref": "y"
         },
         {
          "font": {
           "color": "orange",
           "size": 12
          },
          "showarrow": false,
          "text": "13",
          "x": 14.35,
          "xref": "x",
          "y": 12.35,
          "yref": "y"
         },
         {
          "font": {
           "color": "orange",
           "size": 12
          },
          "showarrow": false,
          "text": "14",
          "x": 5.35,
          "xref": "x",
          "y": 13.35,
          "yref": "y"
         },
         {
          "font": {
           "color": "orange",
           "size": 12
          },
          "showarrow": false,
          "text": "15",
          "x": 10.35,
          "xref": "x",
          "y": 5.35,
          "yref": "y"
         },
         {
          "font": {
           "color": "orange",
           "size": 12
          },
          "showarrow": false,
          "text": "16",
          "x": 11.35,
          "xref": "x",
          "y": 8.35,
          "yref": "y"
         },
         {
          "font": {
           "color": "orange",
           "size": 12
          },
          "showarrow": false,
          "text": "17",
          "x": 3.35,
          "xref": "x",
          "y": 2.35,
          "yref": "y"
         },
         {
          "font": {
           "color": "orange",
           "size": 12
          },
          "showarrow": false,
          "text": "18",
          "x": 6.35,
          "xref": "x",
          "y": 10.35,
          "yref": "y"
         },
         {
          "font": {
           "color": "orange",
           "size": 12
          },
          "showarrow": false,
          "text": "19",
          "x": 6.35,
          "xref": "x",
          "y": 3.35,
          "yref": "y"
         },
         {
          "font": {
           "color": "orange",
           "size": 12
          },
          "showarrow": false,
          "text": "20",
          "x": 11.35,
          "xref": "x",
          "y": 5.35,
          "yref": "y"
         },
         {
          "font": {
           "color": "orange",
           "size": 12
          },
          "showarrow": false,
          "text": "21",
          "x": 3.35,
          "xref": "x",
          "y": 8.35,
          "yref": "y"
         },
         {
          "font": {
           "color": "orange",
           "size": 12
          },
          "showarrow": false,
          "text": "22",
          "x": 8.95,
          "xref": "x",
          "y": 9.35,
          "yref": "y"
         },
         {
          "font": {
           "color": "orange",
           "size": 12
          },
          "showarrow": false,
          "text": "23",
          "x": 13.35,
          "xref": "x",
          "y": 3.35,
          "yref": "y"
         },
         {
          "font": {
           "color": "orange",
           "size": 12
          },
          "showarrow": false,
          "text": "24",
          "x": 13.35,
          "xref": "x",
          "y": 10.35,
          "yref": "y"
         },
         {
          "font": {
           "color": "orange",
           "size": 12
          },
          "showarrow": false,
          "text": "25",
          "x": 2.05,
          "xref": "x",
          "y": 2.05,
          "yref": "y"
         },
         {
          "font": {
           "color": "orange",
           "size": 12
          },
          "showarrow": false,
          "text": "26",
          "x": 4.35,
          "xref": "x",
          "y": 4.35,
          "yref": "y"
         },
         {
          "font": {
           "color": "orange",
           "size": 12
          },
          "showarrow": false,
          "text": "27",
          "x": 4.35,
          "xref": "x",
          "y": 14.35,
          "yref": "y"
         },
         {
          "font": {
           "color": "orange",
           "size": 12
          },
          "showarrow": false,
          "text": "28",
          "x": 12.35,
          "xref": "x",
          "y": 6.35,
          "yref": "y"
         },
         {
          "font": {
           "color": "orange",
           "size": 12
          },
          "showarrow": false,
          "text": "29",
          "x": 6.35,
          "xref": "x",
          "y": 8.35,
          "yref": "y"
         },
         {
          "font": {
           "color": "orange",
           "size": 12
          },
          "showarrow": false,
          "text": "30",
          "x": 9.35,
          "xref": "x",
          "y": 2.35,
          "yref": "y"
         },
         {
          "font": {
           "color": "orange",
           "size": 12
          },
          "showarrow": false,
          "text": "31",
          "x": 13.35,
          "xref": "x",
          "y": 1.35,
          "yref": "y"
         },
         {
          "font": {
           "color": "orange",
           "size": 12
          },
          "showarrow": false,
          "text": "32",
          "x": 4.75,
          "xref": "x",
          "y": 12.35,
          "yref": "y"
         },
         {
          "font": {
           "color": "orange",
           "size": 12
          },
          "showarrow": false,
          "text": "33",
          "x": 10.85,
          "xref": "x",
          "y": 11.85,
          "yref": "y"
         },
         {
          "font": {
           "color": "orange",
           "size": 12
          },
          "showarrow": false,
          "text": "34",
          "x": 2.35,
          "xref": "x",
          "y": 5.35,
          "yref": "y"
         },
         {
          "font": {
           "color": "orange",
           "size": 12
          },
          "showarrow": false,
          "text": "35",
          "x": 8.3,
          "xref": "x",
          "y": 13.35,
          "yref": "y"
         },
         {
          "font": {
           "color": "orange",
           "size": 12
          },
          "showarrow": false,
          "text": "36",
          "x": 8.35,
          "xref": "x",
          "y": 14.35,
          "yref": "y"
         },
         {
          "font": {
           "color": "orange",
           "size": 12
          },
          "showarrow": false,
          "text": "37",
          "x": 14.35,
          "xref": "x",
          "y": 5.35,
          "yref": "y"
         },
         {
          "font": {
           "color": "orange",
           "size": 12
          },
          "showarrow": false,
          "text": "38",
          "x": 3.35,
          "xref": "x",
          "y": 5.35,
          "yref": "y"
         },
         {
          "font": {
           "color": "orange",
           "size": 12
          },
          "showarrow": false,
          "text": "39",
          "x": 2.35,
          "xref": "x",
          "y": 8.85,
          "yref": "y"
         },
         {
          "font": {
           "color": "orange",
           "size": 12
          },
          "showarrow": false,
          "text": "40",
          "x": 5.35,
          "xref": "x",
          "y": 6.35,
          "yref": "y"
         },
         {
          "font": {
           "color": "orange",
           "size": 12
          },
          "showarrow": false,
          "text": "41",
          "x": 11.35,
          "xref": "x",
          "y": 13.35,
          "yref": "y"
         },
         {
          "font": {
           "color": "orange",
           "size": 12
          },
          "showarrow": false,
          "text": "42",
          "x": 12.35,
          "xref": "x",
          "y": 10.35,
          "yref": "y"
         },
         {
          "font": {
           "color": "orange",
           "size": 12
          },
          "showarrow": false,
          "text": "43",
          "x": 8.35,
          "xref": "x",
          "y": 2.35,
          "yref": "y"
         },
         {
          "font": {
           "color": "orange",
           "size": 12
          },
          "showarrow": false,
          "text": "44",
          "x": 4.35,
          "xref": "x",
          "y": 11.35,
          "yref": "y"
         },
         {
          "font": {
           "color": "orange",
           "size": 12
          },
          "showarrow": false,
          "text": "45",
          "x": 9.35,
          "xref": "x",
          "y": 4.35,
          "yref": "y"
         },
         {
          "font": {
           "color": "orange",
           "size": 12
          },
          "showarrow": false,
          "text": "46",
          "x": 4.35,
          "xref": "x",
          "y": 8.35,
          "yref": "y"
         },
         {
          "font": {
           "color": "orange",
           "size": 12
          },
          "showarrow": false,
          "text": "47",
          "x": 2.35,
          "xref": "x",
          "y": 10.85,
          "yref": "y"
         },
         {
          "font": {
           "color": "orange",
           "size": 12
          },
          "showarrow": false,
          "text": "48",
          "x": 12.35,
          "xref": "x",
          "y": 3.35,
          "yref": "y"
         },
         {
          "font": {
           "color": "orange",
           "size": 12
          },
          "showarrow": false,
          "text": "49",
          "x": 10.35,
          "xref": "x",
          "y": 4.35,
          "yref": "y"
         },
         {
          "font": {
           "color": "orange",
           "size": 12
          },
          "showarrow": false,
          "text": "50",
          "x": 5.35,
          "xref": "x",
          "y": 11.35,
          "yref": "y"
         },
         {
          "font": {
           "color": "orange",
           "size": 12
          },
          "showarrow": false,
          "text": "51",
          "x": 6.35,
          "xref": "x",
          "y": 2.35,
          "yref": "y"
         },
         {
          "font": {
           "color": "orange",
           "size": 12
          },
          "showarrow": false,
          "text": "52",
          "x": 8.35,
          "xref": "x",
          "y": 9.35,
          "yref": "y"
         },
         {
          "font": {
           "color": "orange",
           "size": 12
          },
          "showarrow": false,
          "text": "53",
          "x": 14.35,
          "xref": "x",
          "y": 11.35,
          "yref": "y"
         },
         {
          "font": {
           "color": "orange",
           "size": 12
          },
          "showarrow": false,
          "text": "54",
          "x": 2.35,
          "xref": "x",
          "y": 13.35,
          "yref": "y"
         },
         {
          "font": {
           "color": "orange",
           "size": 12
          },
          "showarrow": false,
          "text": "55",
          "x": 11.35,
          "xref": "x",
          "y": 7.35,
          "yref": "y"
         },
         {
          "font": {
           "color": "orange",
           "size": 12
          },
          "showarrow": false,
          "text": "56",
          "x": 9.35,
          "xref": "x",
          "y": 7.35,
          "yref": "y"
         },
         {
          "font": {
           "color": "orange",
           "size": 12
          },
          "showarrow": false,
          "text": "57",
          "x": 3.35,
          "xref": "x",
          "y": 7.35,
          "yref": "y"
         },
         {
          "font": {
           "color": "orange",
           "size": 12
          },
          "showarrow": false,
          "text": "58",
          "x": 11.85,
          "xref": "x",
          "y": 11.85,
          "yref": "y"
         },
         {
          "font": {
           "color": "orange",
           "size": 12
          },
          "showarrow": false,
          "text": "59",
          "x": 8.35,
          "xref": "x",
          "y": 12.35,
          "yref": "y"
         },
         {
          "font": {
           "color": "orange",
           "size": 12
          },
          "showarrow": false,
          "text": "60",
          "x": 7.949999999999999,
          "xref": "x",
          "y": 7.6499999999999995,
          "yref": "y"
         },
         {
          "font": {
           "color": "orange",
           "size": 12
          },
          "showarrow": false,
          "text": "61",
          "x": 4.949999999999999,
          "xref": "x",
          "y": 6.449999999999999,
          "yref": "y"
         },
         {
          "font": {
           "color": "orange",
           "size": 12
          },
          "showarrow": false,
          "text": "62",
          "x": 14.549999999999999,
          "xref": "x",
          "y": 3.45,
          "yref": "y"
         },
         {
          "font": {
           "color": "orange",
           "size": 12
          },
          "showarrow": false,
          "text": "63",
          "x": 1.9500000000000002,
          "xref": "x",
          "y": 9.45,
          "yref": "y"
         },
         {
          "font": {
           "color": "orange",
           "size": 12
          },
          "showarrow": false,
          "text": "64",
          "x": 9.95,
          "xref": "x",
          "y": 9.45,
          "yref": "y"
         },
         {
          "font": {
           "color": "orange",
           "size": 12
          },
          "showarrow": false,
          "text": "65",
          "x": 12.95,
          "xref": "x",
          "y": 4.949999999999999,
          "yref": "y"
         },
         {
          "font": {
           "color": "orange",
           "size": 12
          },
          "showarrow": false,
          "text": "66",
          "x": 10.95,
          "xref": "x",
          "y": 14.549999999999999,
          "yref": "y"
         },
         {
          "font": {
           "color": "orange",
           "size": 12
          },
          "showarrow": false,
          "text": "67",
          "x": 3.45,
          "xref": "x",
          "y": 3.45,
          "yref": "y"
         },
         {
          "font": {
           "color": "orange",
           "size": 12
          },
          "showarrow": false,
          "text": "68",
          "x": 8.75,
          "xref": "x",
          "y": 4.949999999999999,
          "yref": "y"
         },
         {
          "font": {
           "color": "orange",
           "size": 12
          },
          "showarrow": false,
          "text": "69",
          "x": 6.449999999999999,
          "xref": "x",
          "y": 6.449999999999999,
          "yref": "y"
         },
         {
          "font": {
           "color": "orange",
           "size": 12
          },
          "showarrow": false,
          "text": "70",
          "x": 13.75,
          "xref": "x",
          "y": 7.949999999999999,
          "yref": "y"
         },
         {
          "font": {
           "color": "orange",
           "size": 12
          },
          "showarrow": false,
          "text": "71",
          "x": 5.75,
          "xref": "x",
          "y": 1.9500000000000002,
          "yref": "y"
         },
         {
          "font": {
           "color": "orange",
           "size": 12
          },
          "showarrow": false,
          "text": "72",
          "x": 3.45,
          "xref": "x",
          "y": 10.25,
          "yref": "y"
         },
         {
          "font": {
           "color": "orange",
           "size": 12
          },
          "showarrow": false,
          "text": "73",
          "x": 1.9500000000000002,
          "xref": "x",
          "y": 3.45,
          "yref": "y"
         },
         {
          "font": {
           "color": "orange",
           "size": 12
          },
          "showarrow": false,
          "text": "74",
          "x": 12.45,
          "xref": "x",
          "y": 7.949999999999999,
          "yref": "y"
         },
         {
          "font": {
           "color": "orange",
           "size": 12
          },
          "showarrow": false,
          "text": "75",
          "x": 9.45,
          "xref": "x",
          "y": 15.35,
          "yref": "y"
         },
         {
          "font": {
           "color": "orange",
           "size": 12
          },
          "showarrow": false,
          "text": "76",
          "x": 11.25,
          "xref": "x",
          "y": 10.95,
          "yref": "y"
         },
         {
          "font": {
           "color": "orange",
           "size": 12
          },
          "showarrow": false,
          "text": "77",
          "x": 7.949999999999999,
          "xref": "x",
          "y": 13.049999999999999,
          "yref": "y"
         },
         {
          "font": {
           "color": "orange",
           "size": 12
          },
          "showarrow": false,
          "text": "78",
          "x": 4.949999999999999,
          "xref": "x",
          "y": 4.949999999999999,
          "yref": "y"
         },
         {
          "font": {
           "color": "orange",
           "size": 12
          },
          "showarrow": false,
          "text": "79",
          "x": 14.95,
          "xref": "x",
          "y": 13.95,
          "yref": "y"
         },
         {
          "font": {
           "color": "orange",
           "size": 12
          },
          "showarrow": false,
          "text": "80",
          "x": 4.55,
          "xref": "x",
          "y": 10.95,
          "yref": "y"
         },
         {
          "font": {
           "color": "orange",
           "size": 12
          },
          "showarrow": false,
          "text": "81",
          "x": 3.15,
          "xref": "x",
          "y": 12.45,
          "yref": "y"
         },
         {
          "font": {
           "color": "orange",
           "size": 12
          },
          "showarrow": false,
          "text": "82",
          "x": 12.45,
          "xref": "x",
          "y": 12.45,
          "yref": "y"
         },
         {
          "font": {
           "color": "orange",
           "size": 12
          },
          "showarrow": false,
          "text": "83",
          "x": 9.45,
          "xref": "x",
          "y": 10.95,
          "yref": "y"
         },
         {
          "font": {
           "color": "orange",
           "size": 12
          },
          "showarrow": false,
          "text": "84",
          "x": 11.65,
          "xref": "x",
          "y": 9.35,
          "yref": "y"
         },
         {
          "font": {
           "color": "orange",
           "size": 12
          },
          "showarrow": false,
          "text": "85",
          "x": 7.949999999999999,
          "xref": "x",
          "y": 4.949999999999999,
          "yref": "y"
         },
         {
          "font": {
           "color": "orange",
           "size": 12
          },
          "showarrow": false,
          "text": "86",
          "x": 3.45,
          "xref": "x",
          "y": 10.95,
          "yref": "y"
         },
         {
          "font": {
           "color": "orange",
           "size": 12
          },
          "showarrow": false,
          "text": "87",
          "x": 6.55,
          "xref": "x",
          "y": 15.35,
          "yref": "y"
         },
         {
          "font": {
           "color": "orange",
           "size": 12
          },
          "showarrow": false,
          "text": "88",
          "x": 14.45,
          "xref": "x",
          "y": 10.95,
          "yref": "y"
         },
         {
          "font": {
           "color": "orange",
           "size": 12
          },
          "showarrow": false,
          "text": "89",
          "x": 13.549999999999999,
          "xref": "x",
          "y": 14.85,
          "yref": "y"
         },
         {
          "font": {
           "color": "orange",
           "size": 12
          },
          "showarrow": false,
          "text": "90",
          "x": 12.35,
          "xref": "x",
          "y": 7.449999999999999,
          "yref": "y"
         },
         {
          "font": {
           "color": "orange",
           "size": 12
          },
          "showarrow": false,
          "text": "91",
          "x": 11.15,
          "xref": "x",
          "y": 2.65,
          "yref": "y"
         },
         {
          "font": {
           "color": "orange",
           "size": 12
          },
          "showarrow": false,
          "text": "92",
          "x": 13.85,
          "xref": "x",
          "y": 9.65,
          "yref": "y"
         },
         {
          "font": {
           "color": "orange",
           "size": 12
          },
          "showarrow": false,
          "text": "93",
          "x": 9.75,
          "xref": "x",
          "y": 2.75,
          "yref": "y"
         },
         {
          "font": {
           "color": "orange",
           "size": 12
          },
          "showarrow": false,
          "text": "94",
          "x": 15.15,
          "xref": "x",
          "y": 6.25,
          "yref": "y"
         },
         {
          "font": {
           "color": "orange",
           "size": 12
          },
          "showarrow": false,
          "text": "95",
          "x": 8.65,
          "xref": "x",
          "y": 13.549999999999999,
          "yref": "y"
         },
         {
          "font": {
           "color": "orange",
           "size": 12
          },
          "showarrow": false,
          "text": "96",
          "x": 11.35,
          "xref": "x",
          "y": 5.6499999999999995,
          "yref": "y"
         },
         {
          "font": {
           "color": "orange",
           "size": 12
          },
          "showarrow": false,
          "text": "97",
          "x": 3.65,
          "xref": "x",
          "y": 14.549999999999999,
          "yref": "y"
         },
         {
          "font": {
           "color": "orange",
           "size": 12
          },
          "showarrow": false,
          "text": "98",
          "x": 6.1499999999999995,
          "xref": "x",
          "y": 13.35,
          "yref": "y"
         },
         {
          "font": {
           "color": "orange",
           "size": 12
          },
          "showarrow": false,
          "text": "99",
          "x": 13.049999999999999,
          "xref": "x",
          "y": 11.25,
          "yref": "y"
         }
        ],
        "autosize": false,
        "height": 800,
        "template": {
         "data": {
          "bar": [
           {
            "error_x": {
             "color": "#2a3f5f"
            },
            "error_y": {
             "color": "#2a3f5f"
            },
            "marker": {
             "line": {
              "color": "#E5ECF6",
              "width": 0.5
             },
             "pattern": {
              "fillmode": "overlay",
              "size": 10,
              "solidity": 0.2
             }
            },
            "type": "bar"
           }
          ],
          "barpolar": [
           {
            "marker": {
             "line": {
              "color": "#E5ECF6",
              "width": 0.5
             },
             "pattern": {
              "fillmode": "overlay",
              "size": 10,
              "solidity": 0.2
             }
            },
            "type": "barpolar"
           }
          ],
          "carpet": [
           {
            "aaxis": {
             "endlinecolor": "#2a3f5f",
             "gridcolor": "white",
             "linecolor": "white",
             "minorgridcolor": "white",
             "startlinecolor": "#2a3f5f"
            },
            "baxis": {
             "endlinecolor": "#2a3f5f",
             "gridcolor": "white",
             "linecolor": "white",
             "minorgridcolor": "white",
             "startlinecolor": "#2a3f5f"
            },
            "type": "carpet"
           }
          ],
          "choropleth": [
           {
            "colorbar": {
             "outlinewidth": 0,
             "ticks": ""
            },
            "type": "choropleth"
           }
          ],
          "contour": [
           {
            "colorbar": {
             "outlinewidth": 0,
             "ticks": ""
            },
            "colorscale": [
             [
              0,
              "#0d0887"
             ],
             [
              0.1111111111111111,
              "#46039f"
             ],
             [
              0.2222222222222222,
              "#7201a8"
             ],
             [
              0.3333333333333333,
              "#9c179e"
             ],
             [
              0.4444444444444444,
              "#bd3786"
             ],
             [
              0.5555555555555556,
              "#d8576b"
             ],
             [
              0.6666666666666666,
              "#ed7953"
             ],
             [
              0.7777777777777778,
              "#fb9f3a"
             ],
             [
              0.8888888888888888,
              "#fdca26"
             ],
             [
              1,
              "#f0f921"
             ]
            ],
            "type": "contour"
           }
          ],
          "contourcarpet": [
           {
            "colorbar": {
             "outlinewidth": 0,
             "ticks": ""
            },
            "type": "contourcarpet"
           }
          ],
          "heatmap": [
           {
            "colorbar": {
             "outlinewidth": 0,
             "ticks": ""
            },
            "colorscale": [
             [
              0,
              "#0d0887"
             ],
             [
              0.1111111111111111,
              "#46039f"
             ],
             [
              0.2222222222222222,
              "#7201a8"
             ],
             [
              0.3333333333333333,
              "#9c179e"
             ],
             [
              0.4444444444444444,
              "#bd3786"
             ],
             [
              0.5555555555555556,
              "#d8576b"
             ],
             [
              0.6666666666666666,
              "#ed7953"
             ],
             [
              0.7777777777777778,
              "#fb9f3a"
             ],
             [
              0.8888888888888888,
              "#fdca26"
             ],
             [
              1,
              "#f0f921"
             ]
            ],
            "type": "heatmap"
           }
          ],
          "heatmapgl": [
           {
            "colorbar": {
             "outlinewidth": 0,
             "ticks": ""
            },
            "colorscale": [
             [
              0,
              "#0d0887"
             ],
             [
              0.1111111111111111,
              "#46039f"
             ],
             [
              0.2222222222222222,
              "#7201a8"
             ],
             [
              0.3333333333333333,
              "#9c179e"
             ],
             [
              0.4444444444444444,
              "#bd3786"
             ],
             [
              0.5555555555555556,
              "#d8576b"
             ],
             [
              0.6666666666666666,
              "#ed7953"
             ],
             [
              0.7777777777777778,
              "#fb9f3a"
             ],
             [
              0.8888888888888888,
              "#fdca26"
             ],
             [
              1,
              "#f0f921"
             ]
            ],
            "type": "heatmapgl"
           }
          ],
          "histogram": [
           {
            "marker": {
             "pattern": {
              "fillmode": "overlay",
              "size": 10,
              "solidity": 0.2
             }
            },
            "type": "histogram"
           }
          ],
          "histogram2d": [
           {
            "colorbar": {
             "outlinewidth": 0,
             "ticks": ""
            },
            "colorscale": [
             [
              0,
              "#0d0887"
             ],
             [
              0.1111111111111111,
              "#46039f"
             ],
             [
              0.2222222222222222,
              "#7201a8"
             ],
             [
              0.3333333333333333,
              "#9c179e"
             ],
             [
              0.4444444444444444,
              "#bd3786"
             ],
             [
              0.5555555555555556,
              "#d8576b"
             ],
             [
              0.6666666666666666,
              "#ed7953"
             ],
             [
              0.7777777777777778,
              "#fb9f3a"
             ],
             [
              0.8888888888888888,
              "#fdca26"
             ],
             [
              1,
              "#f0f921"
             ]
            ],
            "type": "histogram2d"
           }
          ],
          "histogram2dcontour": [
           {
            "colorbar": {
             "outlinewidth": 0,
             "ticks": ""
            },
            "colorscale": [
             [
              0,
              "#0d0887"
             ],
             [
              0.1111111111111111,
              "#46039f"
             ],
             [
              0.2222222222222222,
              "#7201a8"
             ],
             [
              0.3333333333333333,
              "#9c179e"
             ],
             [
              0.4444444444444444,
              "#bd3786"
             ],
             [
              0.5555555555555556,
              "#d8576b"
             ],
             [
              0.6666666666666666,
              "#ed7953"
             ],
             [
              0.7777777777777778,
              "#fb9f3a"
             ],
             [
              0.8888888888888888,
              "#fdca26"
             ],
             [
              1,
              "#f0f921"
             ]
            ],
            "type": "histogram2dcontour"
           }
          ],
          "mesh3d": [
           {
            "colorbar": {
             "outlinewidth": 0,
             "ticks": ""
            },
            "type": "mesh3d"
           }
          ],
          "parcoords": [
           {
            "line": {
             "colorbar": {
              "outlinewidth": 0,
              "ticks": ""
             }
            },
            "type": "parcoords"
           }
          ],
          "pie": [
           {
            "automargin": true,
            "type": "pie"
           }
          ],
          "scatter": [
           {
            "fillpattern": {
             "fillmode": "overlay",
             "size": 10,
             "solidity": 0.2
            },
            "type": "scatter"
           }
          ],
          "scatter3d": [
           {
            "line": {
             "colorbar": {
              "outlinewidth": 0,
              "ticks": ""
             }
            },
            "marker": {
             "colorbar": {
              "outlinewidth": 0,
              "ticks": ""
             }
            },
            "type": "scatter3d"
           }
          ],
          "scattercarpet": [
           {
            "marker": {
             "colorbar": {
              "outlinewidth": 0,
              "ticks": ""
             }
            },
            "type": "scattercarpet"
           }
          ],
          "scattergeo": [
           {
            "marker": {
             "colorbar": {
              "outlinewidth": 0,
              "ticks": ""
             }
            },
            "type": "scattergeo"
           }
          ],
          "scattergl": [
           {
            "marker": {
             "colorbar": {
              "outlinewidth": 0,
              "ticks": ""
             }
            },
            "type": "scattergl"
           }
          ],
          "scattermapbox": [
           {
            "marker": {
             "colorbar": {
              "outlinewidth": 0,
              "ticks": ""
             }
            },
            "type": "scattermapbox"
           }
          ],
          "scatterpolar": [
           {
            "marker": {
             "colorbar": {
              "outlinewidth": 0,
              "ticks": ""
             }
            },
            "type": "scatterpolar"
           }
          ],
          "scatterpolargl": [
           {
            "marker": {
             "colorbar": {
              "outlinewidth": 0,
              "ticks": ""
             }
            },
            "type": "scatterpolargl"
           }
          ],
          "scatterternary": [
           {
            "marker": {
             "colorbar": {
              "outlinewidth": 0,
              "ticks": ""
             }
            },
            "type": "scatterternary"
           }
          ],
          "surface": [
           {
            "colorbar": {
             "outlinewidth": 0,
             "ticks": ""
            },
            "colorscale": [
             [
              0,
              "#0d0887"
             ],
             [
              0.1111111111111111,
              "#46039f"
             ],
             [
              0.2222222222222222,
              "#7201a8"
             ],
             [
              0.3333333333333333,
              "#9c179e"
             ],
             [
              0.4444444444444444,
              "#bd3786"
             ],
             [
              0.5555555555555556,
              "#d8576b"
             ],
             [
              0.6666666666666666,
              "#ed7953"
             ],
             [
              0.7777777777777778,
              "#fb9f3a"
             ],
             [
              0.8888888888888888,
              "#fdca26"
             ],
             [
              1,
              "#f0f921"
             ]
            ],
            "type": "surface"
           }
          ],
          "table": [
           {
            "cells": {
             "fill": {
              "color": "#EBF0F8"
             },
             "line": {
              "color": "white"
             }
            },
            "header": {
             "fill": {
              "color": "#C8D4E3"
             },
             "line": {
              "color": "white"
             }
            },
            "type": "table"
           }
          ]
         },
         "layout": {
          "annotationdefaults": {
           "arrowcolor": "#2a3f5f",
           "arrowhead": 0,
           "arrowwidth": 1
          },
          "autotypenumbers": "strict",
          "coloraxis": {
           "colorbar": {
            "outlinewidth": 0,
            "ticks": ""
           }
          },
          "colorscale": {
           "diverging": [
            [
             0,
             "#8e0152"
            ],
            [
             0.1,
             "#c51b7d"
            ],
            [
             0.2,
             "#de77ae"
            ],
            [
             0.3,
             "#f1b6da"
            ],
            [
             0.4,
             "#fde0ef"
            ],
            [
             0.5,
             "#f7f7f7"
            ],
            [
             0.6,
             "#e6f5d0"
            ],
            [
             0.7,
             "#b8e186"
            ],
            [
             0.8,
             "#7fbc41"
            ],
            [
             0.9,
             "#4d9221"
            ],
            [
             1,
             "#276419"
            ]
           ],
           "sequential": [
            [
             0,
             "#0d0887"
            ],
            [
             0.1111111111111111,
             "#46039f"
            ],
            [
             0.2222222222222222,
             "#7201a8"
            ],
            [
             0.3333333333333333,
             "#9c179e"
            ],
            [
             0.4444444444444444,
             "#bd3786"
            ],
            [
             0.5555555555555556,
             "#d8576b"
            ],
            [
             0.6666666666666666,
             "#ed7953"
            ],
            [
             0.7777777777777778,
             "#fb9f3a"
            ],
            [
             0.8888888888888888,
             "#fdca26"
            ],
            [
             1,
             "#f0f921"
            ]
           ],
           "sequentialminus": [
            [
             0,
             "#0d0887"
            ],
            [
             0.1111111111111111,
             "#46039f"
            ],
            [
             0.2222222222222222,
             "#7201a8"
            ],
            [
             0.3333333333333333,
             "#9c179e"
            ],
            [
             0.4444444444444444,
             "#bd3786"
            ],
            [
             0.5555555555555556,
             "#d8576b"
            ],
            [
             0.6666666666666666,
             "#ed7953"
            ],
            [
             0.7777777777777778,
             "#fb9f3a"
            ],
            [
             0.8888888888888888,
             "#fdca26"
            ],
            [
             1,
             "#f0f921"
            ]
           ]
          },
          "colorway": [
           "#636efa",
           "#EF553B",
           "#00cc96",
           "#ab63fa",
           "#FFA15A",
           "#19d3f3",
           "#FF6692",
           "#B6E880",
           "#FF97FF",
           "#FECB52"
          ],
          "font": {
           "color": "#2a3f5f"
          },
          "geo": {
           "bgcolor": "white",
           "lakecolor": "white",
           "landcolor": "#E5ECF6",
           "showlakes": true,
           "showland": true,
           "subunitcolor": "white"
          },
          "hoverlabel": {
           "align": "left"
          },
          "hovermode": "closest",
          "mapbox": {
           "style": "light"
          },
          "paper_bgcolor": "white",
          "plot_bgcolor": "#E5ECF6",
          "polar": {
           "angularaxis": {
            "gridcolor": "white",
            "linecolor": "white",
            "ticks": ""
           },
           "bgcolor": "#E5ECF6",
           "radialaxis": {
            "gridcolor": "white",
            "linecolor": "white",
            "ticks": ""
           }
          },
          "scene": {
           "xaxis": {
            "backgroundcolor": "#E5ECF6",
            "gridcolor": "white",
            "gridwidth": 2,
            "linecolor": "white",
            "showbackground": true,
            "ticks": "",
            "zerolinecolor": "white"
           },
           "yaxis": {
            "backgroundcolor": "#E5ECF6",
            "gridcolor": "white",
            "gridwidth": 2,
            "linecolor": "white",
            "showbackground": true,
            "ticks": "",
            "zerolinecolor": "white"
           },
           "zaxis": {
            "backgroundcolor": "#E5ECF6",
            "gridcolor": "white",
            "gridwidth": 2,
            "linecolor": "white",
            "showbackground": true,
            "ticks": "",
            "zerolinecolor": "white"
           }
          },
          "shapedefaults": {
           "line": {
            "color": "#2a3f5f"
           }
          },
          "ternary": {
           "aaxis": {
            "gridcolor": "white",
            "linecolor": "white",
            "ticks": ""
           },
           "baxis": {
            "gridcolor": "white",
            "linecolor": "white",
            "ticks": ""
           },
           "bgcolor": "#E5ECF6",
           "caxis": {
            "gridcolor": "white",
            "linecolor": "white",
            "ticks": ""
           }
          },
          "title": {
           "x": 0.05
          },
          "xaxis": {
           "automargin": true,
           "gridcolor": "white",
           "linecolor": "white",
           "ticks": "",
           "title": {
            "standoff": 15
           },
           "zerolinecolor": "white",
           "zerolinewidth": 2
          },
          "yaxis": {
           "automargin": true,
           "gridcolor": "white",
           "linecolor": "white",
           "ticks": "",
           "title": {
            "standoff": 15
           },
           "zerolinecolor": "white",
           "zerolinewidth": 2
          }
         }
        },
        "title": {
         "text": "Two-opt Truck and Drone Optimal Tours"
        },
        "width": 800,
        "xaxis": {
         "constrain": "domain",
         "tickvals": [
          0,
          2,
          4,
          6,
          8,
          10,
          12,
          14,
          16,
          18,
          20,
          22,
          24
         ]
        },
        "yaxis": {
         "scaleanchor": "x",
         "tickvals": [
          0,
          2,
          4,
          6,
          8,
          10,
          12,
          14,
          16,
          18,
          20,
          22,
          24
         ]
        }
       }
      }
     },
     "metadata": {},
     "output_type": "display_data"
    }
   ],
   "source": [
    "# Displaying the results\n",
    "all_drone_tours_two_opt = []\n",
    "for idx2, operation in enumerate(drone_operations):\n",
    "    start, end, drone_city, _, _ = operation\n",
    "    current_tour = [start, drone_city, end]\n",
    "    all_drone_tours_two_opt.append(current_tour)\n",
    "\n",
    "#print(all_drone_tours_two_opt)\n",
    "\n",
    "helper.plot_tour(city_list, adjusted_two_opt_tour, DRONE_PROHIBITED_CITIES, \"Two-opt Truck and Drone Optimal Tours\", all_drone_tours_two_opt)"
   ]
  },
  {
   "cell_type": "code",
   "execution_count": 15,
   "metadata": {},
   "outputs": [
    {
     "name": "stdout",
     "output_type": "stream",
     "text": [
      "Cities in the selected region: [2, 8, 9, 12, 13, 15, 16, 20, 22, 23, 24, 28, 30, 31, 33, 36, 37, 41, 42, 43, 45, 48, 49, 52, 53, 55, 56, 58, 59, 62, 64, 65, 66, 68, 70, 74, 75, 76, 79, 82, 83, 84, 88, 89, 90, 91, 92, 93, 94, 95, 96, 99]\n",
      "Selected subtours: [[95, 36, 75, 66, 9, 89, 79, 13, 53, 88, 92, 24, 42, 99, 82, 33, 76, 84, 55, 90, 74, 70, 94, 37, 62, 31, 23, 12, 91, 93, 30, 43], [45, 49, 65, 96, 20, 15, 52, 22, 64, 8, 59]]\n"
     ]
    }
   ],
   "source": [
    "# Get region bounds from user\n",
    "min_x = float(input(\"Enter minimum x-coordinate to perform Matheuristic: \"))\n",
    "max_x = float(input(\"Enter maximum x-coordinate to perform Matheuristic: \"))\n",
    "min_y = float(input(\"Enter minimum y-coordinate to perform Matheuristic: \"))\n",
    "max_y = float(input(\"Enter maximum y-coordinate to perform Matheuristic: \"))\n",
    "\n",
    "# Identify cities within the region\n",
    "selected_cities = helper.get_cities_in_region((min_x, max_x), (min_y, max_y), city_list)\n",
    "print(f\"Cities in the selected region: {selected_cities}\")\n",
    "\n",
    "# Identify subtours in two_opt_tour containing the selected cities\n",
    "selected_subtours = helper.get_subtours_in_region(adjusted_two_opt_tour, selected_cities)\n",
    "print(f\"Selected subtours: {selected_subtours}\")"
   ]
  },
  {
   "cell_type": "code",
   "execution_count": 16,
   "metadata": {},
   "outputs": [
    {
     "name": "stdout",
     "output_type": "stream",
     "text": [
      "[[0, 18, 10, 21, 57, 61, 29, 60, 1, 11, 78, 26, 4, 67, 17, 25, 73, 34, 38, 39, 63, 47, 7, 81, 54, 6, 97, 87, 77, 35, 95], [43, 71, 19, 3, 85, 45], [59, 98, 32, 50, 80, 86, 72, 0]]\n"
     ]
    }
   ],
   "source": [
    "# Sorting the selected segments based on their start position in the two_opt_tour\n",
    "selected_subtours.sort(key=lambda x: adjusted_two_opt_tour.index(x[0]))\n",
    "\n",
    "remaining_segments = []\n",
    "\n",
    "# Initializing start of the first segment\n",
    "start = 0\n",
    "\n",
    "for segment in selected_subtours:\n",
    "    start_idx = adjusted_two_opt_tour.index(segment[0])\n",
    "    end_idx = adjusted_two_opt_tour.index(segment[-1])\n",
    "    \n",
    "    # Append the segment from 'start' to the start of the current segment (inclusive)\n",
    "    remaining_segments.append(adjusted_two_opt_tour[start:start_idx+1])\n",
    "    \n",
    "    # Adjusting 'start' for the next iteration\n",
    "    start = end_idx\n",
    "\n",
    "# Appending the final segment from the end of the last selected segment to the end of two_opt_tour\n",
    "remaining_segments.append(adjusted_two_opt_tour[start:])\n",
    "\n",
    "print(remaining_segments)"
   ]
  },
  {
   "cell_type": "code",
   "execution_count": 17,
   "metadata": {},
   "outputs": [
    {
     "name": "stdout",
     "output_type": "stream",
     "text": [
      "Edge List for Segment 1:\n",
      "[[0, 18], [18, 10], [10, 21], [21, 57], [57, 61], [61, 29], [29, 60], [60, 1], [1, 11], [11, 78], [78, 26], [26, 4], [4, 67], [67, 17], [17, 25], [25, 73], [73, 34], [34, 38], [38, 39], [39, 63], [63, 47], [47, 7], [7, 81], [81, 54], [54, 6], [6, 97], [97, 87], [87, 77], [77, 35], [35, 95]]\n",
      "Edge List for Segment 2:\n",
      "[[43, 71], [71, 19], [19, 3], [3, 85], [85, 45]]\n",
      "Edge List for Segment 3:\n",
      "[[59, 98], [98, 32], [32, 50], [50, 80], [80, 86], [86, 72], [72, 0]]\n"
     ]
    }
   ],
   "source": [
    "all_edge_lists = []\n",
    "\n",
    "# Looping over each segment to form a list of edges\n",
    "for remaining_segment in remaining_segments:\n",
    "\n",
    "    # Formating the tours into [i, j] format\n",
    "    edge_list = [[remaining_segment[i], remaining_segment[i+1]] for i in range(len(remaining_segment)-1)]\n",
    "    \n",
    "    all_edge_lists.append(edge_list)\n",
    "\n",
    "# Displaying the edge lists\n",
    "for idx, edge_list in enumerate(all_edge_lists):\n",
    "    print(f\"Edge List for Segment {idx + 1}:\")\n",
    "    print(edge_list)\n"
   ]
  },
  {
   "cell_type": "code",
   "execution_count": 18,
   "metadata": {},
   "outputs": [
    {
     "name": "stdout",
     "output_type": "stream",
     "text": [
      "Set parameter Username\n",
      "Academic license - for non-commercial use only - expires 2024-07-04\n",
      "Gurobi Optimizer version 10.0.2 build v10.0.2rc0 (win64)\n",
      "\n",
      "CPU model: 11th Gen Intel(R) Core(TM) i5-1135G7 @ 2.40GHz, instruction set [SSE2|AVX|AVX2|AVX512]\n",
      "Thread count: 4 physical cores, 8 logical processors, using up to 8 threads\n",
      "\n",
      "Optimize a model with 49630 rows, 20300 columns and 128550 nonzeros\n",
      "Model fingerprint: 0xc037b308\n",
      "Variable types: 0 continuous, 20300 integer (20200 binary)\n",
      "Coefficient statistics:\n",
      "  Matrix range     [1e+00, 1e+02]\n",
      "  Objective range  [3e-01, 2e+01]\n",
      "  Bounds range     [1e+00, 1e+02]\n",
      "  RHS range        [1e+00, 1e+02]\n",
      "Presolve removed 47827 rows and 18617 columns\n",
      "Presolve time: 0.12s\n",
      "Presolved: 1803 rows, 1683 columns, 8364 nonzeros\n",
      "Variable types: 0 continuous, 1683 integer (1641 binary)\n",
      "Found heuristic solution: objective 379.8253511\n",
      "\n",
      "Root relaxation: objective 1.767038e+02, 154 iterations, 0.01 seconds (0.00 work units)\n",
      "\n",
      "    Nodes    |    Current Node    |     Objective Bounds      |     Work\n",
      " Expl Unexpl |  Obj  Depth IntInf | Incumbent    BestBd   Gap | It/Node Time\n",
      "\n",
      "     0     0  176.70381    0   53  379.82535  176.70381  53.5%     -    0s\n",
      "H    0     0                     192.4576196  176.70381  8.19%     -    0s\n",
      "     0     0  179.58322    0   93  192.45762  179.58322  6.69%     -    0s\n",
      "H    0     0                     180.9961576  179.58322  0.78%     -    0s\n",
      "     0     0  180.00577    0   53  180.99616  180.00577  0.55%     -    0s\n",
      "     0     0  180.00577    0   67  180.99616  180.00577  0.55%     -    0s\n",
      "     0     0  180.18628    0   77  180.99616  180.18628  0.45%     -    0s\n",
      "     0     0  180.18628    0   44  180.99616  180.18628  0.45%     -    0s\n",
      "     0     0  180.18628    0   54  180.99616  180.18628  0.45%     -    0s\n",
      "     0     0  180.27857    0   53  180.99616  180.27857  0.40%     -    0s\n",
      "     0     0  180.27857    0   54  180.99616  180.27857  0.40%     -    0s\n",
      "     0     0  180.30060    0   53  180.99616  180.30060  0.38%     -    0s\n",
      "     0     0  180.55759    0   39  180.99616  180.55759  0.24%     -    0s\n",
      "     0     0  180.64977    0   17  180.99616  180.64977  0.19%     -    0s\n",
      "     0     0  180.70980    0   21  180.99616  180.70980  0.16%     -    0s\n",
      "     0     0  180.95414    0   29  180.99616  180.95414  0.02%     -    0s\n",
      "     0     0  180.95414    0   36  180.99616  180.95414  0.02%     -    0s\n",
      "     0     0  180.95414    0   20  180.99616  180.95414  0.02%     -    0s\n",
      "     0     0  180.95414    0   45  180.99616  180.95414  0.02%     -    0s\n",
      "     0     0  180.95414    0   29  180.99616  180.95414  0.02%     -    0s\n",
      "     0     0  180.95414    0   29  180.99616  180.95414  0.02%     -    0s\n",
      "     0     0  180.95414    0   31  180.99616  180.95414  0.02%     -    0s\n",
      "     0     0  180.95414    0   29  180.99616  180.95414  0.02%     -    0s\n",
      "     0     0  180.95414    0   29  180.99616  180.95414  0.02%     -    0s\n",
      "     0     2  180.95414    0   29  180.99616  180.95414  0.02%     -    0s\n",
      "\n",
      "Cutting planes:\n",
      "  Learned: 6\n",
      "  Gomory: 3\n",
      "  Implied bound: 3\n",
      "  Clique: 1\n",
      "  MIR: 5\n",
      "  Inf proof: 1\n",
      "  RLT: 4\n",
      "  Relax-and-lift: 4\n",
      "\n",
      "Explored 44 nodes (1139 simplex iterations) in 0.68 seconds (0.38 work units)\n",
      "Thread count was 8 (of 8 available processors)\n",
      "\n",
      "Solution count 3: 180.996 192.458 379.825 \n",
      "\n",
      "Optimal solution found (tolerance 1.00e-04)\n",
      "Best objective 1.809961575936e+02, best bound 1.809961575936e+02, gap 0.0000%\n"
     ]
    }
   ],
   "source": [
    "# Creating a Gurobi model\n",
    "model = Model()\n",
    "\n",
    "t = {}\n",
    "d = {}\n",
    "x = {}\n",
    "y = {}\n",
    "\n",
    "for i in range(n):\n",
    "    # Created binary decision variables for truck visiting cities (1 if the city i is visited by the truck, else 0)\n",
    "    t[i] = model.addVar(vtype=GRB.BINARY, name=f't[{i}]')\n",
    "    # Created binary decision variables for the drone visiting cities (1 if the drone visited the city i, else 0)\n",
    "    d[i] = model.addVar(vtype=GRB.BINARY, name=f'd[{i}]')\n",
    "\n",
    "    for j in range(n):\n",
    "        # Created binary decision variables for the truck's path (1 if the truck travels from city i to city j, else 0)\n",
    "        x[i, j] = model.addVar(vtype=GRB.BINARY, name=f'x[{i},{j}]') \n",
    "        # Created binary decision variables for the drone's path (1 if the drone travels from city i to city j, else 0)\n",
    "        y[i, j] = model.addVar(vtype=GRB.BINARY, name=f'y[{i},{j}]')\n",
    "\n",
    "# Setting the objective function to minimize the total distance travelled by truck and drone by the sum of distances the truck and drone travelled between all pair of cities\n",
    "model.setObjective(\n",
    "    quicksum(dist_matrix[i, j] * x[i, j] for i in range(n) for j in range(n))\n",
    "    + quicksum(dist_matrix[i, j] * y[i, j] for i in range(n) for j in range(n)),\n",
    "    GRB.MINIMIZE\n",
    ")\n",
    "\n",
    "# Setting the edges as 1 to freeze and perform the Matheuristics on the remaining tour\n",
    "for idx, edge_list in enumerate(all_edge_lists):\n",
    "    for edge in edge_list:\n",
    "        i, j = edge\n",
    "        model.addConstr(x[i, j] == 1)\n",
    "\n",
    "for i in range(n):\n",
    "    # Constraints for limiting the incoming and outgoing edges to a city to be exactly 1 if the truck visits that city and to form a complete/closed tour \n",
    "    model.addConstr(quicksum(x[i, j] for j in range(n) if i != j) == t[i])  # One outgoing edge if city is visited by the truck\n",
    "    model.addConstr(quicksum(x[j, i] for j in range(n) if i != j) == t[i])  # One incoming edge if city is visited by the truck\n",
    "\n",
    "# Constraints to prevent the drone and truck taking same path in their respective tours\n",
    "for i in range(n):\n",
    "    for j in range(n):\n",
    "        if i != j:\n",
    "            model.addConstr(x[i, j] + y[i, j] <= 1)\n",
    "            model.addConstr(x[j, i] + y[i, j] <= 1)\n",
    "            model.addConstr(x[i, j] + y[j, i] <= 1)\n",
    "            model.addConstr(x[j, i] + y[j, i] <= 1)\n",
    "            # The drone should not go back to the city from where it came\n",
    "            #model.addConstr(y[i, j] + y[j, i] <= 1)\n",
    "\n",
    "# Ensure the truck does not visit the cities served by the drone\n",
    "for _, _, drone_city, _, _ in drone_operations:\n",
    "    model.addConstr(t[drone_city] == 0)\n",
    "\n",
    "# Constraints for each drone based on the drone_operations\n",
    "for start, end, drone_city, _, _ in drone_operations:\n",
    "    # Drone takes off from the truck's start city\n",
    "    model.addConstr(y[start, drone_city] == 1)\n",
    "    \n",
    "    # Drone delivers and flies back to meet the truck at the end city\n",
    "    model.addConstr(y[drone_city, end] == 1)\n",
    "\n",
    "    # Drone serves only the specified city\n",
    "    model.addConstr(d[drone_city] == 1)\n",
    "\n",
    "    # Drone should only visit these 3 cities\n",
    "    model.addConstr(quicksum(d[i] for i in [start, drone_city, end]) == 3)\n",
    "\n",
    "# A dictionary to store the positions of decision variables in the truck's tour\n",
    "u = {}\n",
    "for i in range(n):\n",
    "    u[i] = model.addVar(lb=1, ub=n, vtype=GRB.INTEGER, name=f'u[{i}]')\n",
    "\n",
    "# Fixing the start and end city for the truck's tour\n",
    "u[0].lb = u[0].ub = 0\n",
    "\n",
    "# MTZ formulation for the truck to avoid forming subtours.... refered from WIKIPEDIA\n",
    "for i in range(1, n):\n",
    "    for j in range(1, n):\n",
    "        if i != j:\n",
    "            model.addConstr(u[i] + (n - 1) * x[i, j] <= u[j] + (n - 2))\n",
    "\n",
    "# A constraint to ensure all cities are visited by either truck or drone\n",
    "model.addConstr(quicksum(t[i] for i in range(n) if i not in [drone_city for _, _, drone_city, _, _ in drone_operations]) == n - len(drone_operations))\n",
    "\n",
    "# Optimize the model\n",
    "model.optimize()"
   ]
  },
  {
   "cell_type": "code",
   "execution_count": 19,
   "metadata": {},
   "outputs": [],
   "source": [
    "# if the model is infeasible generate the ilp file to check the constraints causing infeasibility\n",
    "if model.status == GRB.INFEASIBLE:\n",
    "    model.computeIIS() # Compute Irreducible Inconsistent Subsystem\n",
    "    model.write(\"model.ilp\")"
   ]
  },
  {
   "cell_type": "code",
   "execution_count": 20,
   "metadata": {},
   "outputs": [
    {
     "name": "stdout",
     "output_type": "stream",
     "text": [
      "Truck tour: [0, 18, 10, 21, 57, 61, 29, 60, 1, 11, 78, 26, 4, 67, 17, 25, 73, 34, 38, 39, 63, 47, 7, 81, 54, 6, 97, 87, 77, 35, 95, 36, 75, 66, 9, 89, 79, 13, 53, 88, 99, 82, 33, 76, 42, 24, 92, 70, 94, 37, 65, 23, 62, 31, 12, 91, 93, 30, 43, 71, 19, 3, 85, 45, 49, 15, 20, 96, 55, 90, 74, 84, 64, 22, 52, 8, 59, 98, 32, 50, 80, 86, 72, 0]\n"
     ]
    }
   ],
   "source": [
    "# x is the solution matrix for the truck\n",
    "start_city = 0  # Starting city\n",
    "truck_tour_updated = helper.get_tour_from_solution_matrix(x, start_city)\n",
    "truck_tour_updated.append(start_city)\n",
    "\n",
    "print(f\"Truck tour: {truck_tour_updated}\")\n",
    "\n",
    "visited_cities = []\n",
    "all_drone_tours = []\n",
    "\n",
    "# y is the solution matrix for drone\n",
    "for i in {i for (i, _) in y.keys()}:\n",
    "    if i not in visited_cities:\n",
    "        tour = helper.get_tour_from_solution_matrix(y, i)\n",
    "        if len(tour) > 2:  # This ensures that the tour isn't just a single city\n",
    "            all_drone_tours.append(tour)\n",
    "            visited_cities.append(tour)"
   ]
  },
  {
   "cell_type": "code",
   "execution_count": 21,
   "metadata": {},
   "outputs": [],
   "source": [
    "total_all_drone_tours_distance_two_opt = 0.0\n",
    "total_all_drone_tours_duration_two_opt = 0.0\n",
    "\n",
    "# Iterating over all the drone tours directly\n",
    "for idx, drone_tour_two_opt in enumerate(all_drone_tours_two_opt, 1):\n",
    "    tour_distance = helper.calculate_total_distance_time(drone_tour_two_opt, dist_matrix)\n",
    "    tour_duration = helper.calculate_total_distance_time(drone_tour_two_opt, drone_time_matrix)\n",
    "    \n",
    "    total_all_drone_tours_distance_two_opt += tour_distance\n",
    "    total_all_drone_tours_duration_two_opt += tour_duration\n",
    "\n",
    "total_all_drone_tours_distance = 0.0\n",
    "total_all_drone_tours_duration = 0.0\n",
    "\n",
    "# Iterating over all the drone tours directly\n",
    "for idx, drone_tour in enumerate(all_drone_tours, 1):\n",
    "    tour_distance = helper.calculate_total_distance_time(drone_tour, dist_matrix)\n",
    "    tour_duration = helper.calculate_total_distance_time(drone_tour, drone_time_matrix)\n",
    "    \n",
    "    total_all_drone_tours_distance += tour_distance\n",
    "    total_all_drone_tours_duration += tour_duration"
   ]
  },
  {
   "cell_type": "code",
   "execution_count": 22,
   "metadata": {},
   "outputs": [
    {
     "data": {
      "application/vnd.plotly.v1+json": {
       "config": {
        "plotlyServerURL": "https://plot.ly"
       },
       "data": [
        {
         "marker": {
          "color": "black",
          "size": 10
         },
         "mode": "markers",
         "name": "City",
         "type": "scatter",
         "x": [
          3,
          7,
          14,
          7,
          4,
          2,
          2,
          2.7,
          9,
          12,
          5,
          6,
          11,
          14,
          5,
          10,
          11,
          3,
          6,
          6,
          11,
          3,
          8.6,
          13,
          13,
          1.7,
          4,
          4,
          12,
          6,
          9,
          13,
          4.4,
          10.5,
          2,
          7.95,
          8,
          14,
          3,
          2,
          5,
          11,
          12,
          8,
          4,
          9,
          4,
          2,
          12,
          10,
          5,
          6,
          8,
          14,
          2,
          11,
          9,
          3,
          11.5,
          8,
          7.6,
          4.6,
          14.2,
          1.6,
          9.6,
          12.6,
          10.6,
          3.1,
          8.4,
          6.1,
          13.4,
          5.4,
          3.1,
          1.6,
          12.1,
          9.1,
          10.9,
          7.6,
          4.6,
          14.6,
          4.2,
          2.8,
          12.1,
          9.1,
          11.3,
          7.6,
          3.1,
          6.2,
          14.1,
          13.2,
          12,
          10.8,
          13.5,
          9.4,
          14.8,
          8.3,
          11,
          3.3,
          5.8,
          12.7
         ],
         "y": [
          9,
          7,
          6,
          4,
          3,
          7,
          15,
          11.5,
          11,
          14,
          9,
          5,
          2,
          12,
          13,
          5,
          8,
          2,
          10,
          3,
          5,
          8,
          9,
          3,
          10,
          1.7,
          4,
          14,
          6,
          8,
          2,
          1,
          12,
          11.5,
          5,
          13,
          14,
          5,
          5,
          8.5,
          6,
          13,
          10,
          2,
          11,
          4,
          8,
          10.5,
          3,
          4,
          11,
          2,
          9,
          11,
          13,
          7,
          7,
          7,
          11.5,
          12,
          7.3,
          6.1,
          3.1,
          9.1,
          9.1,
          4.6,
          14.2,
          3.1,
          4.6,
          6.1,
          7.6,
          1.6,
          9.9,
          3.1,
          7.6,
          15,
          10.6,
          12.7,
          4.6,
          13.6,
          10.6,
          12.1,
          12.1,
          10.6,
          9,
          4.6,
          10.6,
          15,
          10.6,
          14.5,
          7.1,
          2.3,
          9.3,
          2.4,
          5.9,
          13.2,
          5.3,
          14.2,
          13,
          10.9
         ]
        },
        {
         "marker": {
          "color": "red",
          "size": 10,
          "symbol": "cross"
         },
         "mode": "markers",
         "name": "Drone Prohibited City",
         "type": "scatter",
         "x": [],
         "y": []
        },
        {
         "line": {
          "width": 2
         },
         "marker": {
          "color": "black",
          "size": 10
         },
         "mode": "lines",
         "name": "Truck Tour",
         "type": "scatter",
         "x": [
          3,
          3.1,
          3.1,
          4,
          4.2,
          5,
          4.4,
          5,
          5.8,
          7.6,
          7.95,
          8.3,
          8,
          9.1,
          10.6,
          11,
          12,
          13.2,
          14.6,
          14,
          14,
          14.1,
          13,
          13.5,
          12,
          12.7,
          12.1,
          11.5,
          10.5,
          10.9,
          11.3,
          11,
          11,
          12,
          12.1,
          13.4,
          14,
          14.8,
          14,
          12.6,
          12,
          11,
          11,
          10,
          10,
          9,
          8.4,
          7.6,
          7,
          6,
          6.1,
          5,
          4.6,
          4.6,
          4,
          4,
          3.1,
          3,
          1.7,
          1.6,
          2,
          3,
          3,
          2,
          3,
          4,
          5,
          6,
          6,
          7,
          7.6,
          9,
          8.6,
          8,
          9.6,
          9.1,
          9,
          8,
          6.2,
          4,
          3.3,
          2,
          2,
          2.8,
          2.7,
          2,
          1.6,
          2,
          6,
          6,
          5.4,
          8,
          9,
          9.4,
          10.8,
          11,
          12,
          13,
          14.2,
          13,
          3,
          3
         ],
         "y": [
          9,
          9.9,
          10.6,
          11,
          10.6,
          11,
          12,
          13,
          13,
          12.7,
          13,
          13.2,
          14,
          15,
          14.2,
          13,
          14,
          14.5,
          13.6,
          12,
          11,
          10.6,
          10,
          9.3,
          10,
          10.9,
          12.1,
          11.5,
          11.5,
          10.6,
          9,
          8,
          7,
          7.1,
          7.6,
          7.6,
          6,
          5.9,
          5,
          4.6,
          6,
          5.3,
          5,
          5,
          4,
          4,
          4.6,
          4.6,
          4,
          5,
          6.1,
          6,
          6.1,
          4.6,
          4,
          3,
          3.1,
          2,
          1.7,
          3.1,
          5,
          5,
          7,
          7,
          8,
          8,
          9,
          10,
          8,
          7,
          7.3,
          7,
          9,
          9,
          9.1,
          10.6,
          11,
          12,
          15,
          14,
          14.2,
          15,
          13,
          12.1,
          11.5,
          10.5,
          9.1,
          8.5,
          3,
          2,
          1.6,
          2,
          2,
          2.4,
          2.3,
          2,
          3,
          3,
          3.1,
          1,
          9,
          9
         ]
        }
       ],
       "layout": {
        "annotations": [
         {
          "font": {
           "color": "orange",
           "size": 12
          },
          "showarrow": false,
          "text": "0",
          "x": 3.35,
          "xref": "x",
          "y": 9.35,
          "yref": "y"
         },
         {
          "font": {
           "color": "orange",
           "size": 12
          },
          "showarrow": false,
          "text": "1",
          "x": 7.35,
          "xref": "x",
          "y": 7.35,
          "yref": "y"
         },
         {
          "font": {
           "color": "orange",
           "size": 12
          },
          "showarrow": false,
          "text": "2",
          "x": 14.35,
          "xref": "x",
          "y": 6.35,
          "yref": "y"
         },
         {
          "font": {
           "color": "orange",
           "size": 12
          },
          "showarrow": false,
          "text": "3",
          "x": 7.35,
          "xref": "x",
          "y": 4.35,
          "yref": "y"
         },
         {
          "font": {
           "color": "orange",
           "size": 12
          },
          "showarrow": false,
          "text": "4",
          "x": 4.35,
          "xref": "x",
          "y": 3.35,
          "yref": "y"
         },
         {
          "font": {
           "color": "orange",
           "size": 12
          },
          "showarrow": false,
          "text": "5",
          "x": 2.35,
          "xref": "x",
          "y": 7.35,
          "yref": "y"
         },
         {
          "font": {
           "color": "orange",
           "size": 12
          },
          "showarrow": false,
          "text": "6",
          "x": 2.35,
          "xref": "x",
          "y": 15.35,
          "yref": "y"
         },
         {
          "font": {
           "color": "orange",
           "size": 12
          },
          "showarrow": false,
          "text": "7",
          "x": 3.0500000000000003,
          "xref": "x",
          "y": 11.85,
          "yref": "y"
         },
         {
          "font": {
           "color": "orange",
           "size": 12
          },
          "showarrow": false,
          "text": "8",
          "x": 9.35,
          "xref": "x",
          "y": 11.35,
          "yref": "y"
         },
         {
          "font": {
           "color": "orange",
           "size": 12
          },
          "showarrow": false,
          "text": "9",
          "x": 12.35,
          "xref": "x",
          "y": 14.35,
          "yref": "y"
         },
         {
          "font": {
           "color": "orange",
           "size": 12
          },
          "showarrow": false,
          "text": "10",
          "x": 5.35,
          "xref": "x",
          "y": 9.35,
          "yref": "y"
         },
         {
          "font": {
           "color": "orange",
           "size": 12
          },
          "showarrow": false,
          "text": "11",
          "x": 6.35,
          "xref": "x",
          "y": 5.35,
          "yref": "y"
         },
         {
          "font": {
           "color": "orange",
           "size": 12
          },
          "showarrow": false,
          "text": "12",
          "x": 11.35,
          "xref": "x",
          "y": 2.35,
          "yref": "y"
         },
         {
          "font": {
           "color": "orange",
           "size": 12
          },
          "showarrow": false,
          "text": "13",
          "x": 14.35,
          "xref": "x",
          "y": 12.35,
          "yref": "y"
         },
         {
          "font": {
           "color": "orange",
           "size": 12
          },
          "showarrow": false,
          "text": "14",
          "x": 5.35,
          "xref": "x",
          "y": 13.35,
          "yref": "y"
         },
         {
          "font": {
           "color": "orange",
           "size": 12
          },
          "showarrow": false,
          "text": "15",
          "x": 10.35,
          "xref": "x",
          "y": 5.35,
          "yref": "y"
         },
         {
          "font": {
           "color": "orange",
           "size": 12
          },
          "showarrow": false,
          "text": "16",
          "x": 11.35,
          "xref": "x",
          "y": 8.35,
          "yref": "y"
         },
         {
          "font": {
           "color": "orange",
           "size": 12
          },
          "showarrow": false,
          "text": "17",
          "x": 3.35,
          "xref": "x",
          "y": 2.35,
          "yref": "y"
         },
         {
          "font": {
           "color": "orange",
           "size": 12
          },
          "showarrow": false,
          "text": "18",
          "x": 6.35,
          "xref": "x",
          "y": 10.35,
          "yref": "y"
         },
         {
          "font": {
           "color": "orange",
           "size": 12
          },
          "showarrow": false,
          "text": "19",
          "x": 6.35,
          "xref": "x",
          "y": 3.35,
          "yref": "y"
         },
         {
          "font": {
           "color": "orange",
           "size": 12
          },
          "showarrow": false,
          "text": "20",
          "x": 11.35,
          "xref": "x",
          "y": 5.35,
          "yref": "y"
         },
         {
          "font": {
           "color": "orange",
           "size": 12
          },
          "showarrow": false,
          "text": "21",
          "x": 3.35,
          "xref": "x",
          "y": 8.35,
          "yref": "y"
         },
         {
          "font": {
           "color": "orange",
           "size": 12
          },
          "showarrow": false,
          "text": "22",
          "x": 8.95,
          "xref": "x",
          "y": 9.35,
          "yref": "y"
         },
         {
          "font": {
           "color": "orange",
           "size": 12
          },
          "showarrow": false,
          "text": "23",
          "x": 13.35,
          "xref": "x",
          "y": 3.35,
          "yref": "y"
         },
         {
          "font": {
           "color": "orange",
           "size": 12
          },
          "showarrow": false,
          "text": "24",
          "x": 13.35,
          "xref": "x",
          "y": 10.35,
          "yref": "y"
         },
         {
          "font": {
           "color": "orange",
           "size": 12
          },
          "showarrow": false,
          "text": "25",
          "x": 2.05,
          "xref": "x",
          "y": 2.05,
          "yref": "y"
         },
         {
          "font": {
           "color": "orange",
           "size": 12
          },
          "showarrow": false,
          "text": "26",
          "x": 4.35,
          "xref": "x",
          "y": 4.35,
          "yref": "y"
         },
         {
          "font": {
           "color": "orange",
           "size": 12
          },
          "showarrow": false,
          "text": "27",
          "x": 4.35,
          "xref": "x",
          "y": 14.35,
          "yref": "y"
         },
         {
          "font": {
           "color": "orange",
           "size": 12
          },
          "showarrow": false,
          "text": "28",
          "x": 12.35,
          "xref": "x",
          "y": 6.35,
          "yref": "y"
         },
         {
          "font": {
           "color": "orange",
           "size": 12
          },
          "showarrow": false,
          "text": "29",
          "x": 6.35,
          "xref": "x",
          "y": 8.35,
          "yref": "y"
         },
         {
          "font": {
           "color": "orange",
           "size": 12
          },
          "showarrow": false,
          "text": "30",
          "x": 9.35,
          "xref": "x",
          "y": 2.35,
          "yref": "y"
         },
         {
          "font": {
           "color": "orange",
           "size": 12
          },
          "showarrow": false,
          "text": "31",
          "x": 13.35,
          "xref": "x",
          "y": 1.35,
          "yref": "y"
         },
         {
          "font": {
           "color": "orange",
           "size": 12
          },
          "showarrow": false,
          "text": "32",
          "x": 4.75,
          "xref": "x",
          "y": 12.35,
          "yref": "y"
         },
         {
          "font": {
           "color": "orange",
           "size": 12
          },
          "showarrow": false,
          "text": "33",
          "x": 10.85,
          "xref": "x",
          "y": 11.85,
          "yref": "y"
         },
         {
          "font": {
           "color": "orange",
           "size": 12
          },
          "showarrow": false,
          "text": "34",
          "x": 2.35,
          "xref": "x",
          "y": 5.35,
          "yref": "y"
         },
         {
          "font": {
           "color": "orange",
           "size": 12
          },
          "showarrow": false,
          "text": "35",
          "x": 8.3,
          "xref": "x",
          "y": 13.35,
          "yref": "y"
         },
         {
          "font": {
           "color": "orange",
           "size": 12
          },
          "showarrow": false,
          "text": "36",
          "x": 8.35,
          "xref": "x",
          "y": 14.35,
          "yref": "y"
         },
         {
          "font": {
           "color": "orange",
           "size": 12
          },
          "showarrow": false,
          "text": "37",
          "x": 14.35,
          "xref": "x",
          "y": 5.35,
          "yref": "y"
         },
         {
          "font": {
           "color": "orange",
           "size": 12
          },
          "showarrow": false,
          "text": "38",
          "x": 3.35,
          "xref": "x",
          "y": 5.35,
          "yref": "y"
         },
         {
          "font": {
           "color": "orange",
           "size": 12
          },
          "showarrow": false,
          "text": "39",
          "x": 2.35,
          "xref": "x",
          "y": 8.85,
          "yref": "y"
         },
         {
          "font": {
           "color": "orange",
           "size": 12
          },
          "showarrow": false,
          "text": "40",
          "x": 5.35,
          "xref": "x",
          "y": 6.35,
          "yref": "y"
         },
         {
          "font": {
           "color": "orange",
           "size": 12
          },
          "showarrow": false,
          "text": "41",
          "x": 11.35,
          "xref": "x",
          "y": 13.35,
          "yref": "y"
         },
         {
          "font": {
           "color": "orange",
           "size": 12
          },
          "showarrow": false,
          "text": "42",
          "x": 12.35,
          "xref": "x",
          "y": 10.35,
          "yref": "y"
         },
         {
          "font": {
           "color": "orange",
           "size": 12
          },
          "showarrow": false,
          "text": "43",
          "x": 8.35,
          "xref": "x",
          "y": 2.35,
          "yref": "y"
         },
         {
          "font": {
           "color": "orange",
           "size": 12
          },
          "showarrow": false,
          "text": "44",
          "x": 4.35,
          "xref": "x",
          "y": 11.35,
          "yref": "y"
         },
         {
          "font": {
           "color": "orange",
           "size": 12
          },
          "showarrow": false,
          "text": "45",
          "x": 9.35,
          "xref": "x",
          "y": 4.35,
          "yref": "y"
         },
         {
          "font": {
           "color": "orange",
           "size": 12
          },
          "showarrow": false,
          "text": "46",
          "x": 4.35,
          "xref": "x",
          "y": 8.35,
          "yref": "y"
         },
         {
          "font": {
           "color": "orange",
           "size": 12
          },
          "showarrow": false,
          "text": "47",
          "x": 2.35,
          "xref": "x",
          "y": 10.85,
          "yref": "y"
         },
         {
          "font": {
           "color": "orange",
           "size": 12
          },
          "showarrow": false,
          "text": "48",
          "x": 12.35,
          "xref": "x",
          "y": 3.35,
          "yref": "y"
         },
         {
          "font": {
           "color": "orange",
           "size": 12
          },
          "showarrow": false,
          "text": "49",
          "x": 10.35,
          "xref": "x",
          "y": 4.35,
          "yref": "y"
         },
         {
          "font": {
           "color": "orange",
           "size": 12
          },
          "showarrow": false,
          "text": "50",
          "x": 5.35,
          "xref": "x",
          "y": 11.35,
          "yref": "y"
         },
         {
          "font": {
           "color": "orange",
           "size": 12
          },
          "showarrow": false,
          "text": "51",
          "x": 6.35,
          "xref": "x",
          "y": 2.35,
          "yref": "y"
         },
         {
          "font": {
           "color": "orange",
           "size": 12
          },
          "showarrow": false,
          "text": "52",
          "x": 8.35,
          "xref": "x",
          "y": 9.35,
          "yref": "y"
         },
         {
          "font": {
           "color": "orange",
           "size": 12
          },
          "showarrow": false,
          "text": "53",
          "x": 14.35,
          "xref": "x",
          "y": 11.35,
          "yref": "y"
         },
         {
          "font": {
           "color": "orange",
           "size": 12
          },
          "showarrow": false,
          "text": "54",
          "x": 2.35,
          "xref": "x",
          "y": 13.35,
          "yref": "y"
         },
         {
          "font": {
           "color": "orange",
           "size": 12
          },
          "showarrow": false,
          "text": "55",
          "x": 11.35,
          "xref": "x",
          "y": 7.35,
          "yref": "y"
         },
         {
          "font": {
           "color": "orange",
           "size": 12
          },
          "showarrow": false,
          "text": "56",
          "x": 9.35,
          "xref": "x",
          "y": 7.35,
          "yref": "y"
         },
         {
          "font": {
           "color": "orange",
           "size": 12
          },
          "showarrow": false,
          "text": "57",
          "x": 3.35,
          "xref": "x",
          "y": 7.35,
          "yref": "y"
         },
         {
          "font": {
           "color": "orange",
           "size": 12
          },
          "showarrow": false,
          "text": "58",
          "x": 11.85,
          "xref": "x",
          "y": 11.85,
          "yref": "y"
         },
         {
          "font": {
           "color": "orange",
           "size": 12
          },
          "showarrow": false,
          "text": "59",
          "x": 8.35,
          "xref": "x",
          "y": 12.35,
          "yref": "y"
         },
         {
          "font": {
           "color": "orange",
           "size": 12
          },
          "showarrow": false,
          "text": "60",
          "x": 7.949999999999999,
          "xref": "x",
          "y": 7.6499999999999995,
          "yref": "y"
         },
         {
          "font": {
           "color": "orange",
           "size": 12
          },
          "showarrow": false,
          "text": "61",
          "x": 4.949999999999999,
          "xref": "x",
          "y": 6.449999999999999,
          "yref": "y"
         },
         {
          "font": {
           "color": "orange",
           "size": 12
          },
          "showarrow": false,
          "text": "62",
          "x": 14.549999999999999,
          "xref": "x",
          "y": 3.45,
          "yref": "y"
         },
         {
          "font": {
           "color": "orange",
           "size": 12
          },
          "showarrow": false,
          "text": "63",
          "x": 1.9500000000000002,
          "xref": "x",
          "y": 9.45,
          "yref": "y"
         },
         {
          "font": {
           "color": "orange",
           "size": 12
          },
          "showarrow": false,
          "text": "64",
          "x": 9.95,
          "xref": "x",
          "y": 9.45,
          "yref": "y"
         },
         {
          "font": {
           "color": "orange",
           "size": 12
          },
          "showarrow": false,
          "text": "65",
          "x": 12.95,
          "xref": "x",
          "y": 4.949999999999999,
          "yref": "y"
         },
         {
          "font": {
           "color": "orange",
           "size": 12
          },
          "showarrow": false,
          "text": "66",
          "x": 10.95,
          "xref": "x",
          "y": 14.549999999999999,
          "yref": "y"
         },
         {
          "font": {
           "color": "orange",
           "size": 12
          },
          "showarrow": false,
          "text": "67",
          "x": 3.45,
          "xref": "x",
          "y": 3.45,
          "yref": "y"
         },
         {
          "font": {
           "color": "orange",
           "size": 12
          },
          "showarrow": false,
          "text": "68",
          "x": 8.75,
          "xref": "x",
          "y": 4.949999999999999,
          "yref": "y"
         },
         {
          "font": {
           "color": "orange",
           "size": 12
          },
          "showarrow": false,
          "text": "69",
          "x": 6.449999999999999,
          "xref": "x",
          "y": 6.449999999999999,
          "yref": "y"
         },
         {
          "font": {
           "color": "orange",
           "size": 12
          },
          "showarrow": false,
          "text": "70",
          "x": 13.75,
          "xref": "x",
          "y": 7.949999999999999,
          "yref": "y"
         },
         {
          "font": {
           "color": "orange",
           "size": 12
          },
          "showarrow": false,
          "text": "71",
          "x": 5.75,
          "xref": "x",
          "y": 1.9500000000000002,
          "yref": "y"
         },
         {
          "font": {
           "color": "orange",
           "size": 12
          },
          "showarrow": false,
          "text": "72",
          "x": 3.45,
          "xref": "x",
          "y": 10.25,
          "yref": "y"
         },
         {
          "font": {
           "color": "orange",
           "size": 12
          },
          "showarrow": false,
          "text": "73",
          "x": 1.9500000000000002,
          "xref": "x",
          "y": 3.45,
          "yref": "y"
         },
         {
          "font": {
           "color": "orange",
           "size": 12
          },
          "showarrow": false,
          "text": "74",
          "x": 12.45,
          "xref": "x",
          "y": 7.949999999999999,
          "yref": "y"
         },
         {
          "font": {
           "color": "orange",
           "size": 12
          },
          "showarrow": false,
          "text": "75",
          "x": 9.45,
          "xref": "x",
          "y": 15.35,
          "yref": "y"
         },
         {
          "font": {
           "color": "orange",
           "size": 12
          },
          "showarrow": false,
          "text": "76",
          "x": 11.25,
          "xref": "x",
          "y": 10.95,
          "yref": "y"
         },
         {
          "font": {
           "color": "orange",
           "size": 12
          },
          "showarrow": false,
          "text": "77",
          "x": 7.949999999999999,
          "xref": "x",
          "y": 13.049999999999999,
          "yref": "y"
         },
         {
          "font": {
           "color": "orange",
           "size": 12
          },
          "showarrow": false,
          "text": "78",
          "x": 4.949999999999999,
          "xref": "x",
          "y": 4.949999999999999,
          "yref": "y"
         },
         {
          "font": {
           "color": "orange",
           "size": 12
          },
          "showarrow": false,
          "text": "79",
          "x": 14.95,
          "xref": "x",
          "y": 13.95,
          "yref": "y"
         },
         {
          "font": {
           "color": "orange",
           "size": 12
          },
          "showarrow": false,
          "text": "80",
          "x": 4.55,
          "xref": "x",
          "y": 10.95,
          "yref": "y"
         },
         {
          "font": {
           "color": "orange",
           "size": 12
          },
          "showarrow": false,
          "text": "81",
          "x": 3.15,
          "xref": "x",
          "y": 12.45,
          "yref": "y"
         },
         {
          "font": {
           "color": "orange",
           "size": 12
          },
          "showarrow": false,
          "text": "82",
          "x": 12.45,
          "xref": "x",
          "y": 12.45,
          "yref": "y"
         },
         {
          "font": {
           "color": "orange",
           "size": 12
          },
          "showarrow": false,
          "text": "83",
          "x": 9.45,
          "xref": "x",
          "y": 10.95,
          "yref": "y"
         },
         {
          "font": {
           "color": "orange",
           "size": 12
          },
          "showarrow": false,
          "text": "84",
          "x": 11.65,
          "xref": "x",
          "y": 9.35,
          "yref": "y"
         },
         {
          "font": {
           "color": "orange",
           "size": 12
          },
          "showarrow": false,
          "text": "85",
          "x": 7.949999999999999,
          "xref": "x",
          "y": 4.949999999999999,
          "yref": "y"
         },
         {
          "font": {
           "color": "orange",
           "size": 12
          },
          "showarrow": false,
          "text": "86",
          "x": 3.45,
          "xref": "x",
          "y": 10.95,
          "yref": "y"
         },
         {
          "font": {
           "color": "orange",
           "size": 12
          },
          "showarrow": false,
          "text": "87",
          "x": 6.55,
          "xref": "x",
          "y": 15.35,
          "yref": "y"
         },
         {
          "font": {
           "color": "orange",
           "size": 12
          },
          "showarrow": false,
          "text": "88",
          "x": 14.45,
          "xref": "x",
          "y": 10.95,
          "yref": "y"
         },
         {
          "font": {
           "color": "orange",
           "size": 12
          },
          "showarrow": false,
          "text": "89",
          "x": 13.549999999999999,
          "xref": "x",
          "y": 14.85,
          "yref": "y"
         },
         {
          "font": {
           "color": "orange",
           "size": 12
          },
          "showarrow": false,
          "text": "90",
          "x": 12.35,
          "xref": "x",
          "y": 7.449999999999999,
          "yref": "y"
         },
         {
          "font": {
           "color": "orange",
           "size": 12
          },
          "showarrow": false,
          "text": "91",
          "x": 11.15,
          "xref": "x",
          "y": 2.65,
          "yref": "y"
         },
         {
          "font": {
           "color": "orange",
           "size": 12
          },
          "showarrow": false,
          "text": "92",
          "x": 13.85,
          "xref": "x",
          "y": 9.65,
          "yref": "y"
         },
         {
          "font": {
           "color": "orange",
           "size": 12
          },
          "showarrow": false,
          "text": "93",
          "x": 9.75,
          "xref": "x",
          "y": 2.75,
          "yref": "y"
         },
         {
          "font": {
           "color": "orange",
           "size": 12
          },
          "showarrow": false,
          "text": "94",
          "x": 15.15,
          "xref": "x",
          "y": 6.25,
          "yref": "y"
         },
         {
          "font": {
           "color": "orange",
           "size": 12
          },
          "showarrow": false,
          "text": "95",
          "x": 8.65,
          "xref": "x",
          "y": 13.549999999999999,
          "yref": "y"
         },
         {
          "font": {
           "color": "orange",
           "size": 12
          },
          "showarrow": false,
          "text": "96",
          "x": 11.35,
          "xref": "x",
          "y": 5.6499999999999995,
          "yref": "y"
         },
         {
          "font": {
           "color": "orange",
           "size": 12
          },
          "showarrow": false,
          "text": "97",
          "x": 3.65,
          "xref": "x",
          "y": 14.549999999999999,
          "yref": "y"
         },
         {
          "font": {
           "color": "orange",
           "size": 12
          },
          "showarrow": false,
          "text": "98",
          "x": 6.1499999999999995,
          "xref": "x",
          "y": 13.35,
          "yref": "y"
         },
         {
          "font": {
           "color": "orange",
           "size": 12
          },
          "showarrow": false,
          "text": "99",
          "x": 13.049999999999999,
          "xref": "x",
          "y": 11.25,
          "yref": "y"
         }
        ],
        "autosize": false,
        "height": 800,
        "template": {
         "data": {
          "bar": [
           {
            "error_x": {
             "color": "#2a3f5f"
            },
            "error_y": {
             "color": "#2a3f5f"
            },
            "marker": {
             "line": {
              "color": "#E5ECF6",
              "width": 0.5
             },
             "pattern": {
              "fillmode": "overlay",
              "size": 10,
              "solidity": 0.2
             }
            },
            "type": "bar"
           }
          ],
          "barpolar": [
           {
            "marker": {
             "line": {
              "color": "#E5ECF6",
              "width": 0.5
             },
             "pattern": {
              "fillmode": "overlay",
              "size": 10,
              "solidity": 0.2
             }
            },
            "type": "barpolar"
           }
          ],
          "carpet": [
           {
            "aaxis": {
             "endlinecolor": "#2a3f5f",
             "gridcolor": "white",
             "linecolor": "white",
             "minorgridcolor": "white",
             "startlinecolor": "#2a3f5f"
            },
            "baxis": {
             "endlinecolor": "#2a3f5f",
             "gridcolor": "white",
             "linecolor": "white",
             "minorgridcolor": "white",
             "startlinecolor": "#2a3f5f"
            },
            "type": "carpet"
           }
          ],
          "choropleth": [
           {
            "colorbar": {
             "outlinewidth": 0,
             "ticks": ""
            },
            "type": "choropleth"
           }
          ],
          "contour": [
           {
            "colorbar": {
             "outlinewidth": 0,
             "ticks": ""
            },
            "colorscale": [
             [
              0,
              "#0d0887"
             ],
             [
              0.1111111111111111,
              "#46039f"
             ],
             [
              0.2222222222222222,
              "#7201a8"
             ],
             [
              0.3333333333333333,
              "#9c179e"
             ],
             [
              0.4444444444444444,
              "#bd3786"
             ],
             [
              0.5555555555555556,
              "#d8576b"
             ],
             [
              0.6666666666666666,
              "#ed7953"
             ],
             [
              0.7777777777777778,
              "#fb9f3a"
             ],
             [
              0.8888888888888888,
              "#fdca26"
             ],
             [
              1,
              "#f0f921"
             ]
            ],
            "type": "contour"
           }
          ],
          "contourcarpet": [
           {
            "colorbar": {
             "outlinewidth": 0,
             "ticks": ""
            },
            "type": "contourcarpet"
           }
          ],
          "heatmap": [
           {
            "colorbar": {
             "outlinewidth": 0,
             "ticks": ""
            },
            "colorscale": [
             [
              0,
              "#0d0887"
             ],
             [
              0.1111111111111111,
              "#46039f"
             ],
             [
              0.2222222222222222,
              "#7201a8"
             ],
             [
              0.3333333333333333,
              "#9c179e"
             ],
             [
              0.4444444444444444,
              "#bd3786"
             ],
             [
              0.5555555555555556,
              "#d8576b"
             ],
             [
              0.6666666666666666,
              "#ed7953"
             ],
             [
              0.7777777777777778,
              "#fb9f3a"
             ],
             [
              0.8888888888888888,
              "#fdca26"
             ],
             [
              1,
              "#f0f921"
             ]
            ],
            "type": "heatmap"
           }
          ],
          "heatmapgl": [
           {
            "colorbar": {
             "outlinewidth": 0,
             "ticks": ""
            },
            "colorscale": [
             [
              0,
              "#0d0887"
             ],
             [
              0.1111111111111111,
              "#46039f"
             ],
             [
              0.2222222222222222,
              "#7201a8"
             ],
             [
              0.3333333333333333,
              "#9c179e"
             ],
             [
              0.4444444444444444,
              "#bd3786"
             ],
             [
              0.5555555555555556,
              "#d8576b"
             ],
             [
              0.6666666666666666,
              "#ed7953"
             ],
             [
              0.7777777777777778,
              "#fb9f3a"
             ],
             [
              0.8888888888888888,
              "#fdca26"
             ],
             [
              1,
              "#f0f921"
             ]
            ],
            "type": "heatmapgl"
           }
          ],
          "histogram": [
           {
            "marker": {
             "pattern": {
              "fillmode": "overlay",
              "size": 10,
              "solidity": 0.2
             }
            },
            "type": "histogram"
           }
          ],
          "histogram2d": [
           {
            "colorbar": {
             "outlinewidth": 0,
             "ticks": ""
            },
            "colorscale": [
             [
              0,
              "#0d0887"
             ],
             [
              0.1111111111111111,
              "#46039f"
             ],
             [
              0.2222222222222222,
              "#7201a8"
             ],
             [
              0.3333333333333333,
              "#9c179e"
             ],
             [
              0.4444444444444444,
              "#bd3786"
             ],
             [
              0.5555555555555556,
              "#d8576b"
             ],
             [
              0.6666666666666666,
              "#ed7953"
             ],
             [
              0.7777777777777778,
              "#fb9f3a"
             ],
             [
              0.8888888888888888,
              "#fdca26"
             ],
             [
              1,
              "#f0f921"
             ]
            ],
            "type": "histogram2d"
           }
          ],
          "histogram2dcontour": [
           {
            "colorbar": {
             "outlinewidth": 0,
             "ticks": ""
            },
            "colorscale": [
             [
              0,
              "#0d0887"
             ],
             [
              0.1111111111111111,
              "#46039f"
             ],
             [
              0.2222222222222222,
              "#7201a8"
             ],
             [
              0.3333333333333333,
              "#9c179e"
             ],
             [
              0.4444444444444444,
              "#bd3786"
             ],
             [
              0.5555555555555556,
              "#d8576b"
             ],
             [
              0.6666666666666666,
              "#ed7953"
             ],
             [
              0.7777777777777778,
              "#fb9f3a"
             ],
             [
              0.8888888888888888,
              "#fdca26"
             ],
             [
              1,
              "#f0f921"
             ]
            ],
            "type": "histogram2dcontour"
           }
          ],
          "mesh3d": [
           {
            "colorbar": {
             "outlinewidth": 0,
             "ticks": ""
            },
            "type": "mesh3d"
           }
          ],
          "parcoords": [
           {
            "line": {
             "colorbar": {
              "outlinewidth": 0,
              "ticks": ""
             }
            },
            "type": "parcoords"
           }
          ],
          "pie": [
           {
            "automargin": true,
            "type": "pie"
           }
          ],
          "scatter": [
           {
            "fillpattern": {
             "fillmode": "overlay",
             "size": 10,
             "solidity": 0.2
            },
            "type": "scatter"
           }
          ],
          "scatter3d": [
           {
            "line": {
             "colorbar": {
              "outlinewidth": 0,
              "ticks": ""
             }
            },
            "marker": {
             "colorbar": {
              "outlinewidth": 0,
              "ticks": ""
             }
            },
            "type": "scatter3d"
           }
          ],
          "scattercarpet": [
           {
            "marker": {
             "colorbar": {
              "outlinewidth": 0,
              "ticks": ""
             }
            },
            "type": "scattercarpet"
           }
          ],
          "scattergeo": [
           {
            "marker": {
             "colorbar": {
              "outlinewidth": 0,
              "ticks": ""
             }
            },
            "type": "scattergeo"
           }
          ],
          "scattergl": [
           {
            "marker": {
             "colorbar": {
              "outlinewidth": 0,
              "ticks": ""
             }
            },
            "type": "scattergl"
           }
          ],
          "scattermapbox": [
           {
            "marker": {
             "colorbar": {
              "outlinewidth": 0,
              "ticks": ""
             }
            },
            "type": "scattermapbox"
           }
          ],
          "scatterpolar": [
           {
            "marker": {
             "colorbar": {
              "outlinewidth": 0,
              "ticks": ""
             }
            },
            "type": "scatterpolar"
           }
          ],
          "scatterpolargl": [
           {
            "marker": {
             "colorbar": {
              "outlinewidth": 0,
              "ticks": ""
             }
            },
            "type": "scatterpolargl"
           }
          ],
          "scatterternary": [
           {
            "marker": {
             "colorbar": {
              "outlinewidth": 0,
              "ticks": ""
             }
            },
            "type": "scatterternary"
           }
          ],
          "surface": [
           {
            "colorbar": {
             "outlinewidth": 0,
             "ticks": ""
            },
            "colorscale": [
             [
              0,
              "#0d0887"
             ],
             [
              0.1111111111111111,
              "#46039f"
             ],
             [
              0.2222222222222222,
              "#7201a8"
             ],
             [
              0.3333333333333333,
              "#9c179e"
             ],
             [
              0.4444444444444444,
              "#bd3786"
             ],
             [
              0.5555555555555556,
              "#d8576b"
             ],
             [
              0.6666666666666666,
              "#ed7953"
             ],
             [
              0.7777777777777778,
              "#fb9f3a"
             ],
             [
              0.8888888888888888,
              "#fdca26"
             ],
             [
              1,
              "#f0f921"
             ]
            ],
            "type": "surface"
           }
          ],
          "table": [
           {
            "cells": {
             "fill": {
              "color": "#EBF0F8"
             },
             "line": {
              "color": "white"
             }
            },
            "header": {
             "fill": {
              "color": "#C8D4E3"
             },
             "line": {
              "color": "white"
             }
            },
            "type": "table"
           }
          ]
         },
         "layout": {
          "annotationdefaults": {
           "arrowcolor": "#2a3f5f",
           "arrowhead": 0,
           "arrowwidth": 1
          },
          "autotypenumbers": "strict",
          "coloraxis": {
           "colorbar": {
            "outlinewidth": 0,
            "ticks": ""
           }
          },
          "colorscale": {
           "diverging": [
            [
             0,
             "#8e0152"
            ],
            [
             0.1,
             "#c51b7d"
            ],
            [
             0.2,
             "#de77ae"
            ],
            [
             0.3,
             "#f1b6da"
            ],
            [
             0.4,
             "#fde0ef"
            ],
            [
             0.5,
             "#f7f7f7"
            ],
            [
             0.6,
             "#e6f5d0"
            ],
            [
             0.7,
             "#b8e186"
            ],
            [
             0.8,
             "#7fbc41"
            ],
            [
             0.9,
             "#4d9221"
            ],
            [
             1,
             "#276419"
            ]
           ],
           "sequential": [
            [
             0,
             "#0d0887"
            ],
            [
             0.1111111111111111,
             "#46039f"
            ],
            [
             0.2222222222222222,
             "#7201a8"
            ],
            [
             0.3333333333333333,
             "#9c179e"
            ],
            [
             0.4444444444444444,
             "#bd3786"
            ],
            [
             0.5555555555555556,
             "#d8576b"
            ],
            [
             0.6666666666666666,
             "#ed7953"
            ],
            [
             0.7777777777777778,
             "#fb9f3a"
            ],
            [
             0.8888888888888888,
             "#fdca26"
            ],
            [
             1,
             "#f0f921"
            ]
           ],
           "sequentialminus": [
            [
             0,
             "#0d0887"
            ],
            [
             0.1111111111111111,
             "#46039f"
            ],
            [
             0.2222222222222222,
             "#7201a8"
            ],
            [
             0.3333333333333333,
             "#9c179e"
            ],
            [
             0.4444444444444444,
             "#bd3786"
            ],
            [
             0.5555555555555556,
             "#d8576b"
            ],
            [
             0.6666666666666666,
             "#ed7953"
            ],
            [
             0.7777777777777778,
             "#fb9f3a"
            ],
            [
             0.8888888888888888,
             "#fdca26"
            ],
            [
             1,
             "#f0f921"
            ]
           ]
          },
          "colorway": [
           "#636efa",
           "#EF553B",
           "#00cc96",
           "#ab63fa",
           "#FFA15A",
           "#19d3f3",
           "#FF6692",
           "#B6E880",
           "#FF97FF",
           "#FECB52"
          ],
          "font": {
           "color": "#2a3f5f"
          },
          "geo": {
           "bgcolor": "white",
           "lakecolor": "white",
           "landcolor": "#E5ECF6",
           "showlakes": true,
           "showland": true,
           "subunitcolor": "white"
          },
          "hoverlabel": {
           "align": "left"
          },
          "hovermode": "closest",
          "mapbox": {
           "style": "light"
          },
          "paper_bgcolor": "white",
          "plot_bgcolor": "#E5ECF6",
          "polar": {
           "angularaxis": {
            "gridcolor": "white",
            "linecolor": "white",
            "ticks": ""
           },
           "bgcolor": "#E5ECF6",
           "radialaxis": {
            "gridcolor": "white",
            "linecolor": "white",
            "ticks": ""
           }
          },
          "scene": {
           "xaxis": {
            "backgroundcolor": "#E5ECF6",
            "gridcolor": "white",
            "gridwidth": 2,
            "linecolor": "white",
            "showbackground": true,
            "ticks": "",
            "zerolinecolor": "white"
           },
           "yaxis": {
            "backgroundcolor": "#E5ECF6",
            "gridcolor": "white",
            "gridwidth": 2,
            "linecolor": "white",
            "showbackground": true,
            "ticks": "",
            "zerolinecolor": "white"
           },
           "zaxis": {
            "backgroundcolor": "#E5ECF6",
            "gridcolor": "white",
            "gridwidth": 2,
            "linecolor": "white",
            "showbackground": true,
            "ticks": "",
            "zerolinecolor": "white"
           }
          },
          "shapedefaults": {
           "line": {
            "color": "#2a3f5f"
           }
          },
          "ternary": {
           "aaxis": {
            "gridcolor": "white",
            "linecolor": "white",
            "ticks": ""
           },
           "baxis": {
            "gridcolor": "white",
            "linecolor": "white",
            "ticks": ""
           },
           "bgcolor": "#E5ECF6",
           "caxis": {
            "gridcolor": "white",
            "linecolor": "white",
            "ticks": ""
           }
          },
          "title": {
           "x": 0.05
          },
          "xaxis": {
           "automargin": true,
           "gridcolor": "white",
           "linecolor": "white",
           "ticks": "",
           "title": {
            "standoff": 15
           },
           "zerolinecolor": "white",
           "zerolinewidth": 2
          },
          "yaxis": {
           "automargin": true,
           "gridcolor": "white",
           "linecolor": "white",
           "ticks": "",
           "title": {
            "standoff": 15
           },
           "zerolinecolor": "white",
           "zerolinewidth": 2
          }
         }
        },
        "title": {
         "text": "Nearest Neighbour Truck Tour"
        },
        "width": 800,
        "xaxis": {
         "constrain": "domain",
         "tickvals": [
          0,
          2,
          4,
          6,
          8,
          10,
          12,
          14,
          16,
          18,
          20,
          22,
          24
         ]
        },
        "yaxis": {
         "scaleanchor": "x",
         "tickvals": [
          0,
          2,
          4,
          6,
          8,
          10,
          12,
          14,
          16,
          18,
          20,
          22,
          24
         ]
        }
       }
      }
     },
     "metadata": {},
     "output_type": "display_data"
    },
    {
     "data": {
      "application/vnd.plotly.v1+json": {
       "config": {
        "plotlyServerURL": "https://plot.ly"
       },
       "data": [
        {
         "marker": {
          "color": "black",
          "size": 10
         },
         "mode": "markers",
         "name": "City",
         "type": "scatter",
         "x": [
          3,
          7,
          14,
          7,
          2,
          2,
          2.7,
          9,
          12,
          5,
          6,
          11,
          5,
          10,
          11,
          6,
          6,
          11,
          3,
          8.6,
          13,
          4,
          12,
          6,
          9,
          13,
          4.4,
          10.5,
          2,
          7.95,
          8,
          14,
          3,
          2,
          5,
          11,
          8,
          4,
          9,
          4,
          2,
          12,
          10,
          5,
          6,
          8,
          2,
          11,
          9,
          3,
          11.5,
          8,
          7.6,
          4.6,
          14.2,
          1.6,
          9.6,
          12.6,
          10.6,
          8.4,
          6.1,
          13.4,
          5.4,
          3.1,
          12.1,
          9.1,
          10.9,
          7.6,
          4.6,
          14.6,
          4.2,
          2.8,
          12.1,
          9.1,
          11.3,
          7.6,
          3.1,
          6.2,
          13.2,
          12,
          10.8,
          9.4,
          14.8,
          8.3,
          11,
          3.3,
          5.8
         ],
         "y": [
          9,
          7,
          6,
          4,
          7,
          15,
          11.5,
          11,
          14,
          9,
          5,
          2,
          13,
          5,
          8,
          10,
          3,
          5,
          8,
          9,
          3,
          14,
          6,
          8,
          2,
          1,
          12,
          11.5,
          5,
          13,
          14,
          5,
          5,
          8.5,
          6,
          13,
          2,
          11,
          4,
          8,
          10.5,
          3,
          4,
          11,
          2,
          9,
          13,
          7,
          7,
          7,
          11.5,
          12,
          7.3,
          6.1,
          3.1,
          9.1,
          9.1,
          4.6,
          14.2,
          4.6,
          6.1,
          7.6,
          1.6,
          9.9,
          7.6,
          15,
          10.6,
          12.7,
          4.6,
          13.6,
          10.6,
          12.1,
          12.1,
          10.6,
          9,
          4.6,
          10.6,
          15,
          14.5,
          7.1,
          2.3,
          2.4,
          5.9,
          13.2,
          5.3,
          14.2,
          13
         ]
        },
        {
         "marker": {
          "color": "red",
          "size": 10,
          "symbol": "cross"
         },
         "mode": "markers",
         "name": "Drone Prohibited City",
         "type": "scatter",
         "x": [
          4,
          3,
          1.7,
          4,
          3.1,
          1.6,
          14,
          13,
          12,
          14,
          14.1,
          13.5,
          12.7
         ],
         "y": [
          3,
          2,
          1.7,
          4,
          3.1,
          3.1,
          12,
          10,
          10,
          11,
          10.6,
          9.3,
          10.9
         ]
        },
        {
         "line": {
          "width": 2
         },
         "marker": {
          "color": "black",
          "size": 10
         },
         "mode": "lines",
         "name": "Truck Tour",
         "type": "scatter",
         "x": [
          3,
          6,
          5,
          4,
          3,
          3,
          4.6,
          5,
          6,
          7.6,
          7,
          6.1,
          6,
          4.6,
          4,
          4,
          3.1,
          3,
          1.7,
          1.6,
          2,
          3,
          2,
          2,
          1.6,
          2,
          2.7,
          2.8,
          2,
          2,
          3.3,
          4,
          6.2,
          7.6,
          7.95,
          8.3,
          8,
          9.1,
          10.6,
          11,
          12,
          13.2,
          14.6,
          14,
          14,
          14.1,
          13.5,
          13,
          12,
          12.7,
          12.1,
          11.5,
          10.5,
          10.9,
          11.3,
          11,
          11,
          12,
          12.1,
          13.4,
          14,
          14.8,
          14,
          14.2,
          13,
          13,
          12,
          11,
          10.8,
          9.4,
          9,
          8,
          6,
          5.4,
          6,
          7,
          7.6,
          8.4,
          9,
          10,
          12.6,
          12,
          11,
          11,
          10,
          9,
          8,
          8.6,
          9.6,
          9.1,
          9,
          8,
          5.8,
          5,
          4.4,
          5,
          4.2,
          4,
          3.1,
          3.1,
          3,
          3
         ],
         "y": [
          9,
          10,
          9,
          8,
          8,
          7,
          6.1,
          6,
          8,
          7.3,
          7,
          6.1,
          5,
          4.6,
          4,
          3,
          3.1,
          2,
          1.7,
          3.1,
          5,
          5,
          7,
          8.5,
          9.1,
          10.5,
          11.5,
          12.1,
          13,
          15,
          14.2,
          14,
          15,
          12.7,
          13,
          13.2,
          14,
          15,
          14.2,
          13,
          14,
          14.5,
          13.6,
          12,
          11,
          10.6,
          9.3,
          10,
          10,
          10.9,
          12.1,
          11.5,
          11.5,
          10.6,
          9,
          8,
          7,
          7.1,
          7.6,
          7.6,
          6,
          5.9,
          5,
          3.1,
          1,
          3,
          3,
          2,
          2.3,
          2.4,
          2,
          2,
          2,
          1.6,
          3,
          4,
          4.6,
          4.6,
          4,
          4,
          4.6,
          6,
          5.3,
          5,
          5,
          7,
          9,
          9,
          9.1,
          10.6,
          11,
          12,
          13,
          13,
          12,
          11,
          10.6,
          11,
          10.6,
          9.9,
          9,
          9
         ]
        }
       ],
       "layout": {
        "annotations": [
         {
          "font": {
           "color": "orange",
           "size": 12
          },
          "showarrow": false,
          "text": "0",
          "x": 3.35,
          "xref": "x",
          "y": 9.35,
          "yref": "y"
         },
         {
          "font": {
           "color": "orange",
           "size": 12
          },
          "showarrow": false,
          "text": "1",
          "x": 7.35,
          "xref": "x",
          "y": 7.35,
          "yref": "y"
         },
         {
          "font": {
           "color": "orange",
           "size": 12
          },
          "showarrow": false,
          "text": "2",
          "x": 14.35,
          "xref": "x",
          "y": 6.35,
          "yref": "y"
         },
         {
          "font": {
           "color": "orange",
           "size": 12
          },
          "showarrow": false,
          "text": "3",
          "x": 7.35,
          "xref": "x",
          "y": 4.35,
          "yref": "y"
         },
         {
          "font": {
           "color": "orange",
           "size": 12
          },
          "showarrow": false,
          "text": "4",
          "x": 4.35,
          "xref": "x",
          "y": 3.35,
          "yref": "y"
         },
         {
          "font": {
           "color": "orange",
           "size": 12
          },
          "showarrow": false,
          "text": "5",
          "x": 2.35,
          "xref": "x",
          "y": 7.35,
          "yref": "y"
         },
         {
          "font": {
           "color": "orange",
           "size": 12
          },
          "showarrow": false,
          "text": "6",
          "x": 2.35,
          "xref": "x",
          "y": 15.35,
          "yref": "y"
         },
         {
          "font": {
           "color": "orange",
           "size": 12
          },
          "showarrow": false,
          "text": "7",
          "x": 3.0500000000000003,
          "xref": "x",
          "y": 11.85,
          "yref": "y"
         },
         {
          "font": {
           "color": "orange",
           "size": 12
          },
          "showarrow": false,
          "text": "8",
          "x": 9.35,
          "xref": "x",
          "y": 11.35,
          "yref": "y"
         },
         {
          "font": {
           "color": "orange",
           "size": 12
          },
          "showarrow": false,
          "text": "9",
          "x": 12.35,
          "xref": "x",
          "y": 14.35,
          "yref": "y"
         },
         {
          "font": {
           "color": "orange",
           "size": 12
          },
          "showarrow": false,
          "text": "10",
          "x": 5.35,
          "xref": "x",
          "y": 9.35,
          "yref": "y"
         },
         {
          "font": {
           "color": "orange",
           "size": 12
          },
          "showarrow": false,
          "text": "11",
          "x": 6.35,
          "xref": "x",
          "y": 5.35,
          "yref": "y"
         },
         {
          "font": {
           "color": "orange",
           "size": 12
          },
          "showarrow": false,
          "text": "12",
          "x": 11.35,
          "xref": "x",
          "y": 2.35,
          "yref": "y"
         },
         {
          "font": {
           "color": "orange",
           "size": 12
          },
          "showarrow": false,
          "text": "13",
          "x": 14.35,
          "xref": "x",
          "y": 12.35,
          "yref": "y"
         },
         {
          "font": {
           "color": "orange",
           "size": 12
          },
          "showarrow": false,
          "text": "14",
          "x": 5.35,
          "xref": "x",
          "y": 13.35,
          "yref": "y"
         },
         {
          "font": {
           "color": "orange",
           "size": 12
          },
          "showarrow": false,
          "text": "15",
          "x": 10.35,
          "xref": "x",
          "y": 5.35,
          "yref": "y"
         },
         {
          "font": {
           "color": "orange",
           "size": 12
          },
          "showarrow": false,
          "text": "16",
          "x": 11.35,
          "xref": "x",
          "y": 8.35,
          "yref": "y"
         },
         {
          "font": {
           "color": "orange",
           "size": 12
          },
          "showarrow": false,
          "text": "17",
          "x": 3.35,
          "xref": "x",
          "y": 2.35,
          "yref": "y"
         },
         {
          "font": {
           "color": "orange",
           "size": 12
          },
          "showarrow": false,
          "text": "18",
          "x": 6.35,
          "xref": "x",
          "y": 10.35,
          "yref": "y"
         },
         {
          "font": {
           "color": "orange",
           "size": 12
          },
          "showarrow": false,
          "text": "19",
          "x": 6.35,
          "xref": "x",
          "y": 3.35,
          "yref": "y"
         },
         {
          "font": {
           "color": "orange",
           "size": 12
          },
          "showarrow": false,
          "text": "20",
          "x": 11.35,
          "xref": "x",
          "y": 5.35,
          "yref": "y"
         },
         {
          "font": {
           "color": "orange",
           "size": 12
          },
          "showarrow": false,
          "text": "21",
          "x": 3.35,
          "xref": "x",
          "y": 8.35,
          "yref": "y"
         },
         {
          "font": {
           "color": "orange",
           "size": 12
          },
          "showarrow": false,
          "text": "22",
          "x": 8.95,
          "xref": "x",
          "y": 9.35,
          "yref": "y"
         },
         {
          "font": {
           "color": "orange",
           "size": 12
          },
          "showarrow": false,
          "text": "23",
          "x": 13.35,
          "xref": "x",
          "y": 3.35,
          "yref": "y"
         },
         {
          "font": {
           "color": "orange",
           "size": 12
          },
          "showarrow": false,
          "text": "24",
          "x": 13.35,
          "xref": "x",
          "y": 10.35,
          "yref": "y"
         },
         {
          "font": {
           "color": "orange",
           "size": 12
          },
          "showarrow": false,
          "text": "25",
          "x": 2.05,
          "xref": "x",
          "y": 2.05,
          "yref": "y"
         },
         {
          "font": {
           "color": "orange",
           "size": 12
          },
          "showarrow": false,
          "text": "26",
          "x": 4.35,
          "xref": "x",
          "y": 4.35,
          "yref": "y"
         },
         {
          "font": {
           "color": "orange",
           "size": 12
          },
          "showarrow": false,
          "text": "27",
          "x": 4.35,
          "xref": "x",
          "y": 14.35,
          "yref": "y"
         },
         {
          "font": {
           "color": "orange",
           "size": 12
          },
          "showarrow": false,
          "text": "28",
          "x": 12.35,
          "xref": "x",
          "y": 6.35,
          "yref": "y"
         },
         {
          "font": {
           "color": "orange",
           "size": 12
          },
          "showarrow": false,
          "text": "29",
          "x": 6.35,
          "xref": "x",
          "y": 8.35,
          "yref": "y"
         },
         {
          "font": {
           "color": "orange",
           "size": 12
          },
          "showarrow": false,
          "text": "30",
          "x": 9.35,
          "xref": "x",
          "y": 2.35,
          "yref": "y"
         },
         {
          "font": {
           "color": "orange",
           "size": 12
          },
          "showarrow": false,
          "text": "31",
          "x": 13.35,
          "xref": "x",
          "y": 1.35,
          "yref": "y"
         },
         {
          "font": {
           "color": "orange",
           "size": 12
          },
          "showarrow": false,
          "text": "32",
          "x": 4.75,
          "xref": "x",
          "y": 12.35,
          "yref": "y"
         },
         {
          "font": {
           "color": "orange",
           "size": 12
          },
          "showarrow": false,
          "text": "33",
          "x": 10.85,
          "xref": "x",
          "y": 11.85,
          "yref": "y"
         },
         {
          "font": {
           "color": "orange",
           "size": 12
          },
          "showarrow": false,
          "text": "34",
          "x": 2.35,
          "xref": "x",
          "y": 5.35,
          "yref": "y"
         },
         {
          "font": {
           "color": "orange",
           "size": 12
          },
          "showarrow": false,
          "text": "35",
          "x": 8.3,
          "xref": "x",
          "y": 13.35,
          "yref": "y"
         },
         {
          "font": {
           "color": "orange",
           "size": 12
          },
          "showarrow": false,
          "text": "36",
          "x": 8.35,
          "xref": "x",
          "y": 14.35,
          "yref": "y"
         },
         {
          "font": {
           "color": "orange",
           "size": 12
          },
          "showarrow": false,
          "text": "37",
          "x": 14.35,
          "xref": "x",
          "y": 5.35,
          "yref": "y"
         },
         {
          "font": {
           "color": "orange",
           "size": 12
          },
          "showarrow": false,
          "text": "38",
          "x": 3.35,
          "xref": "x",
          "y": 5.35,
          "yref": "y"
         },
         {
          "font": {
           "color": "orange",
           "size": 12
          },
          "showarrow": false,
          "text": "39",
          "x": 2.35,
          "xref": "x",
          "y": 8.85,
          "yref": "y"
         },
         {
          "font": {
           "color": "orange",
           "size": 12
          },
          "showarrow": false,
          "text": "40",
          "x": 5.35,
          "xref": "x",
          "y": 6.35,
          "yref": "y"
         },
         {
          "font": {
           "color": "orange",
           "size": 12
          },
          "showarrow": false,
          "text": "41",
          "x": 11.35,
          "xref": "x",
          "y": 13.35,
          "yref": "y"
         },
         {
          "font": {
           "color": "orange",
           "size": 12
          },
          "showarrow": false,
          "text": "42",
          "x": 12.35,
          "xref": "x",
          "y": 10.35,
          "yref": "y"
         },
         {
          "font": {
           "color": "orange",
           "size": 12
          },
          "showarrow": false,
          "text": "43",
          "x": 8.35,
          "xref": "x",
          "y": 2.35,
          "yref": "y"
         },
         {
          "font": {
           "color": "orange",
           "size": 12
          },
          "showarrow": false,
          "text": "44",
          "x": 4.35,
          "xref": "x",
          "y": 11.35,
          "yref": "y"
         },
         {
          "font": {
           "color": "orange",
           "size": 12
          },
          "showarrow": false,
          "text": "45",
          "x": 9.35,
          "xref": "x",
          "y": 4.35,
          "yref": "y"
         },
         {
          "font": {
           "color": "orange",
           "size": 12
          },
          "showarrow": false,
          "text": "46",
          "x": 4.35,
          "xref": "x",
          "y": 8.35,
          "yref": "y"
         },
         {
          "font": {
           "color": "orange",
           "size": 12
          },
          "showarrow": false,
          "text": "47",
          "x": 2.35,
          "xref": "x",
          "y": 10.85,
          "yref": "y"
         },
         {
          "font": {
           "color": "orange",
           "size": 12
          },
          "showarrow": false,
          "text": "48",
          "x": 12.35,
          "xref": "x",
          "y": 3.35,
          "yref": "y"
         },
         {
          "font": {
           "color": "orange",
           "size": 12
          },
          "showarrow": false,
          "text": "49",
          "x": 10.35,
          "xref": "x",
          "y": 4.35,
          "yref": "y"
         },
         {
          "font": {
           "color": "orange",
           "size": 12
          },
          "showarrow": false,
          "text": "50",
          "x": 5.35,
          "xref": "x",
          "y": 11.35,
          "yref": "y"
         },
         {
          "font": {
           "color": "orange",
           "size": 12
          },
          "showarrow": false,
          "text": "51",
          "x": 6.35,
          "xref": "x",
          "y": 2.35,
          "yref": "y"
         },
         {
          "font": {
           "color": "orange",
           "size": 12
          },
          "showarrow": false,
          "text": "52",
          "x": 8.35,
          "xref": "x",
          "y": 9.35,
          "yref": "y"
         },
         {
          "font": {
           "color": "orange",
           "size": 12
          },
          "showarrow": false,
          "text": "53",
          "x": 14.35,
          "xref": "x",
          "y": 11.35,
          "yref": "y"
         },
         {
          "font": {
           "color": "orange",
           "size": 12
          },
          "showarrow": false,
          "text": "54",
          "x": 2.35,
          "xref": "x",
          "y": 13.35,
          "yref": "y"
         },
         {
          "font": {
           "color": "orange",
           "size": 12
          },
          "showarrow": false,
          "text": "55",
          "x": 11.35,
          "xref": "x",
          "y": 7.35,
          "yref": "y"
         },
         {
          "font": {
           "color": "orange",
           "size": 12
          },
          "showarrow": false,
          "text": "56",
          "x": 9.35,
          "xref": "x",
          "y": 7.35,
          "yref": "y"
         },
         {
          "font": {
           "color": "orange",
           "size": 12
          },
          "showarrow": false,
          "text": "57",
          "x": 3.35,
          "xref": "x",
          "y": 7.35,
          "yref": "y"
         },
         {
          "font": {
           "color": "orange",
           "size": 12
          },
          "showarrow": false,
          "text": "58",
          "x": 11.85,
          "xref": "x",
          "y": 11.85,
          "yref": "y"
         },
         {
          "font": {
           "color": "orange",
           "size": 12
          },
          "showarrow": false,
          "text": "59",
          "x": 8.35,
          "xref": "x",
          "y": 12.35,
          "yref": "y"
         },
         {
          "font": {
           "color": "orange",
           "size": 12
          },
          "showarrow": false,
          "text": "60",
          "x": 7.949999999999999,
          "xref": "x",
          "y": 7.6499999999999995,
          "yref": "y"
         },
         {
          "font": {
           "color": "orange",
           "size": 12
          },
          "showarrow": false,
          "text": "61",
          "x": 4.949999999999999,
          "xref": "x",
          "y": 6.449999999999999,
          "yref": "y"
         },
         {
          "font": {
           "color": "orange",
           "size": 12
          },
          "showarrow": false,
          "text": "62",
          "x": 14.549999999999999,
          "xref": "x",
          "y": 3.45,
          "yref": "y"
         },
         {
          "font": {
           "color": "orange",
           "size": 12
          },
          "showarrow": false,
          "text": "63",
          "x": 1.9500000000000002,
          "xref": "x",
          "y": 9.45,
          "yref": "y"
         },
         {
          "font": {
           "color": "orange",
           "size": 12
          },
          "showarrow": false,
          "text": "64",
          "x": 9.95,
          "xref": "x",
          "y": 9.45,
          "yref": "y"
         },
         {
          "font": {
           "color": "orange",
           "size": 12
          },
          "showarrow": false,
          "text": "65",
          "x": 12.95,
          "xref": "x",
          "y": 4.949999999999999,
          "yref": "y"
         },
         {
          "font": {
           "color": "orange",
           "size": 12
          },
          "showarrow": false,
          "text": "66",
          "x": 10.95,
          "xref": "x",
          "y": 14.549999999999999,
          "yref": "y"
         },
         {
          "font": {
           "color": "orange",
           "size": 12
          },
          "showarrow": false,
          "text": "67",
          "x": 3.45,
          "xref": "x",
          "y": 3.45,
          "yref": "y"
         },
         {
          "font": {
           "color": "orange",
           "size": 12
          },
          "showarrow": false,
          "text": "68",
          "x": 8.75,
          "xref": "x",
          "y": 4.949999999999999,
          "yref": "y"
         },
         {
          "font": {
           "color": "orange",
           "size": 12
          },
          "showarrow": false,
          "text": "69",
          "x": 6.449999999999999,
          "xref": "x",
          "y": 6.449999999999999,
          "yref": "y"
         },
         {
          "font": {
           "color": "orange",
           "size": 12
          },
          "showarrow": false,
          "text": "70",
          "x": 13.75,
          "xref": "x",
          "y": 7.949999999999999,
          "yref": "y"
         },
         {
          "font": {
           "color": "orange",
           "size": 12
          },
          "showarrow": false,
          "text": "71",
          "x": 5.75,
          "xref": "x",
          "y": 1.9500000000000002,
          "yref": "y"
         },
         {
          "font": {
           "color": "orange",
           "size": 12
          },
          "showarrow": false,
          "text": "72",
          "x": 3.45,
          "xref": "x",
          "y": 10.25,
          "yref": "y"
         },
         {
          "font": {
           "color": "orange",
           "size": 12
          },
          "showarrow": false,
          "text": "73",
          "x": 1.9500000000000002,
          "xref": "x",
          "y": 3.45,
          "yref": "y"
         },
         {
          "font": {
           "color": "orange",
           "size": 12
          },
          "showarrow": false,
          "text": "74",
          "x": 12.45,
          "xref": "x",
          "y": 7.949999999999999,
          "yref": "y"
         },
         {
          "font": {
           "color": "orange",
           "size": 12
          },
          "showarrow": false,
          "text": "75",
          "x": 9.45,
          "xref": "x",
          "y": 15.35,
          "yref": "y"
         },
         {
          "font": {
           "color": "orange",
           "size": 12
          },
          "showarrow": false,
          "text": "76",
          "x": 11.25,
          "xref": "x",
          "y": 10.95,
          "yref": "y"
         },
         {
          "font": {
           "color": "orange",
           "size": 12
          },
          "showarrow": false,
          "text": "77",
          "x": 7.949999999999999,
          "xref": "x",
          "y": 13.049999999999999,
          "yref": "y"
         },
         {
          "font": {
           "color": "orange",
           "size": 12
          },
          "showarrow": false,
          "text": "78",
          "x": 4.949999999999999,
          "xref": "x",
          "y": 4.949999999999999,
          "yref": "y"
         },
         {
          "font": {
           "color": "orange",
           "size": 12
          },
          "showarrow": false,
          "text": "79",
          "x": 14.95,
          "xref": "x",
          "y": 13.95,
          "yref": "y"
         },
         {
          "font": {
           "color": "orange",
           "size": 12
          },
          "showarrow": false,
          "text": "80",
          "x": 4.55,
          "xref": "x",
          "y": 10.95,
          "yref": "y"
         },
         {
          "font": {
           "color": "orange",
           "size": 12
          },
          "showarrow": false,
          "text": "81",
          "x": 3.15,
          "xref": "x",
          "y": 12.45,
          "yref": "y"
         },
         {
          "font": {
           "color": "orange",
           "size": 12
          },
          "showarrow": false,
          "text": "82",
          "x": 12.45,
          "xref": "x",
          "y": 12.45,
          "yref": "y"
         },
         {
          "font": {
           "color": "orange",
           "size": 12
          },
          "showarrow": false,
          "text": "83",
          "x": 9.45,
          "xref": "x",
          "y": 10.95,
          "yref": "y"
         },
         {
          "font": {
           "color": "orange",
           "size": 12
          },
          "showarrow": false,
          "text": "84",
          "x": 11.65,
          "xref": "x",
          "y": 9.35,
          "yref": "y"
         },
         {
          "font": {
           "color": "orange",
           "size": 12
          },
          "showarrow": false,
          "text": "85",
          "x": 7.949999999999999,
          "xref": "x",
          "y": 4.949999999999999,
          "yref": "y"
         },
         {
          "font": {
           "color": "orange",
           "size": 12
          },
          "showarrow": false,
          "text": "86",
          "x": 3.45,
          "xref": "x",
          "y": 10.95,
          "yref": "y"
         },
         {
          "font": {
           "color": "orange",
           "size": 12
          },
          "showarrow": false,
          "text": "87",
          "x": 6.55,
          "xref": "x",
          "y": 15.35,
          "yref": "y"
         },
         {
          "font": {
           "color": "orange",
           "size": 12
          },
          "showarrow": false,
          "text": "88",
          "x": 14.45,
          "xref": "x",
          "y": 10.95,
          "yref": "y"
         },
         {
          "font": {
           "color": "orange",
           "size": 12
          },
          "showarrow": false,
          "text": "89",
          "x": 13.549999999999999,
          "xref": "x",
          "y": 14.85,
          "yref": "y"
         },
         {
          "font": {
           "color": "orange",
           "size": 12
          },
          "showarrow": false,
          "text": "90",
          "x": 12.35,
          "xref": "x",
          "y": 7.449999999999999,
          "yref": "y"
         },
         {
          "font": {
           "color": "orange",
           "size": 12
          },
          "showarrow": false,
          "text": "91",
          "x": 11.15,
          "xref": "x",
          "y": 2.65,
          "yref": "y"
         },
         {
          "font": {
           "color": "orange",
           "size": 12
          },
          "showarrow": false,
          "text": "92",
          "x": 13.85,
          "xref": "x",
          "y": 9.65,
          "yref": "y"
         },
         {
          "font": {
           "color": "orange",
           "size": 12
          },
          "showarrow": false,
          "text": "93",
          "x": 9.75,
          "xref": "x",
          "y": 2.75,
          "yref": "y"
         },
         {
          "font": {
           "color": "orange",
           "size": 12
          },
          "showarrow": false,
          "text": "94",
          "x": 15.15,
          "xref": "x",
          "y": 6.25,
          "yref": "y"
         },
         {
          "font": {
           "color": "orange",
           "size": 12
          },
          "showarrow": false,
          "text": "95",
          "x": 8.65,
          "xref": "x",
          "y": 13.549999999999999,
          "yref": "y"
         },
         {
          "font": {
           "color": "orange",
           "size": 12
          },
          "showarrow": false,
          "text": "96",
          "x": 11.35,
          "xref": "x",
          "y": 5.6499999999999995,
          "yref": "y"
         },
         {
          "font": {
           "color": "orange",
           "size": 12
          },
          "showarrow": false,
          "text": "97",
          "x": 3.65,
          "xref": "x",
          "y": 14.549999999999999,
          "yref": "y"
         },
         {
          "font": {
           "color": "orange",
           "size": 12
          },
          "showarrow": false,
          "text": "98",
          "x": 6.1499999999999995,
          "xref": "x",
          "y": 13.35,
          "yref": "y"
         },
         {
          "font": {
           "color": "orange",
           "size": 12
          },
          "showarrow": false,
          "text": "99",
          "x": 13.049999999999999,
          "xref": "x",
          "y": 11.25,
          "yref": "y"
         }
        ],
        "autosize": false,
        "height": 800,
        "template": {
         "data": {
          "bar": [
           {
            "error_x": {
             "color": "#2a3f5f"
            },
            "error_y": {
             "color": "#2a3f5f"
            },
            "marker": {
             "line": {
              "color": "#E5ECF6",
              "width": 0.5
             },
             "pattern": {
              "fillmode": "overlay",
              "size": 10,
              "solidity": 0.2
             }
            },
            "type": "bar"
           }
          ],
          "barpolar": [
           {
            "marker": {
             "line": {
              "color": "#E5ECF6",
              "width": 0.5
             },
             "pattern": {
              "fillmode": "overlay",
              "size": 10,
              "solidity": 0.2
             }
            },
            "type": "barpolar"
           }
          ],
          "carpet": [
           {
            "aaxis": {
             "endlinecolor": "#2a3f5f",
             "gridcolor": "white",
             "linecolor": "white",
             "minorgridcolor": "white",
             "startlinecolor": "#2a3f5f"
            },
            "baxis": {
             "endlinecolor": "#2a3f5f",
             "gridcolor": "white",
             "linecolor": "white",
             "minorgridcolor": "white",
             "startlinecolor": "#2a3f5f"
            },
            "type": "carpet"
           }
          ],
          "choropleth": [
           {
            "colorbar": {
             "outlinewidth": 0,
             "ticks": ""
            },
            "type": "choropleth"
           }
          ],
          "contour": [
           {
            "colorbar": {
             "outlinewidth": 0,
             "ticks": ""
            },
            "colorscale": [
             [
              0,
              "#0d0887"
             ],
             [
              0.1111111111111111,
              "#46039f"
             ],
             [
              0.2222222222222222,
              "#7201a8"
             ],
             [
              0.3333333333333333,
              "#9c179e"
             ],
             [
              0.4444444444444444,
              "#bd3786"
             ],
             [
              0.5555555555555556,
              "#d8576b"
             ],
             [
              0.6666666666666666,
              "#ed7953"
             ],
             [
              0.7777777777777778,
              "#fb9f3a"
             ],
             [
              0.8888888888888888,
              "#fdca26"
             ],
             [
              1,
              "#f0f921"
             ]
            ],
            "type": "contour"
           }
          ],
          "contourcarpet": [
           {
            "colorbar": {
             "outlinewidth": 0,
             "ticks": ""
            },
            "type": "contourcarpet"
           }
          ],
          "heatmap": [
           {
            "colorbar": {
             "outlinewidth": 0,
             "ticks": ""
            },
            "colorscale": [
             [
              0,
              "#0d0887"
             ],
             [
              0.1111111111111111,
              "#46039f"
             ],
             [
              0.2222222222222222,
              "#7201a8"
             ],
             [
              0.3333333333333333,
              "#9c179e"
             ],
             [
              0.4444444444444444,
              "#bd3786"
             ],
             [
              0.5555555555555556,
              "#d8576b"
             ],
             [
              0.6666666666666666,
              "#ed7953"
             ],
             [
              0.7777777777777778,
              "#fb9f3a"
             ],
             [
              0.8888888888888888,
              "#fdca26"
             ],
             [
              1,
              "#f0f921"
             ]
            ],
            "type": "heatmap"
           }
          ],
          "heatmapgl": [
           {
            "colorbar": {
             "outlinewidth": 0,
             "ticks": ""
            },
            "colorscale": [
             [
              0,
              "#0d0887"
             ],
             [
              0.1111111111111111,
              "#46039f"
             ],
             [
              0.2222222222222222,
              "#7201a8"
             ],
             [
              0.3333333333333333,
              "#9c179e"
             ],
             [
              0.4444444444444444,
              "#bd3786"
             ],
             [
              0.5555555555555556,
              "#d8576b"
             ],
             [
              0.6666666666666666,
              "#ed7953"
             ],
             [
              0.7777777777777778,
              "#fb9f3a"
             ],
             [
              0.8888888888888888,
              "#fdca26"
             ],
             [
              1,
              "#f0f921"
             ]
            ],
            "type": "heatmapgl"
           }
          ],
          "histogram": [
           {
            "marker": {
             "pattern": {
              "fillmode": "overlay",
              "size": 10,
              "solidity": 0.2
             }
            },
            "type": "histogram"
           }
          ],
          "histogram2d": [
           {
            "colorbar": {
             "outlinewidth": 0,
             "ticks": ""
            },
            "colorscale": [
             [
              0,
              "#0d0887"
             ],
             [
              0.1111111111111111,
              "#46039f"
             ],
             [
              0.2222222222222222,
              "#7201a8"
             ],
             [
              0.3333333333333333,
              "#9c179e"
             ],
             [
              0.4444444444444444,
              "#bd3786"
             ],
             [
              0.5555555555555556,
              "#d8576b"
             ],
             [
              0.6666666666666666,
              "#ed7953"
             ],
             [
              0.7777777777777778,
              "#fb9f3a"
             ],
             [
              0.8888888888888888,
              "#fdca26"
             ],
             [
              1,
              "#f0f921"
             ]
            ],
            "type": "histogram2d"
           }
          ],
          "histogram2dcontour": [
           {
            "colorbar": {
             "outlinewidth": 0,
             "ticks": ""
            },
            "colorscale": [
             [
              0,
              "#0d0887"
             ],
             [
              0.1111111111111111,
              "#46039f"
             ],
             [
              0.2222222222222222,
              "#7201a8"
             ],
             [
              0.3333333333333333,
              "#9c179e"
             ],
             [
              0.4444444444444444,
              "#bd3786"
             ],
             [
              0.5555555555555556,
              "#d8576b"
             ],
             [
              0.6666666666666666,
              "#ed7953"
             ],
             [
              0.7777777777777778,
              "#fb9f3a"
             ],
             [
              0.8888888888888888,
              "#fdca26"
             ],
             [
              1,
              "#f0f921"
             ]
            ],
            "type": "histogram2dcontour"
           }
          ],
          "mesh3d": [
           {
            "colorbar": {
             "outlinewidth": 0,
             "ticks": ""
            },
            "type": "mesh3d"
           }
          ],
          "parcoords": [
           {
            "line": {
             "colorbar": {
              "outlinewidth": 0,
              "ticks": ""
             }
            },
            "type": "parcoords"
           }
          ],
          "pie": [
           {
            "automargin": true,
            "type": "pie"
           }
          ],
          "scatter": [
           {
            "fillpattern": {
             "fillmode": "overlay",
             "size": 10,
             "solidity": 0.2
            },
            "type": "scatter"
           }
          ],
          "scatter3d": [
           {
            "line": {
             "colorbar": {
              "outlinewidth": 0,
              "ticks": ""
             }
            },
            "marker": {
             "colorbar": {
              "outlinewidth": 0,
              "ticks": ""
             }
            },
            "type": "scatter3d"
           }
          ],
          "scattercarpet": [
           {
            "marker": {
             "colorbar": {
              "outlinewidth": 0,
              "ticks": ""
             }
            },
            "type": "scattercarpet"
           }
          ],
          "scattergeo": [
           {
            "marker": {
             "colorbar": {
              "outlinewidth": 0,
              "ticks": ""
             }
            },
            "type": "scattergeo"
           }
          ],
          "scattergl": [
           {
            "marker": {
             "colorbar": {
              "outlinewidth": 0,
              "ticks": ""
             }
            },
            "type": "scattergl"
           }
          ],
          "scattermapbox": [
           {
            "marker": {
             "colorbar": {
              "outlinewidth": 0,
              "ticks": ""
             }
            },
            "type": "scattermapbox"
           }
          ],
          "scatterpolar": [
           {
            "marker": {
             "colorbar": {
              "outlinewidth": 0,
              "ticks": ""
             }
            },
            "type": "scatterpolar"
           }
          ],
          "scatterpolargl": [
           {
            "marker": {
             "colorbar": {
              "outlinewidth": 0,
              "ticks": ""
             }
            },
            "type": "scatterpolargl"
           }
          ],
          "scatterternary": [
           {
            "marker": {
             "colorbar": {
              "outlinewidth": 0,
              "ticks": ""
             }
            },
            "type": "scatterternary"
           }
          ],
          "surface": [
           {
            "colorbar": {
             "outlinewidth": 0,
             "ticks": ""
            },
            "colorscale": [
             [
              0,
              "#0d0887"
             ],
             [
              0.1111111111111111,
              "#46039f"
             ],
             [
              0.2222222222222222,
              "#7201a8"
             ],
             [
              0.3333333333333333,
              "#9c179e"
             ],
             [
              0.4444444444444444,
              "#bd3786"
             ],
             [
              0.5555555555555556,
              "#d8576b"
             ],
             [
              0.6666666666666666,
              "#ed7953"
             ],
             [
              0.7777777777777778,
              "#fb9f3a"
             ],
             [
              0.8888888888888888,
              "#fdca26"
             ],
             [
              1,
              "#f0f921"
             ]
            ],
            "type": "surface"
           }
          ],
          "table": [
           {
            "cells": {
             "fill": {
              "color": "#EBF0F8"
             },
             "line": {
              "color": "white"
             }
            },
            "header": {
             "fill": {
              "color": "#C8D4E3"
             },
             "line": {
              "color": "white"
             }
            },
            "type": "table"
           }
          ]
         },
         "layout": {
          "annotationdefaults": {
           "arrowcolor": "#2a3f5f",
           "arrowhead": 0,
           "arrowwidth": 1
          },
          "autotypenumbers": "strict",
          "coloraxis": {
           "colorbar": {
            "outlinewidth": 0,
            "ticks": ""
           }
          },
          "colorscale": {
           "diverging": [
            [
             0,
             "#8e0152"
            ],
            [
             0.1,
             "#c51b7d"
            ],
            [
             0.2,
             "#de77ae"
            ],
            [
             0.3,
             "#f1b6da"
            ],
            [
             0.4,
             "#fde0ef"
            ],
            [
             0.5,
             "#f7f7f7"
            ],
            [
             0.6,
             "#e6f5d0"
            ],
            [
             0.7,
             "#b8e186"
            ],
            [
             0.8,
             "#7fbc41"
            ],
            [
             0.9,
             "#4d9221"
            ],
            [
             1,
             "#276419"
            ]
           ],
           "sequential": [
            [
             0,
             "#0d0887"
            ],
            [
             0.1111111111111111,
             "#46039f"
            ],
            [
             0.2222222222222222,
             "#7201a8"
            ],
            [
             0.3333333333333333,
             "#9c179e"
            ],
            [
             0.4444444444444444,
             "#bd3786"
            ],
            [
             0.5555555555555556,
             "#d8576b"
            ],
            [
             0.6666666666666666,
             "#ed7953"
            ],
            [
             0.7777777777777778,
             "#fb9f3a"
            ],
            [
             0.8888888888888888,
             "#fdca26"
            ],
            [
             1,
             "#f0f921"
            ]
           ],
           "sequentialminus": [
            [
             0,
             "#0d0887"
            ],
            [
             0.1111111111111111,
             "#46039f"
            ],
            [
             0.2222222222222222,
             "#7201a8"
            ],
            [
             0.3333333333333333,
             "#9c179e"
            ],
            [
             0.4444444444444444,
             "#bd3786"
            ],
            [
             0.5555555555555556,
             "#d8576b"
            ],
            [
             0.6666666666666666,
             "#ed7953"
            ],
            [
             0.7777777777777778,
             "#fb9f3a"
            ],
            [
             0.8888888888888888,
             "#fdca26"
            ],
            [
             1,
             "#f0f921"
            ]
           ]
          },
          "colorway": [
           "#636efa",
           "#EF553B",
           "#00cc96",
           "#ab63fa",
           "#FFA15A",
           "#19d3f3",
           "#FF6692",
           "#B6E880",
           "#FF97FF",
           "#FECB52"
          ],
          "font": {
           "color": "#2a3f5f"
          },
          "geo": {
           "bgcolor": "white",
           "lakecolor": "white",
           "landcolor": "#E5ECF6",
           "showlakes": true,
           "showland": true,
           "subunitcolor": "white"
          },
          "hoverlabel": {
           "align": "left"
          },
          "hovermode": "closest",
          "mapbox": {
           "style": "light"
          },
          "paper_bgcolor": "white",
          "plot_bgcolor": "#E5ECF6",
          "polar": {
           "angularaxis": {
            "gridcolor": "white",
            "linecolor": "white",
            "ticks": ""
           },
           "bgcolor": "#E5ECF6",
           "radialaxis": {
            "gridcolor": "white",
            "linecolor": "white",
            "ticks": ""
           }
          },
          "scene": {
           "xaxis": {
            "backgroundcolor": "#E5ECF6",
            "gridcolor": "white",
            "gridwidth": 2,
            "linecolor": "white",
            "showbackground": true,
            "ticks": "",
            "zerolinecolor": "white"
           },
           "yaxis": {
            "backgroundcolor": "#E5ECF6",
            "gridcolor": "white",
            "gridwidth": 2,
            "linecolor": "white",
            "showbackground": true,
            "ticks": "",
            "zerolinecolor": "white"
           },
           "zaxis": {
            "backgroundcolor": "#E5ECF6",
            "gridcolor": "white",
            "gridwidth": 2,
            "linecolor": "white",
            "showbackground": true,
            "ticks": "",
            "zerolinecolor": "white"
           }
          },
          "shapedefaults": {
           "line": {
            "color": "#2a3f5f"
           }
          },
          "ternary": {
           "aaxis": {
            "gridcolor": "white",
            "linecolor": "white",
            "ticks": ""
           },
           "baxis": {
            "gridcolor": "white",
            "linecolor": "white",
            "ticks": ""
           },
           "bgcolor": "#E5ECF6",
           "caxis": {
            "gridcolor": "white",
            "linecolor": "white",
            "ticks": ""
           }
          },
          "title": {
           "x": 0.05
          },
          "xaxis": {
           "automargin": true,
           "gridcolor": "white",
           "linecolor": "white",
           "ticks": "",
           "title": {
            "standoff": 15
           },
           "zerolinecolor": "white",
           "zerolinewidth": 2
          },
          "yaxis": {
           "automargin": true,
           "gridcolor": "white",
           "linecolor": "white",
           "ticks": "",
           "title": {
            "standoff": 15
           },
           "zerolinecolor": "white",
           "zerolinewidth": 2
          }
         }
        },
        "title": {
         "text": "Two Opt Optimal Truck Tour"
        },
        "width": 800,
        "xaxis": {
         "constrain": "domain",
         "tickvals": [
          0,
          2,
          4,
          6,
          8,
          10,
          12,
          14,
          16,
          18,
          20,
          22,
          24
         ]
        },
        "yaxis": {
         "scaleanchor": "x",
         "tickvals": [
          0,
          2,
          4,
          6,
          8,
          10,
          12,
          14,
          16,
          18,
          20,
          22,
          24
         ]
        }
       }
      }
     },
     "metadata": {},
     "output_type": "display_data"
    },
    {
     "data": {
      "application/vnd.plotly.v1+json": {
       "config": {
        "plotlyServerURL": "https://plot.ly"
       },
       "data": [
        {
         "marker": {
          "color": "black",
          "size": 10
         },
         "mode": "markers",
         "name": "City",
         "type": "scatter",
         "x": [
          3,
          7,
          14,
          7,
          2,
          2,
          2.7,
          9,
          12,
          5,
          6,
          11,
          5,
          10,
          11,
          6,
          6,
          11,
          3,
          8.6,
          13,
          4,
          12,
          6,
          9,
          13,
          4.4,
          10.5,
          2,
          7.95,
          8,
          14,
          3,
          2,
          5,
          11,
          8,
          4,
          9,
          4,
          2,
          12,
          10,
          5,
          6,
          8,
          2,
          11,
          9,
          3,
          11.5,
          8,
          7.6,
          4.6,
          14.2,
          1.6,
          9.6,
          12.6,
          10.6,
          8.4,
          6.1,
          13.4,
          5.4,
          3.1,
          12.1,
          9.1,
          10.9,
          7.6,
          4.6,
          14.6,
          4.2,
          2.8,
          12.1,
          9.1,
          11.3,
          7.6,
          3.1,
          6.2,
          13.2,
          12,
          10.8,
          9.4,
          14.8,
          8.3,
          11,
          3.3,
          5.8
         ],
         "y": [
          9,
          7,
          6,
          4,
          7,
          15,
          11.5,
          11,
          14,
          9,
          5,
          2,
          13,
          5,
          8,
          10,
          3,
          5,
          8,
          9,
          3,
          14,
          6,
          8,
          2,
          1,
          12,
          11.5,
          5,
          13,
          14,
          5,
          5,
          8.5,
          6,
          13,
          2,
          11,
          4,
          8,
          10.5,
          3,
          4,
          11,
          2,
          9,
          13,
          7,
          7,
          7,
          11.5,
          12,
          7.3,
          6.1,
          3.1,
          9.1,
          9.1,
          4.6,
          14.2,
          4.6,
          6.1,
          7.6,
          1.6,
          9.9,
          7.6,
          15,
          10.6,
          12.7,
          4.6,
          13.6,
          10.6,
          12.1,
          12.1,
          10.6,
          9,
          4.6,
          10.6,
          15,
          14.5,
          7.1,
          2.3,
          2.4,
          5.9,
          13.2,
          5.3,
          14.2,
          13
         ]
        },
        {
         "marker": {
          "color": "red",
          "size": 10,
          "symbol": "cross"
         },
         "mode": "markers",
         "name": "Drone Prohibited City",
         "type": "scatter",
         "x": [
          4,
          3,
          1.7,
          4,
          3.1,
          1.6,
          14,
          13,
          12,
          14,
          14.1,
          13.5,
          12.7
         ],
         "y": [
          3,
          2,
          1.7,
          4,
          3.1,
          3.1,
          12,
          10,
          10,
          11,
          10.6,
          9.3,
          10.9
         ]
        },
        {
         "line": {
          "width": 2
         },
         "marker": {
          "color": "black",
          "size": 10
         },
         "mode": "lines",
         "name": "Truck Tour",
         "type": "scatter",
         "x": [
          3,
          6,
          5,
          3,
          3,
          4.6,
          6,
          7.6,
          7,
          6,
          4.6,
          4,
          4,
          3.1,
          3,
          1.7,
          1.6,
          2,
          3,
          2,
          1.6,
          2,
          2.7,
          2.8,
          2,
          2,
          3.3,
          6.2,
          7.6,
          7.95,
          8.3,
          8,
          9.1,
          10.6,
          12,
          13.2,
          14.6,
          14,
          14,
          14.1,
          13.5,
          13,
          12,
          12.7,
          12.1,
          10.5,
          10.9,
          11.3,
          11,
          12,
          12.1,
          13.4,
          14.8,
          14,
          14.2,
          13,
          13,
          11,
          10.8,
          9.4,
          9,
          8,
          5.4,
          6,
          7,
          7.6,
          9,
          10,
          12.6,
          11,
          11,
          10,
          8,
          8.6,
          9.6,
          9,
          8,
          5.8,
          4.4,
          5,
          4.2,
          3.1,
          3.1,
          3,
          3
         ],
         "y": [
          9,
          10,
          9,
          8,
          7,
          6.1,
          8,
          7.3,
          7,
          5,
          4.6,
          4,
          3,
          3.1,
          2,
          1.7,
          3.1,
          5,
          5,
          8.5,
          9.1,
          10.5,
          11.5,
          12.1,
          13,
          15,
          14.2,
          15,
          12.7,
          13,
          13.2,
          14,
          15,
          14.2,
          14,
          14.5,
          13.6,
          12,
          11,
          10.6,
          9.3,
          10,
          10,
          10.9,
          12.1,
          11.5,
          10.6,
          9,
          7,
          7.1,
          7.6,
          7.6,
          5.9,
          5,
          3.1,
          1,
          3,
          2,
          2.3,
          2.4,
          2,
          2,
          1.6,
          3,
          4,
          4.6,
          4,
          4,
          4.6,
          5.3,
          5,
          5,
          9,
          9,
          9.1,
          11,
          12,
          13,
          12,
          11,
          10.6,
          10.6,
          9.9,
          9,
          9
         ]
        },
        {
         "legendgroup": "Drone Tours",
         "line": {
          "dash": "dash",
          "width": 2
         },
         "marker": {
          "color": "black",
          "size": 10
         },
         "mode": "lines",
         "name": "Drone Tour",
         "type": "scatter",
         "x": [
          8.6,
          9.1,
          8
         ],
         "y": [
          9,
          10.6,
          12
         ]
        },
        {
         "legendgroup": "Drone Tours",
         "line": {
          "dash": "dash",
          "width": 2
         },
         "marker": {
          "color": "black",
          "size": 10
         },
         "mode": "lines",
         "showlegend": false,
         "type": "scatter",
         "x": [
          10,
          12,
          11
         ],
         "y": [
          4,
          6,
          5
         ]
        },
        {
         "legendgroup": "Drone Tours",
         "line": {
          "dash": "dash",
          "width": 2
         },
         "marker": {
          "color": "black",
          "size": 10
         },
         "mode": "lines",
         "showlegend": false,
         "type": "scatter",
         "x": [
          9.4,
          6,
          6
         ],
         "y": [
          2.4,
          2,
          3
         ]
        },
        {
         "legendgroup": "Drone Tours",
         "line": {
          "dash": "dash",
          "width": 2
         },
         "marker": {
          "color": "black",
          "size": 10
         },
         "mode": "lines",
         "showlegend": false,
         "type": "scatter",
         "x": [
          2,
          2,
          2.8
         ],
         "y": [
          5,
          7,
          12.1
         ]
        },
        {
         "legendgroup": "Drone Tours",
         "line": {
          "dash": "dash",
          "width": 2
         },
         "marker": {
          "color": "black",
          "size": 10
         },
         "mode": "lines",
         "showlegend": false,
         "type": "scatter",
         "x": [
          3.3,
          4,
          8.3
         ],
         "y": [
          14.2,
          14,
          13.2
         ]
        },
        {
         "legendgroup": "Drone Tours",
         "line": {
          "dash": "dash",
          "width": 2
         },
         "marker": {
          "color": "black",
          "size": 10
         },
         "mode": "lines",
         "showlegend": false,
         "type": "scatter",
         "x": [
          8,
          11,
          12
         ],
         "y": [
          14,
          13,
          14
         ]
        },
        {
         "legendgroup": "Drone Tours",
         "line": {
          "dash": "dash",
          "width": 2
         },
         "marker": {
          "color": "black",
          "size": 10
         },
         "mode": "lines",
         "showlegend": false,
         "type": "scatter",
         "x": [
          3,
          5,
          7.6
         ],
         "y": [
          7,
          6,
          7.3
         ]
        },
        {
         "legendgroup": "Drone Tours",
         "line": {
          "dash": "dash",
          "width": 2
         },
         "marker": {
          "color": "black",
          "size": 10
         },
         "mode": "lines",
         "showlegend": false,
         "type": "scatter",
         "x": [
          11.3,
          11,
          12.1
         ],
         "y": [
          9,
          8,
          7.6
         ]
        },
        {
         "legendgroup": "Drone Tours",
         "line": {
          "dash": "dash",
          "width": 2
         },
         "marker": {
          "color": "black",
          "size": 10
         },
         "mode": "lines",
         "showlegend": false,
         "type": "scatter",
         "x": [
          5,
          4,
          3.1
         ],
         "y": [
          11,
          11,
          9.9
         ]
        },
        {
         "legendgroup": "Drone Tours",
         "line": {
          "dash": "dash",
          "width": 2
         },
         "marker": {
          "color": "black",
          "size": 10
         },
         "mode": "lines",
         "showlegend": false,
         "type": "scatter",
         "x": [
          13.4,
          14,
          14.2
         ],
         "y": [
          7.6,
          6,
          3.1
         ]
        },
        {
         "legendgroup": "Drone Tours",
         "line": {
          "dash": "dash",
          "width": 2
         },
         "marker": {
          "color": "black",
          "size": 10
         },
         "mode": "lines",
         "showlegend": false,
         "type": "scatter",
         "x": [
          13,
          12,
          10.8
         ],
         "y": [
          1,
          3,
          2.3
         ]
        },
        {
         "legendgroup": "Drone Tours",
         "line": {
          "dash": "dash",
          "width": 2
         },
         "marker": {
          "color": "black",
          "size": 10
         },
         "mode": "lines",
         "showlegend": false,
         "type": "scatter",
         "x": [
          12.1,
          11.5,
          10.9
         ],
         "y": [
          12.1,
          11.5,
          10.6
         ]
        },
        {
         "legendgroup": "Drone Tours",
         "line": {
          "dash": "dash",
          "width": 2
         },
         "marker": {
          "color": "black",
          "size": 10
         },
         "mode": "lines",
         "showlegend": false,
         "type": "scatter",
         "x": [
          7,
          8.4,
          9
         ],
         "y": [
          4,
          4.6,
          4
         ]
        },
        {
         "legendgroup": "Drone Tours",
         "line": {
          "dash": "dash",
          "width": 2
         },
         "marker": {
          "color": "black",
          "size": 10
         },
         "mode": "lines",
         "showlegend": false,
         "type": "scatter",
         "x": [
          7,
          6.1,
          4.6
         ],
         "y": [
          7,
          6.1,
          4.6
         ]
        },
        {
         "legendgroup": "Drone Tours",
         "line": {
          "dash": "dash",
          "width": 2
         },
         "marker": {
          "color": "black",
          "size": 10
         },
         "mode": "lines",
         "showlegend": false,
         "type": "scatter",
         "x": [
          6,
          4,
          3
         ],
         "y": [
          10,
          8,
          8
         ]
        },
        {
         "legendgroup": "Drone Tours",
         "line": {
          "dash": "dash",
          "width": 2
         },
         "marker": {
          "color": "black",
          "size": 10
         },
         "mode": "lines",
         "showlegend": false,
         "type": "scatter",
         "x": [
          5.8,
          5,
          4.4
         ],
         "y": [
          13,
          13,
          12
         ]
        },
        {
         "legendgroup": "Drone Tours",
         "line": {
          "dash": "dash",
          "width": 2
         },
         "marker": {
          "color": "black",
          "size": 10
         },
         "mode": "lines",
         "showlegend": false,
         "type": "scatter",
         "x": [
          10,
          9,
          8
         ],
         "y": [
          5,
          7,
          9
         ]
        }
       ],
       "layout": {
        "annotations": [
         {
          "font": {
           "color": "orange",
           "size": 12
          },
          "showarrow": false,
          "text": "0",
          "x": 3.35,
          "xref": "x",
          "y": 9.35,
          "yref": "y"
         },
         {
          "font": {
           "color": "orange",
           "size": 12
          },
          "showarrow": false,
          "text": "1",
          "x": 7.35,
          "xref": "x",
          "y": 7.35,
          "yref": "y"
         },
         {
          "font": {
           "color": "orange",
           "size": 12
          },
          "showarrow": false,
          "text": "2",
          "x": 14.35,
          "xref": "x",
          "y": 6.35,
          "yref": "y"
         },
         {
          "font": {
           "color": "orange",
           "size": 12
          },
          "showarrow": false,
          "text": "3",
          "x": 7.35,
          "xref": "x",
          "y": 4.35,
          "yref": "y"
         },
         {
          "font": {
           "color": "orange",
           "size": 12
          },
          "showarrow": false,
          "text": "4",
          "x": 4.35,
          "xref": "x",
          "y": 3.35,
          "yref": "y"
         },
         {
          "font": {
           "color": "orange",
           "size": 12
          },
          "showarrow": false,
          "text": "5",
          "x": 2.35,
          "xref": "x",
          "y": 7.35,
          "yref": "y"
         },
         {
          "font": {
           "color": "orange",
           "size": 12
          },
          "showarrow": false,
          "text": "6",
          "x": 2.35,
          "xref": "x",
          "y": 15.35,
          "yref": "y"
         },
         {
          "font": {
           "color": "orange",
           "size": 12
          },
          "showarrow": false,
          "text": "7",
          "x": 3.0500000000000003,
          "xref": "x",
          "y": 11.85,
          "yref": "y"
         },
         {
          "font": {
           "color": "orange",
           "size": 12
          },
          "showarrow": false,
          "text": "8",
          "x": 9.35,
          "xref": "x",
          "y": 11.35,
          "yref": "y"
         },
         {
          "font": {
           "color": "orange",
           "size": 12
          },
          "showarrow": false,
          "text": "9",
          "x": 12.35,
          "xref": "x",
          "y": 14.35,
          "yref": "y"
         },
         {
          "font": {
           "color": "orange",
           "size": 12
          },
          "showarrow": false,
          "text": "10",
          "x": 5.35,
          "xref": "x",
          "y": 9.35,
          "yref": "y"
         },
         {
          "font": {
           "color": "orange",
           "size": 12
          },
          "showarrow": false,
          "text": "11",
          "x": 6.35,
          "xref": "x",
          "y": 5.35,
          "yref": "y"
         },
         {
          "font": {
           "color": "orange",
           "size": 12
          },
          "showarrow": false,
          "text": "12",
          "x": 11.35,
          "xref": "x",
          "y": 2.35,
          "yref": "y"
         },
         {
          "font": {
           "color": "orange",
           "size": 12
          },
          "showarrow": false,
          "text": "13",
          "x": 14.35,
          "xref": "x",
          "y": 12.35,
          "yref": "y"
         },
         {
          "font": {
           "color": "orange",
           "size": 12
          },
          "showarrow": false,
          "text": "14",
          "x": 5.35,
          "xref": "x",
          "y": 13.35,
          "yref": "y"
         },
         {
          "font": {
           "color": "orange",
           "size": 12
          },
          "showarrow": false,
          "text": "15",
          "x": 10.35,
          "xref": "x",
          "y": 5.35,
          "yref": "y"
         },
         {
          "font": {
           "color": "orange",
           "size": 12
          },
          "showarrow": false,
          "text": "16",
          "x": 11.35,
          "xref": "x",
          "y": 8.35,
          "yref": "y"
         },
         {
          "font": {
           "color": "orange",
           "size": 12
          },
          "showarrow": false,
          "text": "17",
          "x": 3.35,
          "xref": "x",
          "y": 2.35,
          "yref": "y"
         },
         {
          "font": {
           "color": "orange",
           "size": 12
          },
          "showarrow": false,
          "text": "18",
          "x": 6.35,
          "xref": "x",
          "y": 10.35,
          "yref": "y"
         },
         {
          "font": {
           "color": "orange",
           "size": 12
          },
          "showarrow": false,
          "text": "19",
          "x": 6.35,
          "xref": "x",
          "y": 3.35,
          "yref": "y"
         },
         {
          "font": {
           "color": "orange",
           "size": 12
          },
          "showarrow": false,
          "text": "20",
          "x": 11.35,
          "xref": "x",
          "y": 5.35,
          "yref": "y"
         },
         {
          "font": {
           "color": "orange",
           "size": 12
          },
          "showarrow": false,
          "text": "21",
          "x": 3.35,
          "xref": "x",
          "y": 8.35,
          "yref": "y"
         },
         {
          "font": {
           "color": "orange",
           "size": 12
          },
          "showarrow": false,
          "text": "22",
          "x": 8.95,
          "xref": "x",
          "y": 9.35,
          "yref": "y"
         },
         {
          "font": {
           "color": "orange",
           "size": 12
          },
          "showarrow": false,
          "text": "23",
          "x": 13.35,
          "xref": "x",
          "y": 3.35,
          "yref": "y"
         },
         {
          "font": {
           "color": "orange",
           "size": 12
          },
          "showarrow": false,
          "text": "24",
          "x": 13.35,
          "xref": "x",
          "y": 10.35,
          "yref": "y"
         },
         {
          "font": {
           "color": "orange",
           "size": 12
          },
          "showarrow": false,
          "text": "25",
          "x": 2.05,
          "xref": "x",
          "y": 2.05,
          "yref": "y"
         },
         {
          "font": {
           "color": "orange",
           "size": 12
          },
          "showarrow": false,
          "text": "26",
          "x": 4.35,
          "xref": "x",
          "y": 4.35,
          "yref": "y"
         },
         {
          "font": {
           "color": "orange",
           "size": 12
          },
          "showarrow": false,
          "text": "27",
          "x": 4.35,
          "xref": "x",
          "y": 14.35,
          "yref": "y"
         },
         {
          "font": {
           "color": "orange",
           "size": 12
          },
          "showarrow": false,
          "text": "28",
          "x": 12.35,
          "xref": "x",
          "y": 6.35,
          "yref": "y"
         },
         {
          "font": {
           "color": "orange",
           "size": 12
          },
          "showarrow": false,
          "text": "29",
          "x": 6.35,
          "xref": "x",
          "y": 8.35,
          "yref": "y"
         },
         {
          "font": {
           "color": "orange",
           "size": 12
          },
          "showarrow": false,
          "text": "30",
          "x": 9.35,
          "xref": "x",
          "y": 2.35,
          "yref": "y"
         },
         {
          "font": {
           "color": "orange",
           "size": 12
          },
          "showarrow": false,
          "text": "31",
          "x": 13.35,
          "xref": "x",
          "y": 1.35,
          "yref": "y"
         },
         {
          "font": {
           "color": "orange",
           "size": 12
          },
          "showarrow": false,
          "text": "32",
          "x": 4.75,
          "xref": "x",
          "y": 12.35,
          "yref": "y"
         },
         {
          "font": {
           "color": "orange",
           "size": 12
          },
          "showarrow": false,
          "text": "33",
          "x": 10.85,
          "xref": "x",
          "y": 11.85,
          "yref": "y"
         },
         {
          "font": {
           "color": "orange",
           "size": 12
          },
          "showarrow": false,
          "text": "34",
          "x": 2.35,
          "xref": "x",
          "y": 5.35,
          "yref": "y"
         },
         {
          "font": {
           "color": "orange",
           "size": 12
          },
          "showarrow": false,
          "text": "35",
          "x": 8.3,
          "xref": "x",
          "y": 13.35,
          "yref": "y"
         },
         {
          "font": {
           "color": "orange",
           "size": 12
          },
          "showarrow": false,
          "text": "36",
          "x": 8.35,
          "xref": "x",
          "y": 14.35,
          "yref": "y"
         },
         {
          "font": {
           "color": "orange",
           "size": 12
          },
          "showarrow": false,
          "text": "37",
          "x": 14.35,
          "xref": "x",
          "y": 5.35,
          "yref": "y"
         },
         {
          "font": {
           "color": "orange",
           "size": 12
          },
          "showarrow": false,
          "text": "38",
          "x": 3.35,
          "xref": "x",
          "y": 5.35,
          "yref": "y"
         },
         {
          "font": {
           "color": "orange",
           "size": 12
          },
          "showarrow": false,
          "text": "39",
          "x": 2.35,
          "xref": "x",
          "y": 8.85,
          "yref": "y"
         },
         {
          "font": {
           "color": "orange",
           "size": 12
          },
          "showarrow": false,
          "text": "40",
          "x": 5.35,
          "xref": "x",
          "y": 6.35,
          "yref": "y"
         },
         {
          "font": {
           "color": "orange",
           "size": 12
          },
          "showarrow": false,
          "text": "41",
          "x": 11.35,
          "xref": "x",
          "y": 13.35,
          "yref": "y"
         },
         {
          "font": {
           "color": "orange",
           "size": 12
          },
          "showarrow": false,
          "text": "42",
          "x": 12.35,
          "xref": "x",
          "y": 10.35,
          "yref": "y"
         },
         {
          "font": {
           "color": "orange",
           "size": 12
          },
          "showarrow": false,
          "text": "43",
          "x": 8.35,
          "xref": "x",
          "y": 2.35,
          "yref": "y"
         },
         {
          "font": {
           "color": "orange",
           "size": 12
          },
          "showarrow": false,
          "text": "44",
          "x": 4.35,
          "xref": "x",
          "y": 11.35,
          "yref": "y"
         },
         {
          "font": {
           "color": "orange",
           "size": 12
          },
          "showarrow": false,
          "text": "45",
          "x": 9.35,
          "xref": "x",
          "y": 4.35,
          "yref": "y"
         },
         {
          "font": {
           "color": "orange",
           "size": 12
          },
          "showarrow": false,
          "text": "46",
          "x": 4.35,
          "xref": "x",
          "y": 8.35,
          "yref": "y"
         },
         {
          "font": {
           "color": "orange",
           "size": 12
          },
          "showarrow": false,
          "text": "47",
          "x": 2.35,
          "xref": "x",
          "y": 10.85,
          "yref": "y"
         },
         {
          "font": {
           "color": "orange",
           "size": 12
          },
          "showarrow": false,
          "text": "48",
          "x": 12.35,
          "xref": "x",
          "y": 3.35,
          "yref": "y"
         },
         {
          "font": {
           "color": "orange",
           "size": 12
          },
          "showarrow": false,
          "text": "49",
          "x": 10.35,
          "xref": "x",
          "y": 4.35,
          "yref": "y"
         },
         {
          "font": {
           "color": "orange",
           "size": 12
          },
          "showarrow": false,
          "text": "50",
          "x": 5.35,
          "xref": "x",
          "y": 11.35,
          "yref": "y"
         },
         {
          "font": {
           "color": "orange",
           "size": 12
          },
          "showarrow": false,
          "text": "51",
          "x": 6.35,
          "xref": "x",
          "y": 2.35,
          "yref": "y"
         },
         {
          "font": {
           "color": "orange",
           "size": 12
          },
          "showarrow": false,
          "text": "52",
          "x": 8.35,
          "xref": "x",
          "y": 9.35,
          "yref": "y"
         },
         {
          "font": {
           "color": "orange",
           "size": 12
          },
          "showarrow": false,
          "text": "53",
          "x": 14.35,
          "xref": "x",
          "y": 11.35,
          "yref": "y"
         },
         {
          "font": {
           "color": "orange",
           "size": 12
          },
          "showarrow": false,
          "text": "54",
          "x": 2.35,
          "xref": "x",
          "y": 13.35,
          "yref": "y"
         },
         {
          "font": {
           "color": "orange",
           "size": 12
          },
          "showarrow": false,
          "text": "55",
          "x": 11.35,
          "xref": "x",
          "y": 7.35,
          "yref": "y"
         },
         {
          "font": {
           "color": "orange",
           "size": 12
          },
          "showarrow": false,
          "text": "56",
          "x": 9.35,
          "xref": "x",
          "y": 7.35,
          "yref": "y"
         },
         {
          "font": {
           "color": "orange",
           "size": 12
          },
          "showarrow": false,
          "text": "57",
          "x": 3.35,
          "xref": "x",
          "y": 7.35,
          "yref": "y"
         },
         {
          "font": {
           "color": "orange",
           "size": 12
          },
          "showarrow": false,
          "text": "58",
          "x": 11.85,
          "xref": "x",
          "y": 11.85,
          "yref": "y"
         },
         {
          "font": {
           "color": "orange",
           "size": 12
          },
          "showarrow": false,
          "text": "59",
          "x": 8.35,
          "xref": "x",
          "y": 12.35,
          "yref": "y"
         },
         {
          "font": {
           "color": "orange",
           "size": 12
          },
          "showarrow": false,
          "text": "60",
          "x": 7.949999999999999,
          "xref": "x",
          "y": 7.6499999999999995,
          "yref": "y"
         },
         {
          "font": {
           "color": "orange",
           "size": 12
          },
          "showarrow": false,
          "text": "61",
          "x": 4.949999999999999,
          "xref": "x",
          "y": 6.449999999999999,
          "yref": "y"
         },
         {
          "font": {
           "color": "orange",
           "size": 12
          },
          "showarrow": false,
          "text": "62",
          "x": 14.549999999999999,
          "xref": "x",
          "y": 3.45,
          "yref": "y"
         },
         {
          "font": {
           "color": "orange",
           "size": 12
          },
          "showarrow": false,
          "text": "63",
          "x": 1.9500000000000002,
          "xref": "x",
          "y": 9.45,
          "yref": "y"
         },
         {
          "font": {
           "color": "orange",
           "size": 12
          },
          "showarrow": false,
          "text": "64",
          "x": 9.95,
          "xref": "x",
          "y": 9.45,
          "yref": "y"
         },
         {
          "font": {
           "color": "orange",
           "size": 12
          },
          "showarrow": false,
          "text": "65",
          "x": 12.95,
          "xref": "x",
          "y": 4.949999999999999,
          "yref": "y"
         },
         {
          "font": {
           "color": "orange",
           "size": 12
          },
          "showarrow": false,
          "text": "66",
          "x": 10.95,
          "xref": "x",
          "y": 14.549999999999999,
          "yref": "y"
         },
         {
          "font": {
           "color": "orange",
           "size": 12
          },
          "showarrow": false,
          "text": "67",
          "x": 3.45,
          "xref": "x",
          "y": 3.45,
          "yref": "y"
         },
         {
          "font": {
           "color": "orange",
           "size": 12
          },
          "showarrow": false,
          "text": "68",
          "x": 8.75,
          "xref": "x",
          "y": 4.949999999999999,
          "yref": "y"
         },
         {
          "font": {
           "color": "orange",
           "size": 12
          },
          "showarrow": false,
          "text": "69",
          "x": 6.449999999999999,
          "xref": "x",
          "y": 6.449999999999999,
          "yref": "y"
         },
         {
          "font": {
           "color": "orange",
           "size": 12
          },
          "showarrow": false,
          "text": "70",
          "x": 13.75,
          "xref": "x",
          "y": 7.949999999999999,
          "yref": "y"
         },
         {
          "font": {
           "color": "orange",
           "size": 12
          },
          "showarrow": false,
          "text": "71",
          "x": 5.75,
          "xref": "x",
          "y": 1.9500000000000002,
          "yref": "y"
         },
         {
          "font": {
           "color": "orange",
           "size": 12
          },
          "showarrow": false,
          "text": "72",
          "x": 3.45,
          "xref": "x",
          "y": 10.25,
          "yref": "y"
         },
         {
          "font": {
           "color": "orange",
           "size": 12
          },
          "showarrow": false,
          "text": "73",
          "x": 1.9500000000000002,
          "xref": "x",
          "y": 3.45,
          "yref": "y"
         },
         {
          "font": {
           "color": "orange",
           "size": 12
          },
          "showarrow": false,
          "text": "74",
          "x": 12.45,
          "xref": "x",
          "y": 7.949999999999999,
          "yref": "y"
         },
         {
          "font": {
           "color": "orange",
           "size": 12
          },
          "showarrow": false,
          "text": "75",
          "x": 9.45,
          "xref": "x",
          "y": 15.35,
          "yref": "y"
         },
         {
          "font": {
           "color": "orange",
           "size": 12
          },
          "showarrow": false,
          "text": "76",
          "x": 11.25,
          "xref": "x",
          "y": 10.95,
          "yref": "y"
         },
         {
          "font": {
           "color": "orange",
           "size": 12
          },
          "showarrow": false,
          "text": "77",
          "x": 7.949999999999999,
          "xref": "x",
          "y": 13.049999999999999,
          "yref": "y"
         },
         {
          "font": {
           "color": "orange",
           "size": 12
          },
          "showarrow": false,
          "text": "78",
          "x": 4.949999999999999,
          "xref": "x",
          "y": 4.949999999999999,
          "yref": "y"
         },
         {
          "font": {
           "color": "orange",
           "size": 12
          },
          "showarrow": false,
          "text": "79",
          "x": 14.95,
          "xref": "x",
          "y": 13.95,
          "yref": "y"
         },
         {
          "font": {
           "color": "orange",
           "size": 12
          },
          "showarrow": false,
          "text": "80",
          "x": 4.55,
          "xref": "x",
          "y": 10.95,
          "yref": "y"
         },
         {
          "font": {
           "color": "orange",
           "size": 12
          },
          "showarrow": false,
          "text": "81",
          "x": 3.15,
          "xref": "x",
          "y": 12.45,
          "yref": "y"
         },
         {
          "font": {
           "color": "orange",
           "size": 12
          },
          "showarrow": false,
          "text": "82",
          "x": 12.45,
          "xref": "x",
          "y": 12.45,
          "yref": "y"
         },
         {
          "font": {
           "color": "orange",
           "size": 12
          },
          "showarrow": false,
          "text": "83",
          "x": 9.45,
          "xref": "x",
          "y": 10.95,
          "yref": "y"
         },
         {
          "font": {
           "color": "orange",
           "size": 12
          },
          "showarrow": false,
          "text": "84",
          "x": 11.65,
          "xref": "x",
          "y": 9.35,
          "yref": "y"
         },
         {
          "font": {
           "color": "orange",
           "size": 12
          },
          "showarrow": false,
          "text": "85",
          "x": 7.949999999999999,
          "xref": "x",
          "y": 4.949999999999999,
          "yref": "y"
         },
         {
          "font": {
           "color": "orange",
           "size": 12
          },
          "showarrow": false,
          "text": "86",
          "x": 3.45,
          "xref": "x",
          "y": 10.95,
          "yref": "y"
         },
         {
          "font": {
           "color": "orange",
           "size": 12
          },
          "showarrow": false,
          "text": "87",
          "x": 6.55,
          "xref": "x",
          "y": 15.35,
          "yref": "y"
         },
         {
          "font": {
           "color": "orange",
           "size": 12
          },
          "showarrow": false,
          "text": "88",
          "x": 14.45,
          "xref": "x",
          "y": 10.95,
          "yref": "y"
         },
         {
          "font": {
           "color": "orange",
           "size": 12
          },
          "showarrow": false,
          "text": "89",
          "x": 13.549999999999999,
          "xref": "x",
          "y": 14.85,
          "yref": "y"
         },
         {
          "font": {
           "color": "orange",
           "size": 12
          },
          "showarrow": false,
          "text": "90",
          "x": 12.35,
          "xref": "x",
          "y": 7.449999999999999,
          "yref": "y"
         },
         {
          "font": {
           "color": "orange",
           "size": 12
          },
          "showarrow": false,
          "text": "91",
          "x": 11.15,
          "xref": "x",
          "y": 2.65,
          "yref": "y"
         },
         {
          "font": {
           "color": "orange",
           "size": 12
          },
          "showarrow": false,
          "text": "92",
          "x": 13.85,
          "xref": "x",
          "y": 9.65,
          "yref": "y"
         },
         {
          "font": {
           "color": "orange",
           "size": 12
          },
          "showarrow": false,
          "text": "93",
          "x": 9.75,
          "xref": "x",
          "y": 2.75,
          "yref": "y"
         },
         {
          "font": {
           "color": "orange",
           "size": 12
          },
          "showarrow": false,
          "text": "94",
          "x": 15.15,
          "xref": "x",
          "y": 6.25,
          "yref": "y"
         },
         {
          "font": {
           "color": "orange",
           "size": 12
          },
          "showarrow": false,
          "text": "95",
          "x": 8.65,
          "xref": "x",
          "y": 13.549999999999999,
          "yref": "y"
         },
         {
          "font": {
           "color": "orange",
           "size": 12
          },
          "showarrow": false,
          "text": "96",
          "x": 11.35,
          "xref": "x",
          "y": 5.6499999999999995,
          "yref": "y"
         },
         {
          "font": {
           "color": "orange",
           "size": 12
          },
          "showarrow": false,
          "text": "97",
          "x": 3.65,
          "xref": "x",
          "y": 14.549999999999999,
          "yref": "y"
         },
         {
          "font": {
           "color": "orange",
           "size": 12
          },
          "showarrow": false,
          "text": "98",
          "x": 6.1499999999999995,
          "xref": "x",
          "y": 13.35,
          "yref": "y"
         },
         {
          "font": {
           "color": "orange",
           "size": 12
          },
          "showarrow": false,
          "text": "99",
          "x": 13.049999999999999,
          "xref": "x",
          "y": 11.25,
          "yref": "y"
         }
        ],
        "autosize": false,
        "height": 800,
        "template": {
         "data": {
          "bar": [
           {
            "error_x": {
             "color": "#2a3f5f"
            },
            "error_y": {
             "color": "#2a3f5f"
            },
            "marker": {
             "line": {
              "color": "#E5ECF6",
              "width": 0.5
             },
             "pattern": {
              "fillmode": "overlay",
              "size": 10,
              "solidity": 0.2
             }
            },
            "type": "bar"
           }
          ],
          "barpolar": [
           {
            "marker": {
             "line": {
              "color": "#E5ECF6",
              "width": 0.5
             },
             "pattern": {
              "fillmode": "overlay",
              "size": 10,
              "solidity": 0.2
             }
            },
            "type": "barpolar"
           }
          ],
          "carpet": [
           {
            "aaxis": {
             "endlinecolor": "#2a3f5f",
             "gridcolor": "white",
             "linecolor": "white",
             "minorgridcolor": "white",
             "startlinecolor": "#2a3f5f"
            },
            "baxis": {
             "endlinecolor": "#2a3f5f",
             "gridcolor": "white",
             "linecolor": "white",
             "minorgridcolor": "white",
             "startlinecolor": "#2a3f5f"
            },
            "type": "carpet"
           }
          ],
          "choropleth": [
           {
            "colorbar": {
             "outlinewidth": 0,
             "ticks": ""
            },
            "type": "choropleth"
           }
          ],
          "contour": [
           {
            "colorbar": {
             "outlinewidth": 0,
             "ticks": ""
            },
            "colorscale": [
             [
              0,
              "#0d0887"
             ],
             [
              0.1111111111111111,
              "#46039f"
             ],
             [
              0.2222222222222222,
              "#7201a8"
             ],
             [
              0.3333333333333333,
              "#9c179e"
             ],
             [
              0.4444444444444444,
              "#bd3786"
             ],
             [
              0.5555555555555556,
              "#d8576b"
             ],
             [
              0.6666666666666666,
              "#ed7953"
             ],
             [
              0.7777777777777778,
              "#fb9f3a"
             ],
             [
              0.8888888888888888,
              "#fdca26"
             ],
             [
              1,
              "#f0f921"
             ]
            ],
            "type": "contour"
           }
          ],
          "contourcarpet": [
           {
            "colorbar": {
             "outlinewidth": 0,
             "ticks": ""
            },
            "type": "contourcarpet"
           }
          ],
          "heatmap": [
           {
            "colorbar": {
             "outlinewidth": 0,
             "ticks": ""
            },
            "colorscale": [
             [
              0,
              "#0d0887"
             ],
             [
              0.1111111111111111,
              "#46039f"
             ],
             [
              0.2222222222222222,
              "#7201a8"
             ],
             [
              0.3333333333333333,
              "#9c179e"
             ],
             [
              0.4444444444444444,
              "#bd3786"
             ],
             [
              0.5555555555555556,
              "#d8576b"
             ],
             [
              0.6666666666666666,
              "#ed7953"
             ],
             [
              0.7777777777777778,
              "#fb9f3a"
             ],
             [
              0.8888888888888888,
              "#fdca26"
             ],
             [
              1,
              "#f0f921"
             ]
            ],
            "type": "heatmap"
           }
          ],
          "heatmapgl": [
           {
            "colorbar": {
             "outlinewidth": 0,
             "ticks": ""
            },
            "colorscale": [
             [
              0,
              "#0d0887"
             ],
             [
              0.1111111111111111,
              "#46039f"
             ],
             [
              0.2222222222222222,
              "#7201a8"
             ],
             [
              0.3333333333333333,
              "#9c179e"
             ],
             [
              0.4444444444444444,
              "#bd3786"
             ],
             [
              0.5555555555555556,
              "#d8576b"
             ],
             [
              0.6666666666666666,
              "#ed7953"
             ],
             [
              0.7777777777777778,
              "#fb9f3a"
             ],
             [
              0.8888888888888888,
              "#fdca26"
             ],
             [
              1,
              "#f0f921"
             ]
            ],
            "type": "heatmapgl"
           }
          ],
          "histogram": [
           {
            "marker": {
             "pattern": {
              "fillmode": "overlay",
              "size": 10,
              "solidity": 0.2
             }
            },
            "type": "histogram"
           }
          ],
          "histogram2d": [
           {
            "colorbar": {
             "outlinewidth": 0,
             "ticks": ""
            },
            "colorscale": [
             [
              0,
              "#0d0887"
             ],
             [
              0.1111111111111111,
              "#46039f"
             ],
             [
              0.2222222222222222,
              "#7201a8"
             ],
             [
              0.3333333333333333,
              "#9c179e"
             ],
             [
              0.4444444444444444,
              "#bd3786"
             ],
             [
              0.5555555555555556,
              "#d8576b"
             ],
             [
              0.6666666666666666,
              "#ed7953"
             ],
             [
              0.7777777777777778,
              "#fb9f3a"
             ],
             [
              0.8888888888888888,
              "#fdca26"
             ],
             [
              1,
              "#f0f921"
             ]
            ],
            "type": "histogram2d"
           }
          ],
          "histogram2dcontour": [
           {
            "colorbar": {
             "outlinewidth": 0,
             "ticks": ""
            },
            "colorscale": [
             [
              0,
              "#0d0887"
             ],
             [
              0.1111111111111111,
              "#46039f"
             ],
             [
              0.2222222222222222,
              "#7201a8"
             ],
             [
              0.3333333333333333,
              "#9c179e"
             ],
             [
              0.4444444444444444,
              "#bd3786"
             ],
             [
              0.5555555555555556,
              "#d8576b"
             ],
             [
              0.6666666666666666,
              "#ed7953"
             ],
             [
              0.7777777777777778,
              "#fb9f3a"
             ],
             [
              0.8888888888888888,
              "#fdca26"
             ],
             [
              1,
              "#f0f921"
             ]
            ],
            "type": "histogram2dcontour"
           }
          ],
          "mesh3d": [
           {
            "colorbar": {
             "outlinewidth": 0,
             "ticks": ""
            },
            "type": "mesh3d"
           }
          ],
          "parcoords": [
           {
            "line": {
             "colorbar": {
              "outlinewidth": 0,
              "ticks": ""
             }
            },
            "type": "parcoords"
           }
          ],
          "pie": [
           {
            "automargin": true,
            "type": "pie"
           }
          ],
          "scatter": [
           {
            "fillpattern": {
             "fillmode": "overlay",
             "size": 10,
             "solidity": 0.2
            },
            "type": "scatter"
           }
          ],
          "scatter3d": [
           {
            "line": {
             "colorbar": {
              "outlinewidth": 0,
              "ticks": ""
             }
            },
            "marker": {
             "colorbar": {
              "outlinewidth": 0,
              "ticks": ""
             }
            },
            "type": "scatter3d"
           }
          ],
          "scattercarpet": [
           {
            "marker": {
             "colorbar": {
              "outlinewidth": 0,
              "ticks": ""
             }
            },
            "type": "scattercarpet"
           }
          ],
          "scattergeo": [
           {
            "marker": {
             "colorbar": {
              "outlinewidth": 0,
              "ticks": ""
             }
            },
            "type": "scattergeo"
           }
          ],
          "scattergl": [
           {
            "marker": {
             "colorbar": {
              "outlinewidth": 0,
              "ticks": ""
             }
            },
            "type": "scattergl"
           }
          ],
          "scattermapbox": [
           {
            "marker": {
             "colorbar": {
              "outlinewidth": 0,
              "ticks": ""
             }
            },
            "type": "scattermapbox"
           }
          ],
          "scatterpolar": [
           {
            "marker": {
             "colorbar": {
              "outlinewidth": 0,
              "ticks": ""
             }
            },
            "type": "scatterpolar"
           }
          ],
          "scatterpolargl": [
           {
            "marker": {
             "colorbar": {
              "outlinewidth": 0,
              "ticks": ""
             }
            },
            "type": "scatterpolargl"
           }
          ],
          "scatterternary": [
           {
            "marker": {
             "colorbar": {
              "outlinewidth": 0,
              "ticks": ""
             }
            },
            "type": "scatterternary"
           }
          ],
          "surface": [
           {
            "colorbar": {
             "outlinewidth": 0,
             "ticks": ""
            },
            "colorscale": [
             [
              0,
              "#0d0887"
             ],
             [
              0.1111111111111111,
              "#46039f"
             ],
             [
              0.2222222222222222,
              "#7201a8"
             ],
             [
              0.3333333333333333,
              "#9c179e"
             ],
             [
              0.4444444444444444,
              "#bd3786"
             ],
             [
              0.5555555555555556,
              "#d8576b"
             ],
             [
              0.6666666666666666,
              "#ed7953"
             ],
             [
              0.7777777777777778,
              "#fb9f3a"
             ],
             [
              0.8888888888888888,
              "#fdca26"
             ],
             [
              1,
              "#f0f921"
             ]
            ],
            "type": "surface"
           }
          ],
          "table": [
           {
            "cells": {
             "fill": {
              "color": "#EBF0F8"
             },
             "line": {
              "color": "white"
             }
            },
            "header": {
             "fill": {
              "color": "#C8D4E3"
             },
             "line": {
              "color": "white"
             }
            },
            "type": "table"
           }
          ]
         },
         "layout": {
          "annotationdefaults": {
           "arrowcolor": "#2a3f5f",
           "arrowhead": 0,
           "arrowwidth": 1
          },
          "autotypenumbers": "strict",
          "coloraxis": {
           "colorbar": {
            "outlinewidth": 0,
            "ticks": ""
           }
          },
          "colorscale": {
           "diverging": [
            [
             0,
             "#8e0152"
            ],
            [
             0.1,
             "#c51b7d"
            ],
            [
             0.2,
             "#de77ae"
            ],
            [
             0.3,
             "#f1b6da"
            ],
            [
             0.4,
             "#fde0ef"
            ],
            [
             0.5,
             "#f7f7f7"
            ],
            [
             0.6,
             "#e6f5d0"
            ],
            [
             0.7,
             "#b8e186"
            ],
            [
             0.8,
             "#7fbc41"
            ],
            [
             0.9,
             "#4d9221"
            ],
            [
             1,
             "#276419"
            ]
           ],
           "sequential": [
            [
             0,
             "#0d0887"
            ],
            [
             0.1111111111111111,
             "#46039f"
            ],
            [
             0.2222222222222222,
             "#7201a8"
            ],
            [
             0.3333333333333333,
             "#9c179e"
            ],
            [
             0.4444444444444444,
             "#bd3786"
            ],
            [
             0.5555555555555556,
             "#d8576b"
            ],
            [
             0.6666666666666666,
             "#ed7953"
            ],
            [
             0.7777777777777778,
             "#fb9f3a"
            ],
            [
             0.8888888888888888,
             "#fdca26"
            ],
            [
             1,
             "#f0f921"
            ]
           ],
           "sequentialminus": [
            [
             0,
             "#0d0887"
            ],
            [
             0.1111111111111111,
             "#46039f"
            ],
            [
             0.2222222222222222,
             "#7201a8"
            ],
            [
             0.3333333333333333,
             "#9c179e"
            ],
            [
             0.4444444444444444,
             "#bd3786"
            ],
            [
             0.5555555555555556,
             "#d8576b"
            ],
            [
             0.6666666666666666,
             "#ed7953"
            ],
            [
             0.7777777777777778,
             "#fb9f3a"
            ],
            [
             0.8888888888888888,
             "#fdca26"
            ],
            [
             1,
             "#f0f921"
            ]
           ]
          },
          "colorway": [
           "#636efa",
           "#EF553B",
           "#00cc96",
           "#ab63fa",
           "#FFA15A",
           "#19d3f3",
           "#FF6692",
           "#B6E880",
           "#FF97FF",
           "#FECB52"
          ],
          "font": {
           "color": "#2a3f5f"
          },
          "geo": {
           "bgcolor": "white",
           "lakecolor": "white",
           "landcolor": "#E5ECF6",
           "showlakes": true,
           "showland": true,
           "subunitcolor": "white"
          },
          "hoverlabel": {
           "align": "left"
          },
          "hovermode": "closest",
          "mapbox": {
           "style": "light"
          },
          "paper_bgcolor": "white",
          "plot_bgcolor": "#E5ECF6",
          "polar": {
           "angularaxis": {
            "gridcolor": "white",
            "linecolor": "white",
            "ticks": ""
           },
           "bgcolor": "#E5ECF6",
           "radialaxis": {
            "gridcolor": "white",
            "linecolor": "white",
            "ticks": ""
           }
          },
          "scene": {
           "xaxis": {
            "backgroundcolor": "#E5ECF6",
            "gridcolor": "white",
            "gridwidth": 2,
            "linecolor": "white",
            "showbackground": true,
            "ticks": "",
            "zerolinecolor": "white"
           },
           "yaxis": {
            "backgroundcolor": "#E5ECF6",
            "gridcolor": "white",
            "gridwidth": 2,
            "linecolor": "white",
            "showbackground": true,
            "ticks": "",
            "zerolinecolor": "white"
           },
           "zaxis": {
            "backgroundcolor": "#E5ECF6",
            "gridcolor": "white",
            "gridwidth": 2,
            "linecolor": "white",
            "showbackground": true,
            "ticks": "",
            "zerolinecolor": "white"
           }
          },
          "shapedefaults": {
           "line": {
            "color": "#2a3f5f"
           }
          },
          "ternary": {
           "aaxis": {
            "gridcolor": "white",
            "linecolor": "white",
            "ticks": ""
           },
           "baxis": {
            "gridcolor": "white",
            "linecolor": "white",
            "ticks": ""
           },
           "bgcolor": "#E5ECF6",
           "caxis": {
            "gridcolor": "white",
            "linecolor": "white",
            "ticks": ""
           }
          },
          "title": {
           "x": 0.05
          },
          "xaxis": {
           "automargin": true,
           "gridcolor": "white",
           "linecolor": "white",
           "ticks": "",
           "title": {
            "standoff": 15
           },
           "zerolinecolor": "white",
           "zerolinewidth": 2
          },
          "yaxis": {
           "automargin": true,
           "gridcolor": "white",
           "linecolor": "white",
           "ticks": "",
           "title": {
            "standoff": 15
           },
           "zerolinecolor": "white",
           "zerolinewidth": 2
          }
         }
        },
        "title": {
         "text": " Two-opt Truck and Drone Optimal Tours"
        },
        "width": 800,
        "xaxis": {
         "constrain": "domain",
         "tickvals": [
          0,
          2,
          4,
          6,
          8,
          10,
          12,
          14,
          16,
          18,
          20,
          22,
          24
         ]
        },
        "yaxis": {
         "scaleanchor": "x",
         "tickvals": [
          0,
          2,
          4,
          6,
          8,
          10,
          12,
          14,
          16,
          18,
          20,
          22,
          24
         ]
        }
       }
      }
     },
     "metadata": {},
     "output_type": "display_data"
    },
    {
     "data": {
      "application/vnd.plotly.v1+json": {
       "config": {
        "plotlyServerURL": "https://plot.ly"
       },
       "data": [
        {
         "marker": {
          "color": "black",
          "size": 10
         },
         "mode": "markers",
         "name": "City",
         "type": "scatter",
         "x": [
          3,
          7,
          14,
          7,
          2,
          2,
          2.7,
          9,
          12,
          5,
          6,
          11,
          5,
          10,
          11,
          6,
          6,
          11,
          3,
          8.6,
          13,
          4,
          12,
          6,
          9,
          13,
          4.4,
          10.5,
          2,
          7.95,
          8,
          14,
          3,
          2,
          5,
          11,
          8,
          4,
          9,
          4,
          2,
          12,
          10,
          5,
          6,
          8,
          2,
          11,
          9,
          3,
          11.5,
          8,
          7.6,
          4.6,
          14.2,
          1.6,
          9.6,
          12.6,
          10.6,
          8.4,
          6.1,
          13.4,
          5.4,
          3.1,
          12.1,
          9.1,
          10.9,
          7.6,
          4.6,
          14.6,
          4.2,
          2.8,
          12.1,
          9.1,
          11.3,
          7.6,
          3.1,
          6.2,
          13.2,
          12,
          10.8,
          9.4,
          14.8,
          8.3,
          11,
          3.3,
          5.8
         ],
         "y": [
          9,
          7,
          6,
          4,
          7,
          15,
          11.5,
          11,
          14,
          9,
          5,
          2,
          13,
          5,
          8,
          10,
          3,
          5,
          8,
          9,
          3,
          14,
          6,
          8,
          2,
          1,
          12,
          11.5,
          5,
          13,
          14,
          5,
          5,
          8.5,
          6,
          13,
          2,
          11,
          4,
          8,
          10.5,
          3,
          4,
          11,
          2,
          9,
          13,
          7,
          7,
          7,
          11.5,
          12,
          7.3,
          6.1,
          3.1,
          9.1,
          9.1,
          4.6,
          14.2,
          4.6,
          6.1,
          7.6,
          1.6,
          9.9,
          7.6,
          15,
          10.6,
          12.7,
          4.6,
          13.6,
          10.6,
          12.1,
          12.1,
          10.6,
          9,
          4.6,
          10.6,
          15,
          14.5,
          7.1,
          2.3,
          2.4,
          5.9,
          13.2,
          5.3,
          14.2,
          13
         ]
        },
        {
         "marker": {
          "color": "red",
          "size": 10,
          "symbol": "cross"
         },
         "mode": "markers",
         "name": "Drone Prohibited City",
         "type": "scatter",
         "x": [
          4,
          3,
          1.7,
          4,
          3.1,
          1.6,
          14,
          13,
          12,
          14,
          14.1,
          13.5,
          12.7
         ],
         "y": [
          3,
          2,
          1.7,
          4,
          3.1,
          3.1,
          12,
          10,
          10,
          11,
          10.6,
          9.3,
          10.9
         ]
        },
        {
         "line": {
          "width": 2
         },
         "marker": {
          "color": "black",
          "size": 10
         },
         "mode": "lines",
         "name": "Truck Tour",
         "type": "scatter",
         "x": [
          3,
          6,
          5,
          3,
          3,
          4.6,
          6,
          7.6,
          7,
          6,
          4.6,
          4,
          4,
          3.1,
          3,
          1.7,
          1.6,
          2,
          3,
          2,
          1.6,
          2,
          2.7,
          2.8,
          2,
          2,
          3.3,
          6.2,
          7.6,
          7.95,
          8.3,
          8,
          9.1,
          10.6,
          12,
          13.2,
          14.6,
          14,
          14,
          14.1,
          12.7,
          12.1,
          10.5,
          10.9,
          12,
          13,
          13.5,
          13.4,
          14.8,
          14,
          12.6,
          13,
          14.2,
          13,
          11,
          10.8,
          9.4,
          9,
          8,
          5.4,
          6,
          7,
          7.6,
          9,
          10,
          10,
          11,
          11,
          11,
          12,
          12.1,
          11.3,
          9.6,
          8.6,
          8,
          9,
          8,
          5.8,
          4.4,
          5,
          4.2,
          3.1,
          3.1,
          3,
          3
         ],
         "y": [
          9,
          10,
          9,
          8,
          7,
          6.1,
          8,
          7.3,
          7,
          5,
          4.6,
          4,
          3,
          3.1,
          2,
          1.7,
          3.1,
          5,
          5,
          8.5,
          9.1,
          10.5,
          11.5,
          12.1,
          13,
          15,
          14.2,
          15,
          12.7,
          13,
          13.2,
          14,
          15,
          14.2,
          14,
          14.5,
          13.6,
          12,
          11,
          10.6,
          10.9,
          12.1,
          11.5,
          10.6,
          10,
          10,
          9.3,
          7.6,
          5.9,
          5,
          4.6,
          3,
          3.1,
          1,
          2,
          2.3,
          2.4,
          2,
          2,
          1.6,
          3,
          4,
          4.6,
          4,
          4,
          5,
          5,
          5.3,
          7,
          7.1,
          7.6,
          9,
          9.1,
          9,
          9,
          11,
          12,
          13,
          12,
          11,
          10.6,
          10.6,
          9.9,
          9,
          9
         ]
        },
        {
         "legendgroup": "Drone Tours",
         "line": {
          "dash": "dash",
          "width": 2
         },
         "marker": {
          "color": "black",
          "size": 10
         },
         "mode": "lines",
         "name": "Drone Tour",
         "type": "scatter",
         "x": [
          7,
          6.1,
          4.6
         ],
         "y": [
          7,
          6.1,
          4.6
         ]
        },
        {
         "legendgroup": "Drone Tours",
         "line": {
          "dash": "dash",
          "width": 2
         },
         "marker": {
          "color": "black",
          "size": 10
         },
         "mode": "lines",
         "showlegend": false,
         "type": "scatter",
         "x": [
          7,
          8.4,
          9
         ],
         "y": [
          4,
          4.6,
          4
         ]
        },
        {
         "legendgroup": "Drone Tours",
         "line": {
          "dash": "dash",
          "width": 2
         },
         "marker": {
          "color": "black",
          "size": 10
         },
         "mode": "lines",
         "showlegend": false,
         "type": "scatter",
         "x": [
          10,
          9,
          8
         ],
         "y": [
          5,
          7,
          9
         ]
        },
        {
         "legendgroup": "Drone Tours",
         "line": {
          "dash": "dash",
          "width": 2
         },
         "marker": {
          "color": "black",
          "size": 10
         },
         "mode": "lines",
         "showlegend": false,
         "type": "scatter",
         "x": [
          6,
          4,
          3
         ],
         "y": [
          10,
          8,
          8
         ]
        },
        {
         "legendgroup": "Drone Tours",
         "line": {
          "dash": "dash",
          "width": 2
         },
         "marker": {
          "color": "black",
          "size": 10
         },
         "mode": "lines",
         "showlegend": false,
         "type": "scatter",
         "x": [
          8.6,
          9.1,
          8
         ],
         "y": [
          9,
          10.6,
          12
         ]
        },
        {
         "legendgroup": "Drone Tours",
         "line": {
          "dash": "dash",
          "width": 2
         },
         "marker": {
          "color": "black",
          "size": 10
         },
         "mode": "lines",
         "showlegend": false,
         "type": "scatter",
         "x": [
          13,
          12,
          10.8
         ],
         "y": [
          1,
          3,
          2.3
         ]
        },
        {
         "legendgroup": "Drone Tours",
         "line": {
          "dash": "dash",
          "width": 2
         },
         "marker": {
          "color": "black",
          "size": 10
         },
         "mode": "lines",
         "showlegend": false,
         "type": "scatter",
         "x": [
          2,
          2,
          2.8
         ],
         "y": [
          5,
          7,
          12.1
         ]
        },
        {
         "legendgroup": "Drone Tours",
         "line": {
          "dash": "dash",
          "width": 2
         },
         "marker": {
          "color": "black",
          "size": 10
         },
         "mode": "lines",
         "showlegend": false,
         "type": "scatter",
         "x": [
          8,
          11,
          12
         ],
         "y": [
          14,
          13,
          14
         ]
        },
        {
         "legendgroup": "Drone Tours",
         "line": {
          "dash": "dash",
          "width": 2
         },
         "marker": {
          "color": "black",
          "size": 10
         },
         "mode": "lines",
         "showlegend": false,
         "type": "scatter",
         "x": [
          10,
          12,
          11
         ],
         "y": [
          4,
          6,
          5
         ]
        },
        {
         "legendgroup": "Drone Tours",
         "line": {
          "dash": "dash",
          "width": 2
         },
         "marker": {
          "color": "black",
          "size": 10
         },
         "mode": "lines",
         "showlegend": false,
         "type": "scatter",
         "x": [
          5,
          4,
          3.1
         ],
         "y": [
          11,
          11,
          9.9
         ]
        },
        {
         "legendgroup": "Drone Tours",
         "line": {
          "dash": "dash",
          "width": 2
         },
         "marker": {
          "color": "black",
          "size": 10
         },
         "mode": "lines",
         "showlegend": false,
         "type": "scatter",
         "x": [
          3,
          5,
          7.6
         ],
         "y": [
          7,
          6,
          7.3
         ]
        },
        {
         "legendgroup": "Drone Tours",
         "line": {
          "dash": "dash",
          "width": 2
         },
         "marker": {
          "color": "black",
          "size": 10
         },
         "mode": "lines",
         "showlegend": false,
         "type": "scatter",
         "x": [
          13.4,
          14,
          14.2
         ],
         "y": [
          7.6,
          6,
          3.1
         ]
        },
        {
         "legendgroup": "Drone Tours",
         "line": {
          "dash": "dash",
          "width": 2
         },
         "marker": {
          "color": "black",
          "size": 10
         },
         "mode": "lines",
         "showlegend": false,
         "type": "scatter",
         "x": [
          12.1,
          11.5,
          10.9
         ],
         "y": [
          12.1,
          11.5,
          10.6
         ]
        },
        {
         "legendgroup": "Drone Tours",
         "line": {
          "dash": "dash",
          "width": 2
         },
         "marker": {
          "color": "black",
          "size": 10
         },
         "mode": "lines",
         "showlegend": false,
         "type": "scatter",
         "x": [
          11.3,
          11,
          12.1
         ],
         "y": [
          9,
          8,
          7.6
         ]
        },
        {
         "legendgroup": "Drone Tours",
         "line": {
          "dash": "dash",
          "width": 2
         },
         "marker": {
          "color": "black",
          "size": 10
         },
         "mode": "lines",
         "showlegend": false,
         "type": "scatter",
         "x": [
          9.4,
          6,
          6
         ],
         "y": [
          2.4,
          2,
          3
         ]
        },
        {
         "legendgroup": "Drone Tours",
         "line": {
          "dash": "dash",
          "width": 2
         },
         "marker": {
          "color": "black",
          "size": 10
         },
         "mode": "lines",
         "showlegend": false,
         "type": "scatter",
         "x": [
          3.3,
          4,
          8.3
         ],
         "y": [
          14.2,
          14,
          13.2
         ]
        },
        {
         "legendgroup": "Drone Tours",
         "line": {
          "dash": "dash",
          "width": 2
         },
         "marker": {
          "color": "black",
          "size": 10
         },
         "mode": "lines",
         "showlegend": false,
         "type": "scatter",
         "x": [
          5.8,
          5,
          4.4
         ],
         "y": [
          13,
          13,
          12
         ]
        }
       ],
       "layout": {
        "annotations": [
         {
          "font": {
           "color": "orange",
           "size": 12
          },
          "showarrow": false,
          "text": "0",
          "x": 3.35,
          "xref": "x",
          "y": 9.35,
          "yref": "y"
         },
         {
          "font": {
           "color": "orange",
           "size": 12
          },
          "showarrow": false,
          "text": "1",
          "x": 7.35,
          "xref": "x",
          "y": 7.35,
          "yref": "y"
         },
         {
          "font": {
           "color": "orange",
           "size": 12
          },
          "showarrow": false,
          "text": "2",
          "x": 14.35,
          "xref": "x",
          "y": 6.35,
          "yref": "y"
         },
         {
          "font": {
           "color": "orange",
           "size": 12
          },
          "showarrow": false,
          "text": "3",
          "x": 7.35,
          "xref": "x",
          "y": 4.35,
          "yref": "y"
         },
         {
          "font": {
           "color": "orange",
           "size": 12
          },
          "showarrow": false,
          "text": "4",
          "x": 4.35,
          "xref": "x",
          "y": 3.35,
          "yref": "y"
         },
         {
          "font": {
           "color": "orange",
           "size": 12
          },
          "showarrow": false,
          "text": "5",
          "x": 2.35,
          "xref": "x",
          "y": 7.35,
          "yref": "y"
         },
         {
          "font": {
           "color": "orange",
           "size": 12
          },
          "showarrow": false,
          "text": "6",
          "x": 2.35,
          "xref": "x",
          "y": 15.35,
          "yref": "y"
         },
         {
          "font": {
           "color": "orange",
           "size": 12
          },
          "showarrow": false,
          "text": "7",
          "x": 3.0500000000000003,
          "xref": "x",
          "y": 11.85,
          "yref": "y"
         },
         {
          "font": {
           "color": "orange",
           "size": 12
          },
          "showarrow": false,
          "text": "8",
          "x": 9.35,
          "xref": "x",
          "y": 11.35,
          "yref": "y"
         },
         {
          "font": {
           "color": "orange",
           "size": 12
          },
          "showarrow": false,
          "text": "9",
          "x": 12.35,
          "xref": "x",
          "y": 14.35,
          "yref": "y"
         },
         {
          "font": {
           "color": "orange",
           "size": 12
          },
          "showarrow": false,
          "text": "10",
          "x": 5.35,
          "xref": "x",
          "y": 9.35,
          "yref": "y"
         },
         {
          "font": {
           "color": "orange",
           "size": 12
          },
          "showarrow": false,
          "text": "11",
          "x": 6.35,
          "xref": "x",
          "y": 5.35,
          "yref": "y"
         },
         {
          "font": {
           "color": "orange",
           "size": 12
          },
          "showarrow": false,
          "text": "12",
          "x": 11.35,
          "xref": "x",
          "y": 2.35,
          "yref": "y"
         },
         {
          "font": {
           "color": "orange",
           "size": 12
          },
          "showarrow": false,
          "text": "13",
          "x": 14.35,
          "xref": "x",
          "y": 12.35,
          "yref": "y"
         },
         {
          "font": {
           "color": "orange",
           "size": 12
          },
          "showarrow": false,
          "text": "14",
          "x": 5.35,
          "xref": "x",
          "y": 13.35,
          "yref": "y"
         },
         {
          "font": {
           "color": "orange",
           "size": 12
          },
          "showarrow": false,
          "text": "15",
          "x": 10.35,
          "xref": "x",
          "y": 5.35,
          "yref": "y"
         },
         {
          "font": {
           "color": "orange",
           "size": 12
          },
          "showarrow": false,
          "text": "16",
          "x": 11.35,
          "xref": "x",
          "y": 8.35,
          "yref": "y"
         },
         {
          "font": {
           "color": "orange",
           "size": 12
          },
          "showarrow": false,
          "text": "17",
          "x": 3.35,
          "xref": "x",
          "y": 2.35,
          "yref": "y"
         },
         {
          "font": {
           "color": "orange",
           "size": 12
          },
          "showarrow": false,
          "text": "18",
          "x": 6.35,
          "xref": "x",
          "y": 10.35,
          "yref": "y"
         },
         {
          "font": {
           "color": "orange",
           "size": 12
          },
          "showarrow": false,
          "text": "19",
          "x": 6.35,
          "xref": "x",
          "y": 3.35,
          "yref": "y"
         },
         {
          "font": {
           "color": "orange",
           "size": 12
          },
          "showarrow": false,
          "text": "20",
          "x": 11.35,
          "xref": "x",
          "y": 5.35,
          "yref": "y"
         },
         {
          "font": {
           "color": "orange",
           "size": 12
          },
          "showarrow": false,
          "text": "21",
          "x": 3.35,
          "xref": "x",
          "y": 8.35,
          "yref": "y"
         },
         {
          "font": {
           "color": "orange",
           "size": 12
          },
          "showarrow": false,
          "text": "22",
          "x": 8.95,
          "xref": "x",
          "y": 9.35,
          "yref": "y"
         },
         {
          "font": {
           "color": "orange",
           "size": 12
          },
          "showarrow": false,
          "text": "23",
          "x": 13.35,
          "xref": "x",
          "y": 3.35,
          "yref": "y"
         },
         {
          "font": {
           "color": "orange",
           "size": 12
          },
          "showarrow": false,
          "text": "24",
          "x": 13.35,
          "xref": "x",
          "y": 10.35,
          "yref": "y"
         },
         {
          "font": {
           "color": "orange",
           "size": 12
          },
          "showarrow": false,
          "text": "25",
          "x": 2.05,
          "xref": "x",
          "y": 2.05,
          "yref": "y"
         },
         {
          "font": {
           "color": "orange",
           "size": 12
          },
          "showarrow": false,
          "text": "26",
          "x": 4.35,
          "xref": "x",
          "y": 4.35,
          "yref": "y"
         },
         {
          "font": {
           "color": "orange",
           "size": 12
          },
          "showarrow": false,
          "text": "27",
          "x": 4.35,
          "xref": "x",
          "y": 14.35,
          "yref": "y"
         },
         {
          "font": {
           "color": "orange",
           "size": 12
          },
          "showarrow": false,
          "text": "28",
          "x": 12.35,
          "xref": "x",
          "y": 6.35,
          "yref": "y"
         },
         {
          "font": {
           "color": "orange",
           "size": 12
          },
          "showarrow": false,
          "text": "29",
          "x": 6.35,
          "xref": "x",
          "y": 8.35,
          "yref": "y"
         },
         {
          "font": {
           "color": "orange",
           "size": 12
          },
          "showarrow": false,
          "text": "30",
          "x": 9.35,
          "xref": "x",
          "y": 2.35,
          "yref": "y"
         },
         {
          "font": {
           "color": "orange",
           "size": 12
          },
          "showarrow": false,
          "text": "31",
          "x": 13.35,
          "xref": "x",
          "y": 1.35,
          "yref": "y"
         },
         {
          "font": {
           "color": "orange",
           "size": 12
          },
          "showarrow": false,
          "text": "32",
          "x": 4.75,
          "xref": "x",
          "y": 12.35,
          "yref": "y"
         },
         {
          "font": {
           "color": "orange",
           "size": 12
          },
          "showarrow": false,
          "text": "33",
          "x": 10.85,
          "xref": "x",
          "y": 11.85,
          "yref": "y"
         },
         {
          "font": {
           "color": "orange",
           "size": 12
          },
          "showarrow": false,
          "text": "34",
          "x": 2.35,
          "xref": "x",
          "y": 5.35,
          "yref": "y"
         },
         {
          "font": {
           "color": "orange",
           "size": 12
          },
          "showarrow": false,
          "text": "35",
          "x": 8.3,
          "xref": "x",
          "y": 13.35,
          "yref": "y"
         },
         {
          "font": {
           "color": "orange",
           "size": 12
          },
          "showarrow": false,
          "text": "36",
          "x": 8.35,
          "xref": "x",
          "y": 14.35,
          "yref": "y"
         },
         {
          "font": {
           "color": "orange",
           "size": 12
          },
          "showarrow": false,
          "text": "37",
          "x": 14.35,
          "xref": "x",
          "y": 5.35,
          "yref": "y"
         },
         {
          "font": {
           "color": "orange",
           "size": 12
          },
          "showarrow": false,
          "text": "38",
          "x": 3.35,
          "xref": "x",
          "y": 5.35,
          "yref": "y"
         },
         {
          "font": {
           "color": "orange",
           "size": 12
          },
          "showarrow": false,
          "text": "39",
          "x": 2.35,
          "xref": "x",
          "y": 8.85,
          "yref": "y"
         },
         {
          "font": {
           "color": "orange",
           "size": 12
          },
          "showarrow": false,
          "text": "40",
          "x": 5.35,
          "xref": "x",
          "y": 6.35,
          "yref": "y"
         },
         {
          "font": {
           "color": "orange",
           "size": 12
          },
          "showarrow": false,
          "text": "41",
          "x": 11.35,
          "xref": "x",
          "y": 13.35,
          "yref": "y"
         },
         {
          "font": {
           "color": "orange",
           "size": 12
          },
          "showarrow": false,
          "text": "42",
          "x": 12.35,
          "xref": "x",
          "y": 10.35,
          "yref": "y"
         },
         {
          "font": {
           "color": "orange",
           "size": 12
          },
          "showarrow": false,
          "text": "43",
          "x": 8.35,
          "xref": "x",
          "y": 2.35,
          "yref": "y"
         },
         {
          "font": {
           "color": "orange",
           "size": 12
          },
          "showarrow": false,
          "text": "44",
          "x": 4.35,
          "xref": "x",
          "y": 11.35,
          "yref": "y"
         },
         {
          "font": {
           "color": "orange",
           "size": 12
          },
          "showarrow": false,
          "text": "45",
          "x": 9.35,
          "xref": "x",
          "y": 4.35,
          "yref": "y"
         },
         {
          "font": {
           "color": "orange",
           "size": 12
          },
          "showarrow": false,
          "text": "46",
          "x": 4.35,
          "xref": "x",
          "y": 8.35,
          "yref": "y"
         },
         {
          "font": {
           "color": "orange",
           "size": 12
          },
          "showarrow": false,
          "text": "47",
          "x": 2.35,
          "xref": "x",
          "y": 10.85,
          "yref": "y"
         },
         {
          "font": {
           "color": "orange",
           "size": 12
          },
          "showarrow": false,
          "text": "48",
          "x": 12.35,
          "xref": "x",
          "y": 3.35,
          "yref": "y"
         },
         {
          "font": {
           "color": "orange",
           "size": 12
          },
          "showarrow": false,
          "text": "49",
          "x": 10.35,
          "xref": "x",
          "y": 4.35,
          "yref": "y"
         },
         {
          "font": {
           "color": "orange",
           "size": 12
          },
          "showarrow": false,
          "text": "50",
          "x": 5.35,
          "xref": "x",
          "y": 11.35,
          "yref": "y"
         },
         {
          "font": {
           "color": "orange",
           "size": 12
          },
          "showarrow": false,
          "text": "51",
          "x": 6.35,
          "xref": "x",
          "y": 2.35,
          "yref": "y"
         },
         {
          "font": {
           "color": "orange",
           "size": 12
          },
          "showarrow": false,
          "text": "52",
          "x": 8.35,
          "xref": "x",
          "y": 9.35,
          "yref": "y"
         },
         {
          "font": {
           "color": "orange",
           "size": 12
          },
          "showarrow": false,
          "text": "53",
          "x": 14.35,
          "xref": "x",
          "y": 11.35,
          "yref": "y"
         },
         {
          "font": {
           "color": "orange",
           "size": 12
          },
          "showarrow": false,
          "text": "54",
          "x": 2.35,
          "xref": "x",
          "y": 13.35,
          "yref": "y"
         },
         {
          "font": {
           "color": "orange",
           "size": 12
          },
          "showarrow": false,
          "text": "55",
          "x": 11.35,
          "xref": "x",
          "y": 7.35,
          "yref": "y"
         },
         {
          "font": {
           "color": "orange",
           "size": 12
          },
          "showarrow": false,
          "text": "56",
          "x": 9.35,
          "xref": "x",
          "y": 7.35,
          "yref": "y"
         },
         {
          "font": {
           "color": "orange",
           "size": 12
          },
          "showarrow": false,
          "text": "57",
          "x": 3.35,
          "xref": "x",
          "y": 7.35,
          "yref": "y"
         },
         {
          "font": {
           "color": "orange",
           "size": 12
          },
          "showarrow": false,
          "text": "58",
          "x": 11.85,
          "xref": "x",
          "y": 11.85,
          "yref": "y"
         },
         {
          "font": {
           "color": "orange",
           "size": 12
          },
          "showarrow": false,
          "text": "59",
          "x": 8.35,
          "xref": "x",
          "y": 12.35,
          "yref": "y"
         },
         {
          "font": {
           "color": "orange",
           "size": 12
          },
          "showarrow": false,
          "text": "60",
          "x": 7.949999999999999,
          "xref": "x",
          "y": 7.6499999999999995,
          "yref": "y"
         },
         {
          "font": {
           "color": "orange",
           "size": 12
          },
          "showarrow": false,
          "text": "61",
          "x": 4.949999999999999,
          "xref": "x",
          "y": 6.449999999999999,
          "yref": "y"
         },
         {
          "font": {
           "color": "orange",
           "size": 12
          },
          "showarrow": false,
          "text": "62",
          "x": 14.549999999999999,
          "xref": "x",
          "y": 3.45,
          "yref": "y"
         },
         {
          "font": {
           "color": "orange",
           "size": 12
          },
          "showarrow": false,
          "text": "63",
          "x": 1.9500000000000002,
          "xref": "x",
          "y": 9.45,
          "yref": "y"
         },
         {
          "font": {
           "color": "orange",
           "size": 12
          },
          "showarrow": false,
          "text": "64",
          "x": 9.95,
          "xref": "x",
          "y": 9.45,
          "yref": "y"
         },
         {
          "font": {
           "color": "orange",
           "size": 12
          },
          "showarrow": false,
          "text": "65",
          "x": 12.95,
          "xref": "x",
          "y": 4.949999999999999,
          "yref": "y"
         },
         {
          "font": {
           "color": "orange",
           "size": 12
          },
          "showarrow": false,
          "text": "66",
          "x": 10.95,
          "xref": "x",
          "y": 14.549999999999999,
          "yref": "y"
         },
         {
          "font": {
           "color": "orange",
           "size": 12
          },
          "showarrow": false,
          "text": "67",
          "x": 3.45,
          "xref": "x",
          "y": 3.45,
          "yref": "y"
         },
         {
          "font": {
           "color": "orange",
           "size": 12
          },
          "showarrow": false,
          "text": "68",
          "x": 8.75,
          "xref": "x",
          "y": 4.949999999999999,
          "yref": "y"
         },
         {
          "font": {
           "color": "orange",
           "size": 12
          },
          "showarrow": false,
          "text": "69",
          "x": 6.449999999999999,
          "xref": "x",
          "y": 6.449999999999999,
          "yref": "y"
         },
         {
          "font": {
           "color": "orange",
           "size": 12
          },
          "showarrow": false,
          "text": "70",
          "x": 13.75,
          "xref": "x",
          "y": 7.949999999999999,
          "yref": "y"
         },
         {
          "font": {
           "color": "orange",
           "size": 12
          },
          "showarrow": false,
          "text": "71",
          "x": 5.75,
          "xref": "x",
          "y": 1.9500000000000002,
          "yref": "y"
         },
         {
          "font": {
           "color": "orange",
           "size": 12
          },
          "showarrow": false,
          "text": "72",
          "x": 3.45,
          "xref": "x",
          "y": 10.25,
          "yref": "y"
         },
         {
          "font": {
           "color": "orange",
           "size": 12
          },
          "showarrow": false,
          "text": "73",
          "x": 1.9500000000000002,
          "xref": "x",
          "y": 3.45,
          "yref": "y"
         },
         {
          "font": {
           "color": "orange",
           "size": 12
          },
          "showarrow": false,
          "text": "74",
          "x": 12.45,
          "xref": "x",
          "y": 7.949999999999999,
          "yref": "y"
         },
         {
          "font": {
           "color": "orange",
           "size": 12
          },
          "showarrow": false,
          "text": "75",
          "x": 9.45,
          "xref": "x",
          "y": 15.35,
          "yref": "y"
         },
         {
          "font": {
           "color": "orange",
           "size": 12
          },
          "showarrow": false,
          "text": "76",
          "x": 11.25,
          "xref": "x",
          "y": 10.95,
          "yref": "y"
         },
         {
          "font": {
           "color": "orange",
           "size": 12
          },
          "showarrow": false,
          "text": "77",
          "x": 7.949999999999999,
          "xref": "x",
          "y": 13.049999999999999,
          "yref": "y"
         },
         {
          "font": {
           "color": "orange",
           "size": 12
          },
          "showarrow": false,
          "text": "78",
          "x": 4.949999999999999,
          "xref": "x",
          "y": 4.949999999999999,
          "yref": "y"
         },
         {
          "font": {
           "color": "orange",
           "size": 12
          },
          "showarrow": false,
          "text": "79",
          "x": 14.95,
          "xref": "x",
          "y": 13.95,
          "yref": "y"
         },
         {
          "font": {
           "color": "orange",
           "size": 12
          },
          "showarrow": false,
          "text": "80",
          "x": 4.55,
          "xref": "x",
          "y": 10.95,
          "yref": "y"
         },
         {
          "font": {
           "color": "orange",
           "size": 12
          },
          "showarrow": false,
          "text": "81",
          "x": 3.15,
          "xref": "x",
          "y": 12.45,
          "yref": "y"
         },
         {
          "font": {
           "color": "orange",
           "size": 12
          },
          "showarrow": false,
          "text": "82",
          "x": 12.45,
          "xref": "x",
          "y": 12.45,
          "yref": "y"
         },
         {
          "font": {
           "color": "orange",
           "size": 12
          },
          "showarrow": false,
          "text": "83",
          "x": 9.45,
          "xref": "x",
          "y": 10.95,
          "yref": "y"
         },
         {
          "font": {
           "color": "orange",
           "size": 12
          },
          "showarrow": false,
          "text": "84",
          "x": 11.65,
          "xref": "x",
          "y": 9.35,
          "yref": "y"
         },
         {
          "font": {
           "color": "orange",
           "size": 12
          },
          "showarrow": false,
          "text": "85",
          "x": 7.949999999999999,
          "xref": "x",
          "y": 4.949999999999999,
          "yref": "y"
         },
         {
          "font": {
           "color": "orange",
           "size": 12
          },
          "showarrow": false,
          "text": "86",
          "x": 3.45,
          "xref": "x",
          "y": 10.95,
          "yref": "y"
         },
         {
          "font": {
           "color": "orange",
           "size": 12
          },
          "showarrow": false,
          "text": "87",
          "x": 6.55,
          "xref": "x",
          "y": 15.35,
          "yref": "y"
         },
         {
          "font": {
           "color": "orange",
           "size": 12
          },
          "showarrow": false,
          "text": "88",
          "x": 14.45,
          "xref": "x",
          "y": 10.95,
          "yref": "y"
         },
         {
          "font": {
           "color": "orange",
           "size": 12
          },
          "showarrow": false,
          "text": "89",
          "x": 13.549999999999999,
          "xref": "x",
          "y": 14.85,
          "yref": "y"
         },
         {
          "font": {
           "color": "orange",
           "size": 12
          },
          "showarrow": false,
          "text": "90",
          "x": 12.35,
          "xref": "x",
          "y": 7.449999999999999,
          "yref": "y"
         },
         {
          "font": {
           "color": "orange",
           "size": 12
          },
          "showarrow": false,
          "text": "91",
          "x": 11.15,
          "xref": "x",
          "y": 2.65,
          "yref": "y"
         },
         {
          "font": {
           "color": "orange",
           "size": 12
          },
          "showarrow": false,
          "text": "92",
          "x": 13.85,
          "xref": "x",
          "y": 9.65,
          "yref": "y"
         },
         {
          "font": {
           "color": "orange",
           "size": 12
          },
          "showarrow": false,
          "text": "93",
          "x": 9.75,
          "xref": "x",
          "y": 2.75,
          "yref": "y"
         },
         {
          "font": {
           "color": "orange",
           "size": 12
          },
          "showarrow": false,
          "text": "94",
          "x": 15.15,
          "xref": "x",
          "y": 6.25,
          "yref": "y"
         },
         {
          "font": {
           "color": "orange",
           "size": 12
          },
          "showarrow": false,
          "text": "95",
          "x": 8.65,
          "xref": "x",
          "y": 13.549999999999999,
          "yref": "y"
         },
         {
          "font": {
           "color": "orange",
           "size": 12
          },
          "showarrow": false,
          "text": "96",
          "x": 11.35,
          "xref": "x",
          "y": 5.6499999999999995,
          "yref": "y"
         },
         {
          "font": {
           "color": "orange",
           "size": 12
          },
          "showarrow": false,
          "text": "97",
          "x": 3.65,
          "xref": "x",
          "y": 14.549999999999999,
          "yref": "y"
         },
         {
          "font": {
           "color": "orange",
           "size": 12
          },
          "showarrow": false,
          "text": "98",
          "x": 6.1499999999999995,
          "xref": "x",
          "y": 13.35,
          "yref": "y"
         },
         {
          "font": {
           "color": "orange",
           "size": 12
          },
          "showarrow": false,
          "text": "99",
          "x": 13.049999999999999,
          "xref": "x",
          "y": 11.25,
          "yref": "y"
         }
        ],
        "autosize": false,
        "height": 800,
        "template": {
         "data": {
          "bar": [
           {
            "error_x": {
             "color": "#2a3f5f"
            },
            "error_y": {
             "color": "#2a3f5f"
            },
            "marker": {
             "line": {
              "color": "#E5ECF6",
              "width": 0.5
             },
             "pattern": {
              "fillmode": "overlay",
              "size": 10,
              "solidity": 0.2
             }
            },
            "type": "bar"
           }
          ],
          "barpolar": [
           {
            "marker": {
             "line": {
              "color": "#E5ECF6",
              "width": 0.5
             },
             "pattern": {
              "fillmode": "overlay",
              "size": 10,
              "solidity": 0.2
             }
            },
            "type": "barpolar"
           }
          ],
          "carpet": [
           {
            "aaxis": {
             "endlinecolor": "#2a3f5f",
             "gridcolor": "white",
             "linecolor": "white",
             "minorgridcolor": "white",
             "startlinecolor": "#2a3f5f"
            },
            "baxis": {
             "endlinecolor": "#2a3f5f",
             "gridcolor": "white",
             "linecolor": "white",
             "minorgridcolor": "white",
             "startlinecolor": "#2a3f5f"
            },
            "type": "carpet"
           }
          ],
          "choropleth": [
           {
            "colorbar": {
             "outlinewidth": 0,
             "ticks": ""
            },
            "type": "choropleth"
           }
          ],
          "contour": [
           {
            "colorbar": {
             "outlinewidth": 0,
             "ticks": ""
            },
            "colorscale": [
             [
              0,
              "#0d0887"
             ],
             [
              0.1111111111111111,
              "#46039f"
             ],
             [
              0.2222222222222222,
              "#7201a8"
             ],
             [
              0.3333333333333333,
              "#9c179e"
             ],
             [
              0.4444444444444444,
              "#bd3786"
             ],
             [
              0.5555555555555556,
              "#d8576b"
             ],
             [
              0.6666666666666666,
              "#ed7953"
             ],
             [
              0.7777777777777778,
              "#fb9f3a"
             ],
             [
              0.8888888888888888,
              "#fdca26"
             ],
             [
              1,
              "#f0f921"
             ]
            ],
            "type": "contour"
           }
          ],
          "contourcarpet": [
           {
            "colorbar": {
             "outlinewidth": 0,
             "ticks": ""
            },
            "type": "contourcarpet"
           }
          ],
          "heatmap": [
           {
            "colorbar": {
             "outlinewidth": 0,
             "ticks": ""
            },
            "colorscale": [
             [
              0,
              "#0d0887"
             ],
             [
              0.1111111111111111,
              "#46039f"
             ],
             [
              0.2222222222222222,
              "#7201a8"
             ],
             [
              0.3333333333333333,
              "#9c179e"
             ],
             [
              0.4444444444444444,
              "#bd3786"
             ],
             [
              0.5555555555555556,
              "#d8576b"
             ],
             [
              0.6666666666666666,
              "#ed7953"
             ],
             [
              0.7777777777777778,
              "#fb9f3a"
             ],
             [
              0.8888888888888888,
              "#fdca26"
             ],
             [
              1,
              "#f0f921"
             ]
            ],
            "type": "heatmap"
           }
          ],
          "heatmapgl": [
           {
            "colorbar": {
             "outlinewidth": 0,
             "ticks": ""
            },
            "colorscale": [
             [
              0,
              "#0d0887"
             ],
             [
              0.1111111111111111,
              "#46039f"
             ],
             [
              0.2222222222222222,
              "#7201a8"
             ],
             [
              0.3333333333333333,
              "#9c179e"
             ],
             [
              0.4444444444444444,
              "#bd3786"
             ],
             [
              0.5555555555555556,
              "#d8576b"
             ],
             [
              0.6666666666666666,
              "#ed7953"
             ],
             [
              0.7777777777777778,
              "#fb9f3a"
             ],
             [
              0.8888888888888888,
              "#fdca26"
             ],
             [
              1,
              "#f0f921"
             ]
            ],
            "type": "heatmapgl"
           }
          ],
          "histogram": [
           {
            "marker": {
             "pattern": {
              "fillmode": "overlay",
              "size": 10,
              "solidity": 0.2
             }
            },
            "type": "histogram"
           }
          ],
          "histogram2d": [
           {
            "colorbar": {
             "outlinewidth": 0,
             "ticks": ""
            },
            "colorscale": [
             [
              0,
              "#0d0887"
             ],
             [
              0.1111111111111111,
              "#46039f"
             ],
             [
              0.2222222222222222,
              "#7201a8"
             ],
             [
              0.3333333333333333,
              "#9c179e"
             ],
             [
              0.4444444444444444,
              "#bd3786"
             ],
             [
              0.5555555555555556,
              "#d8576b"
             ],
             [
              0.6666666666666666,
              "#ed7953"
             ],
             [
              0.7777777777777778,
              "#fb9f3a"
             ],
             [
              0.8888888888888888,
              "#fdca26"
             ],
             [
              1,
              "#f0f921"
             ]
            ],
            "type": "histogram2d"
           }
          ],
          "histogram2dcontour": [
           {
            "colorbar": {
             "outlinewidth": 0,
             "ticks": ""
            },
            "colorscale": [
             [
              0,
              "#0d0887"
             ],
             [
              0.1111111111111111,
              "#46039f"
             ],
             [
              0.2222222222222222,
              "#7201a8"
             ],
             [
              0.3333333333333333,
              "#9c179e"
             ],
             [
              0.4444444444444444,
              "#bd3786"
             ],
             [
              0.5555555555555556,
              "#d8576b"
             ],
             [
              0.6666666666666666,
              "#ed7953"
             ],
             [
              0.7777777777777778,
              "#fb9f3a"
             ],
             [
              0.8888888888888888,
              "#fdca26"
             ],
             [
              1,
              "#f0f921"
             ]
            ],
            "type": "histogram2dcontour"
           }
          ],
          "mesh3d": [
           {
            "colorbar": {
             "outlinewidth": 0,
             "ticks": ""
            },
            "type": "mesh3d"
           }
          ],
          "parcoords": [
           {
            "line": {
             "colorbar": {
              "outlinewidth": 0,
              "ticks": ""
             }
            },
            "type": "parcoords"
           }
          ],
          "pie": [
           {
            "automargin": true,
            "type": "pie"
           }
          ],
          "scatter": [
           {
            "fillpattern": {
             "fillmode": "overlay",
             "size": 10,
             "solidity": 0.2
            },
            "type": "scatter"
           }
          ],
          "scatter3d": [
           {
            "line": {
             "colorbar": {
              "outlinewidth": 0,
              "ticks": ""
             }
            },
            "marker": {
             "colorbar": {
              "outlinewidth": 0,
              "ticks": ""
             }
            },
            "type": "scatter3d"
           }
          ],
          "scattercarpet": [
           {
            "marker": {
             "colorbar": {
              "outlinewidth": 0,
              "ticks": ""
             }
            },
            "type": "scattercarpet"
           }
          ],
          "scattergeo": [
           {
            "marker": {
             "colorbar": {
              "outlinewidth": 0,
              "ticks": ""
             }
            },
            "type": "scattergeo"
           }
          ],
          "scattergl": [
           {
            "marker": {
             "colorbar": {
              "outlinewidth": 0,
              "ticks": ""
             }
            },
            "type": "scattergl"
           }
          ],
          "scattermapbox": [
           {
            "marker": {
             "colorbar": {
              "outlinewidth": 0,
              "ticks": ""
             }
            },
            "type": "scattermapbox"
           }
          ],
          "scatterpolar": [
           {
            "marker": {
             "colorbar": {
              "outlinewidth": 0,
              "ticks": ""
             }
            },
            "type": "scatterpolar"
           }
          ],
          "scatterpolargl": [
           {
            "marker": {
             "colorbar": {
              "outlinewidth": 0,
              "ticks": ""
             }
            },
            "type": "scatterpolargl"
           }
          ],
          "scatterternary": [
           {
            "marker": {
             "colorbar": {
              "outlinewidth": 0,
              "ticks": ""
             }
            },
            "type": "scatterternary"
           }
          ],
          "surface": [
           {
            "colorbar": {
             "outlinewidth": 0,
             "ticks": ""
            },
            "colorscale": [
             [
              0,
              "#0d0887"
             ],
             [
              0.1111111111111111,
              "#46039f"
             ],
             [
              0.2222222222222222,
              "#7201a8"
             ],
             [
              0.3333333333333333,
              "#9c179e"
             ],
             [
              0.4444444444444444,
              "#bd3786"
             ],
             [
              0.5555555555555556,
              "#d8576b"
             ],
             [
              0.6666666666666666,
              "#ed7953"
             ],
             [
              0.7777777777777778,
              "#fb9f3a"
             ],
             [
              0.8888888888888888,
              "#fdca26"
             ],
             [
              1,
              "#f0f921"
             ]
            ],
            "type": "surface"
           }
          ],
          "table": [
           {
            "cells": {
             "fill": {
              "color": "#EBF0F8"
             },
             "line": {
              "color": "white"
             }
            },
            "header": {
             "fill": {
              "color": "#C8D4E3"
             },
             "line": {
              "color": "white"
             }
            },
            "type": "table"
           }
          ]
         },
         "layout": {
          "annotationdefaults": {
           "arrowcolor": "#2a3f5f",
           "arrowhead": 0,
           "arrowwidth": 1
          },
          "autotypenumbers": "strict",
          "coloraxis": {
           "colorbar": {
            "outlinewidth": 0,
            "ticks": ""
           }
          },
          "colorscale": {
           "diverging": [
            [
             0,
             "#8e0152"
            ],
            [
             0.1,
             "#c51b7d"
            ],
            [
             0.2,
             "#de77ae"
            ],
            [
             0.3,
             "#f1b6da"
            ],
            [
             0.4,
             "#fde0ef"
            ],
            [
             0.5,
             "#f7f7f7"
            ],
            [
             0.6,
             "#e6f5d0"
            ],
            [
             0.7,
             "#b8e186"
            ],
            [
             0.8,
             "#7fbc41"
            ],
            [
             0.9,
             "#4d9221"
            ],
            [
             1,
             "#276419"
            ]
           ],
           "sequential": [
            [
             0,
             "#0d0887"
            ],
            [
             0.1111111111111111,
             "#46039f"
            ],
            [
             0.2222222222222222,
             "#7201a8"
            ],
            [
             0.3333333333333333,
             "#9c179e"
            ],
            [
             0.4444444444444444,
             "#bd3786"
            ],
            [
             0.5555555555555556,
             "#d8576b"
            ],
            [
             0.6666666666666666,
             "#ed7953"
            ],
            [
             0.7777777777777778,
             "#fb9f3a"
            ],
            [
             0.8888888888888888,
             "#fdca26"
            ],
            [
             1,
             "#f0f921"
            ]
           ],
           "sequentialminus": [
            [
             0,
             "#0d0887"
            ],
            [
             0.1111111111111111,
             "#46039f"
            ],
            [
             0.2222222222222222,
             "#7201a8"
            ],
            [
             0.3333333333333333,
             "#9c179e"
            ],
            [
             0.4444444444444444,
             "#bd3786"
            ],
            [
             0.5555555555555556,
             "#d8576b"
            ],
            [
             0.6666666666666666,
             "#ed7953"
            ],
            [
             0.7777777777777778,
             "#fb9f3a"
            ],
            [
             0.8888888888888888,
             "#fdca26"
            ],
            [
             1,
             "#f0f921"
            ]
           ]
          },
          "colorway": [
           "#636efa",
           "#EF553B",
           "#00cc96",
           "#ab63fa",
           "#FFA15A",
           "#19d3f3",
           "#FF6692",
           "#B6E880",
           "#FF97FF",
           "#FECB52"
          ],
          "font": {
           "color": "#2a3f5f"
          },
          "geo": {
           "bgcolor": "white",
           "lakecolor": "white",
           "landcolor": "#E5ECF6",
           "showlakes": true,
           "showland": true,
           "subunitcolor": "white"
          },
          "hoverlabel": {
           "align": "left"
          },
          "hovermode": "closest",
          "mapbox": {
           "style": "light"
          },
          "paper_bgcolor": "white",
          "plot_bgcolor": "#E5ECF6",
          "polar": {
           "angularaxis": {
            "gridcolor": "white",
            "linecolor": "white",
            "ticks": ""
           },
           "bgcolor": "#E5ECF6",
           "radialaxis": {
            "gridcolor": "white",
            "linecolor": "white",
            "ticks": ""
           }
          },
          "scene": {
           "xaxis": {
            "backgroundcolor": "#E5ECF6",
            "gridcolor": "white",
            "gridwidth": 2,
            "linecolor": "white",
            "showbackground": true,
            "ticks": "",
            "zerolinecolor": "white"
           },
           "yaxis": {
            "backgroundcolor": "#E5ECF6",
            "gridcolor": "white",
            "gridwidth": 2,
            "linecolor": "white",
            "showbackground": true,
            "ticks": "",
            "zerolinecolor": "white"
           },
           "zaxis": {
            "backgroundcolor": "#E5ECF6",
            "gridcolor": "white",
            "gridwidth": 2,
            "linecolor": "white",
            "showbackground": true,
            "ticks": "",
            "zerolinecolor": "white"
           }
          },
          "shapedefaults": {
           "line": {
            "color": "#2a3f5f"
           }
          },
          "ternary": {
           "aaxis": {
            "gridcolor": "white",
            "linecolor": "white",
            "ticks": ""
           },
           "baxis": {
            "gridcolor": "white",
            "linecolor": "white",
            "ticks": ""
           },
           "bgcolor": "#E5ECF6",
           "caxis": {
            "gridcolor": "white",
            "linecolor": "white",
            "ticks": ""
           }
          },
          "title": {
           "x": 0.05
          },
          "xaxis": {
           "automargin": true,
           "gridcolor": "white",
           "linecolor": "white",
           "ticks": "",
           "title": {
            "standoff": 15
           },
           "zerolinecolor": "white",
           "zerolinewidth": 2
          },
          "yaxis": {
           "automargin": true,
           "gridcolor": "white",
           "linecolor": "white",
           "ticks": "",
           "title": {
            "standoff": 15
           },
           "zerolinecolor": "white",
           "zerolinewidth": 2
          }
         }
        },
        "title": {
         "text": "Matheuristic Truck and Drone Optimal Tours"
        },
        "width": 800,
        "xaxis": {
         "constrain": "domain",
         "tickvals": [
          0,
          2,
          4,
          6,
          8,
          10,
          12,
          14,
          16,
          18,
          20,
          22,
          24
         ]
        },
        "yaxis": {
         "scaleanchor": "x",
         "tickvals": [
          0,
          2,
          4,
          6,
          8,
          10,
          12,
          14,
          16,
          18,
          20,
          22,
          24
         ]
        }
       }
      }
     },
     "metadata": {},
     "output_type": "display_data"
    }
   ],
   "source": [
    "# Create a list to store the table rows\n",
    "table_data = []\n",
    "\n",
    "# Calculate the total distance of the truck's tour\n",
    "total_two_opt_tour_distance_truck = helper.calculate_total_distance_time(two_opt_tour, dist_matrix)\n",
    "total_two_opt_tour_truck_duration = helper.calculate_total_distance_time(two_opt_tour, truck_time_matrix)\n",
    "\n",
    "total_two_opt_tour_truck_distance_with_drones = helper.calculate_total_distance_time(adjusted_two_opt_tour, dist_matrix)\n",
    "total_two_opt_tour_truck_duration_with_drones = helper.calculate_total_distance_time(adjusted_two_opt_tour, truck_time_matrix)\n",
    "\n",
    "total_gurobi_distance_truck = helper.calculate_total_distance_time(truck_tour_updated, dist_matrix)\n",
    "total_gurobi_truck_duration = helper.calculate_total_distance_time(truck_tour_updated, truck_time_matrix)\n",
    "\n",
    "# Append rows for total distances and durations\n",
    "table_data.append([\"Two opt heuristics truck tour [before adding the drone]\", f\"{total_two_opt_tour_distance_truck:.2f} miles\", f\"{total_two_opt_tour_truck_duration:.2f} minutes\"])\n",
    "table_data.append([\"Two opt heuristics truck tour [after adding the drone]\", f\"{total_two_opt_tour_truck_distance_with_drones:.2f} miles\", f\"{total_two_opt_tour_truck_duration_with_drones:.2f} minutes\"])\n",
    "\n",
    "#table_data.append([\"Sum of two_opt heuristics drone tours\", f\"{total_all_drone_tours_distance_two_opt:.2f} miles\", f\"{total_all_drone_tours_duration_two_opt:.2f} minutes\"])\n",
    "table_data.append([\"Sum of two_opt heuristics truck and drone tours combined\", f\"{total_all_drone_tours_distance_two_opt + total_two_opt_tour_truck_distance_with_drones:.2f} miles\", f\"{total_two_opt_tour_truck_duration_with_drones + total_all_drone_tours_duration_two_opt:.2f} minutes\"])\n",
    "\n",
    "helper.plot_tour(city_list, initial_tour, [], \"Nearest Neighbour Truck Tour\")\n",
    "\n",
    "helper.plot_tour(city_list, two_opt_tour, DRONE_PROHIBITED_CITIES, \"Two Opt Optimal Truck Tour\")\n",
    "\n",
    "helper.plot_tour(city_list, adjusted_two_opt_tour, DRONE_PROHIBITED_CITIES, \" Two-opt Truck and Drone Optimal Tours\", all_drone_tours_two_opt)\n",
    "\n",
    "table_data.append([\"Matheuristics truck tour\", f\"{total_gurobi_distance_truck:.2f} miles\", f\"{total_gurobi_truck_duration:.2f} minutes\"])\n",
    "#table_data.append([\"Total of Matheuristics drone tours\", f\"{total_all_drone_tours_distance:.2f} miles\", f\"{total_all_drone_tours_duration:.2f} minutes\"])\n",
    "table_data.append([\"Total of Matheuristics truck and drone tours combined\", f\"{total_all_drone_tours_distance + total_gurobi_distance_truck:.2f} miles\", f\"{total_gurobi_truck_duration + total_all_drone_tours_duration:.2f} minutes\"])\n",
    "\n",
    "# Plot the optimal tours\n",
    "helper.plot_tour(city_list, truck_tour_updated, DRONE_PROHIBITED_CITIES, \"Matheuristic Truck and Drone Optimal Tours\", all_drone_tours)\n",
    "\n",
    "# Print the table\n",
    "table_headers = [\"Tour Details\", \"Distance\", \"Duration\"]\n"
   ]
  },
  {
   "cell_type": "code",
   "execution_count": 23,
   "metadata": {},
   "outputs": [
    {
     "name": "stdout",
     "output_type": "stream",
     "text": [
      "\n",
      "\n",
      "\n",
      "================================RESULTS SUMMARY=================================\n",
      "╒══════════════════════════════════════════════════════════╤══════════════╤══════════════╕\n",
      "│ Tour Details                                             │ Distance     │ Duration     │\n",
      "╞══════════════════════════════════════════════════════════╪══════════════╪══════════════╡\n",
      "│ Two opt heuristics truck tour [before adding the drone]  │ 125.98 miles │ 3.60 minutes │\n",
      "├──────────────────────────────────────────────────────────┼──────────────┼──────────────┤\n",
      "│ Two opt heuristics truck tour [after adding the drone]   │ 121.44 miles │ 3.47 minutes │\n",
      "├──────────────────────────────────────────────────────────┼──────────────┼──────────────┤\n",
      "│ Sum of two_opt heuristics truck and drone tours combined │ 186.38 miles │ 4.77 minutes │\n",
      "├──────────────────────────────────────────────────────────┼──────────────┼──────────────┤\n",
      "│ Matheuristics truck tour                                 │ 116.05 miles │ 3.32 minutes │\n",
      "├──────────────────────────────────────────────────────────┼──────────────┼──────────────┤\n",
      "│ Total of Matheuristics truck and drone tours combined    │ 181.00 miles │ 4.61 minutes │\n",
      "╘══════════════════════════════════════════════════════════╧══════════════╧══════════════╛\n",
      "\n",
      "\n",
      "\n"
     ]
    }
   ],
   "source": [
    "# Print the table with the \"fancy_grid\" format\n",
    "print(\"\\n\\n\")\n",
    "print(\"RESULTS SUMMARY\".center(80, \"=\"))\n",
    "print(tabulate(table_data, headers=table_headers, tablefmt=\"fancy_grid\"))\n",
    "print(\"\\n\\n\")"
   ]
  },
  {
   "cell_type": "code",
   "execution_count": 24,
   "metadata": {},
   "outputs": [
    {
     "name": "stdout",
     "output_type": "stream",
     "text": [
      "\n",
      "\n",
      "\n",
      "===============================TWO-OPT HEURISTICS===============================\n",
      "╒══════════════════════════════════════════════════════════╤══════════════╤══════════════╕\n",
      "│ Tour Details                                             │ Distance     │ Duration     │\n",
      "╞══════════════════════════════════════════════════════════╪══════════════╪══════════════╡\n",
      "│ Two opt heuristics truck tour [before adding the drone]  │ 125.98 miles │ 3.60 minutes │\n",
      "├──────────────────────────────────────────────────────────┼──────────────┼──────────────┤\n",
      "│ Two opt heuristics truck tour [after adding the drone]   │ 121.44 miles │ 3.47 minutes │\n",
      "├──────────────────────────────────────────────────────────┼──────────────┼──────────────┤\n",
      "│ Sum of two_opt heuristics truck and drone tours combined │ 186.38 miles │ 4.77 minutes │\n",
      "╘══════════════════════════════════════════════════════════╧══════════════╧══════════════╛\n",
      "\n",
      "\n",
      "=================================MATHEURISTICS==================================\n",
      "╒═══════════════════════════════════════════════════════╤══════════════╤══════════════╕\n",
      "│ Tour Details                                          │ Distance     │ Duration     │\n",
      "╞═══════════════════════════════════════════════════════╪══════════════╪══════════════╡\n",
      "│ Matheuristics truck tour                              │ 116.05 miles │ 3.32 minutes │\n",
      "├───────────────────────────────────────────────────────┼──────────────┼──────────────┤\n",
      "│ Total of Matheuristics truck and drone tours combined │ 181.00 miles │ 4.61 minutes │\n",
      "╘═══════════════════════════════════════════════════════╧══════════════╧══════════════╛\n",
      "\n",
      "\n",
      "\n"
     ]
    }
   ],
   "source": [
    "# Add a title and separator for Two-opt Heuristics\n",
    "print(\"\\n\\n\")\n",
    "print(\"TWO-OPT HEURISTICS\".center(80, \"=\"))\n",
    "\n",
    "two_opt_data = [\n",
    "    table_data[0], \n",
    "    table_data[1], \n",
    "    table_data[2]\n",
    "]\n",
    "print(tabulate(two_opt_data, headers=table_headers, tablefmt=\"fancy_grid\"))\n",
    "\n",
    "# Add a title and separator for Matheuristics\n",
    "print(\"\\n\")\n",
    "print(\"MATHEURISTICS\".center(80, \"=\"))\n",
    "\n",
    "matheuristics_data = [\n",
    "    table_data[3],\n",
    "    table_data[4]\n",
    "]\n",
    "print(tabulate(matheuristics_data, headers=table_headers, tablefmt=\"fancy_grid\"))\n",
    "print(\"\\n\\n\")\n"
   ]
  },
  {
   "cell_type": "code",
   "execution_count": 25,
   "metadata": {},
   "outputs": [],
   "source": [
    "import warnings\n",
    "warnings.filterwarnings('ignore')"
   ]
  },
  {
   "cell_type": "code",
   "execution_count": 26,
   "metadata": {},
   "outputs": [
    {
     "data": {
      "image/png": "[encoded data removed]",
      "text/plain": [
       "<Figure size 600x600 with 1 Axes>"
      ]
     },
     "metadata": {},
     "output_type": "display_data"
    },
    {
     "data": {
      "image/png": "[encoded data removed]",
      "text/plain": [
       "<Figure size 600x600 with 1 Axes>"
      ]
     },
     "metadata": {},
     "output_type": "display_data"
    }
   ],
   "source": [
    "helper.plot_comparison(table_data)"
   ]
  },
  {
   "cell_type": "code",
   "execution_count": null,
   "metadata": {},
   "outputs": [],
   "source": []
  }
 ],
 "metadata": {
  "kernelspec": {
   "display_name": "Python 3",
   "language": "python",
   "name": "python3"
  },
  "language_info": {
   "codemirror_mode": {
    "name": "ipython",
    "version": 3
   },
   "file_extension": ".py",
   "mimetype": "text/x-python",
   "name": "python",
   "nbconvert_exporter": "python",
   "pygments_lexer": "ipython3",
   "version": "3.11.3"
  },
  "orig_nbformat": 4
 },
 "nbformat": 4,
 "nbformat_minor": 2
}
